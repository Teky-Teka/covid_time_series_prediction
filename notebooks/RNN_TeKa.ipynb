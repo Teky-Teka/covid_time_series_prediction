{
 "cells": [
  {
   "cell_type": "markdown",
   "id": "2cac72ae-9be5-43d4-87d3-b2319a0f757b",
   "metadata": {
    "tags": []
   },
   "source": [
    "# Deep Learning Time Series COVID-19 Cases Prediction"
   ]
  },
  {
   "cell_type": "markdown",
   "id": "6a246bb7-0cdf-4939-a4e9-870f871706f7",
   "metadata": {
    "tags": []
   },
   "source": [
    "## Project Setup"
   ]
  },
  {
   "cell_type": "markdown",
   "id": "97dd5297-79e4-4864-bb68-8deb37dbc70a",
   "metadata": {
    "tags": []
   },
   "source": [
    "### Dependencies importing"
   ]
  },
  {
   "cell_type": "code",
   "execution_count": 1,
   "id": "e6c99354",
   "metadata": {},
   "outputs": [],
   "source": [
    "# Auto reload imported module every time a jupyter cell is executed\n",
    "%load_ext autoreload\n",
    "%autoreload 2"
   ]
  },
  {
   "cell_type": "code",
   "execution_count": null,
   "id": "de425903-9365-4407-8ae8-9b20a6e41dd6",
   "metadata": {},
   "outputs": [],
   "source": [
    "import numpy as np\n",
    "import pandas as pd\n",
    "import scipy\n",
    "from statsmodels.tsa.stattools import acf, pacf\n",
    "from statsmodels.graphics.tsaplots import plot_acf, plot_pacf\n",
    "import matplotlib.pyplot as plt\n",
    "%matplotlib inline\n",
    "import plotly.express as px\n",
    "# from statsmodels.graphics.tsaplots import plot_acf, plot_pacf\n",
    "import requests\n",
    "import pandas_profiling\n",
    "from typing import overload\n",
    "from tensorflow.keras import layers\n",
    "from tensorflow.keras.callbacks import EarlyStopping\n",
    "from tensorflow.keras.layers.experimental.preprocessing import Normalization\n",
    "from tensorflow.keras.layers import Dense, SimpleRNN, LSTM, GRU, Flatten\n",
    "from tensorflow.keras.models import Sequential\n",
    "from tensorflow.keras.preprocessing.sequence import pad_sequences\n",
    "from tensorflow.keras.optimizers import RMSprop \n",
    "from covid_time_series_prediction.ml_logic import preprocessor\n",
    "from covid_time_series_prediction.dp_logic.sequencing import subsample_sequence, get_X_y, get_X_y_2\n",
    "from covid_time_series_prediction.dp_logic.RNN_model import model_run, get_RNN_model_API\n",
    "from covid_time_series_prediction.ml_logic.preprocessor import train_test_set\n",
    "from sklearn.preprocessing import MinMaxScaler, StandardScaler"
   ]
  },
  {
   "cell_type": "markdown",
   "id": "89c8b3bb-c12b-43a3-9dda-7bbd905f3622",
   "metadata": {
    "tags": []
   },
   "source": [
    "## Data loading"
   ]
  },
  {
   "cell_type": "code",
   "execution_count": 3,
   "id": "e857c603",
   "metadata": {},
   "outputs": [],
   "source": [
    "data_dir = '../data/raw_data/'\n",
    "\n",
    "df_raw_gov_response = pd.read_csv(data_dir + 'government_response_index_avg.csv')\n",
    "df_raw_health = pd.read_csv(data_dir + 'containment_health_index_avg.csv')\n",
    "df_raw_economic = pd.read_csv(data_dir + 'economic_support_index.csv')\n",
    "\n",
    "#### Vaccination\n",
    "df_raw_vaccination = pd.read_csv(data_dir + 'vaccinations.csv')\n",
    "df_raw_ages = pd.read_csv(data_dir + 'vaccinations-by-age-group.csv')\n",
    "\n",
    "\n",
    "#### Data Frame target\n",
    "df_raw_cases = pd.read_csv(data_dir + 'confirmed_cases.csv')\n",
    "df_raw_deaths = pd.read_csv(data_dir + 'confirmed_deaths.csv')\n",
    "\n",
    "#### Data multiple\n",
    "df_raw_school_closing=pd.read_csv(data_dir + 'c1m_school_closing.csv')\n",
    "df_raw_workplace_closing=pd.read_csv(data_dir + 'c2m_workplace_closing.csv')\n",
    "df_raw_cancel_public_event=pd.read_csv(data_dir + 'c3m_cancel_public_events.csv')\n",
    "df_raw_restriction_on_gathering=pd.read_csv(data_dir + 'c4m_restrictions_on_gatherings.csv')\n",
    "df_raw_stay_at_home=pd.read_csv(data_dir + 'c6m_stay_at_home_requirements.csv')\n",
    "df_raw_international_travel=pd.read_csv(data_dir + 'c6m_stay_at_home_requirements.csv')\n",
    "df_raw_goverment_response=pd.read_csv(data_dir + 'government_response_index_avg.csv')\n",
    "df_raw_facial_covering=pd.read_csv(data_dir + 'h6m_facial_coverings.csv')\n",
    "df_raw_vacination_policy=pd.read_csv(data_dir + 'h7_vaccination_policy.csv')\n"
   ]
  },
  {
   "cell_type": "markdown",
   "id": "b3f43d38",
   "metadata": {
    "tags": []
   },
   "source": [
    "### **Read out CSV** and **Set dataframe**"
   ]
  },
  {
   "cell_type": "markdown",
   "id": "eaecf123-5e8d-4e1e-b337-e0164c78fa4e",
   "metadata": {
    "jp-MarkdownHeadingCollapsed": true,
    "tags": []
   },
   "source": [
    "## DataFrames setting"
   ]
  },
  {
   "cell_type": "code",
   "execution_count": 4,
   "id": "17b592f6-4433-43a6-9641-43e70f42c17d",
   "metadata": {
    "tags": []
   },
   "outputs": [
    {
     "data": {
      "text/plain": [
       "(         date  cancel_public_events  school_closing  \\\n",
       " 0  2020-02-15                   0.0             0.0   \n",
       " 1  2020-02-16                   0.0             0.0   \n",
       " 2  2020-02-17                   0.0             0.0   \n",
       " 3  2020-02-18                   0.0             0.0   \n",
       " 4  2020-02-19                   0.0             0.0   \n",
       " \n",
       "    restrictions_on_gathering  close_public_transport  \\\n",
       " 0                        0.0                     0.0   \n",
       " 1                        0.0                     0.0   \n",
       " 2                        0.0                     0.0   \n",
       " 3                        0.0                     0.0   \n",
       " 4                        0.0                     0.0   \n",
       " \n",
       "    stay_at_home_requirements  restrictions_on_internal_movement  \\\n",
       " 0                        0.0                                0.0   \n",
       " 1                        0.0                                0.0   \n",
       " 2                        0.0                                0.0   \n",
       " 3                        0.0                                0.0   \n",
       " 4                        0.0                                0.0   \n",
       " \n",
       "    international_travel_controls  income_support  debt/contract_relief  ...  \\\n",
       " 0                            0.0             0.0                   0.0  ...   \n",
       " 1                            0.0             0.0                   0.0  ...   \n",
       " 2                            0.0             0.0                   0.0  ...   \n",
       " 3                            0.0             0.0                   0.0  ...   \n",
       " 4                            0.0             0.0                   0.0  ...   \n",
       " \n",
       "    protection_of_elderly_people  total_cases  new_cases  total_deaths  \\\n",
       " 0                           0.0         12.0        1.0           1.0   \n",
       " 1                           0.0         12.0        0.0           1.0   \n",
       " 2                           0.0         12.0        0.0           1.0   \n",
       " 3                           0.0         12.0        0.0           1.0   \n",
       " 4                           0.0         12.0        0.0           1.0   \n",
       " \n",
       "    new_deaths  workplace_closing  total_vaccinations  people_vaccinated  \\\n",
       " 0         1.0                0.0                 0.0                0.0   \n",
       " 1         0.0                0.0                 0.0                0.0   \n",
       " 2         0.0                0.0                 0.0                0.0   \n",
       " 3         0.0                0.0                 0.0                0.0   \n",
       " 4         0.0                0.0                 0.0                0.0   \n",
       " \n",
       "    people_fully_vaccinated  total_boosters  \n",
       " 0                      0.0             0.0  \n",
       " 1                      0.0             0.0  \n",
       " 2                      0.0             0.0  \n",
       " 3                      0.0             0.0  \n",
       " 4                      0.0             0.0  \n",
       " \n",
       " [5 rows x 25 columns],\n",
       "          date  containment_and_health  stringency  economics_sup  total_cases  \\\n",
       " 0  2020-02-15                0.026779      0.0124            0.0         12.0   \n",
       " 1  2020-02-16                0.026779      0.0124            0.0         12.0   \n",
       " 2  2020-02-17                0.026779      0.0124            0.0         12.0   \n",
       " 3  2020-02-18                0.026779      0.0124            0.0         12.0   \n",
       " 4  2020-02-19                0.026779      0.0124            0.0         12.0   \n",
       " \n",
       "    new_cases  total_deaths  new_deaths  gov_response  total_vaccinations  \\\n",
       " 0        1.0           1.0         1.0       0.02392                 0.0   \n",
       " 1        0.0           1.0         0.0       0.02392                 0.0   \n",
       " 2        0.0           1.0         0.0       0.02392                 0.0   \n",
       " 3        0.0           1.0         0.0       0.02392                 0.0   \n",
       " 4        0.0           1.0         0.0       0.02392                 0.0   \n",
       " \n",
       "    people_vaccinated  people_fully_vaccinated  total_boosters  \n",
       " 0                0.0                      0.0             0.0  \n",
       " 1                0.0                      0.0             0.0  \n",
       " 2                0.0                      0.0             0.0  \n",
       " 3                0.0                      0.0             0.0  \n",
       " 4                0.0                      0.0             0.0  )"
      ]
     },
     "execution_count": 4,
     "metadata": {},
     "output_type": "execute_result"
    }
   ],
   "source": [
    "#### CSV Data out project directory\n",
    "csv_dir = '../data/out_csv/'\n",
    "# ! unzip {csv_dir}usa_index\n",
    "# ! unzip {csv_dir}usa_indicator\n",
    "# ! rm ECG_data.zip\n",
    "df_fr_index =  pd.read_csv(csv_dir + 'index_FRA.csv')\n",
    "df_fr_indicator =  pd.read_csv(csv_dir + 'indicator_FRA.csv')\n",
    "df_fr_index, df_fr_indicator\n",
    "\n",
    "\n",
    "# Sumedha csv test\n",
    "df_ts_fra_index =  df_fr_index.copy()\n",
    "df_ts_fra_indicator =  df_fr_indicator.copy()\n",
    "\n",
    "df_ts_fra_index.head(), df_ts_fra_indicator.head()"
   ]
  },
  {
   "cell_type": "code",
   "execution_count": 5,
   "id": "7f0a8973-c402-4ec9-93e8-e9254458cc1d",
   "metadata": {
    "tags": []
   },
   "outputs": [],
   "source": [
    "df_ts_fra_indicator = df_ts_fra_indicator.set_index('date')\n",
    "X_ts_fra_indicator = df_ts_fra_indicator.drop(columns=['total_deaths','new_deaths','new_cases'])\n",
    "y_ts_fra_indicator = df_ts_fra_indicator['total_deaths']"
   ]
  },
  {
   "cell_type": "markdown",
   "id": "e122911e-70c8-4131-bf2f-8db270b3ac93",
   "metadata": {
    "tags": []
   },
   "source": [
    "## TENSORFLOW & RNN MODEL"
   ]
  },
  {
   "cell_type": "markdown",
   "id": "f636afbb-aab0-4500-897b-311961289203",
   "metadata": {
    "tags": []
   },
   "source": [
    "### Recurrent Neural Network (sequences data) modeling"
   ]
  },
  {
   "cell_type": "markdown",
   "id": "b78f081b-7ee6-405b-8e13-04bf267ac2e3",
   "metadata": {
    "tags": []
   },
   "source": [
    "### Samples/Sequences, Observations, Features"
   ]
  },
  {
   "cell_type": "markdown",
   "id": "b6427dc3-25b3-4a5a-abba-20e92d67ab1b",
   "metadata": {},
   "source": [
    "X.shape = (n_SEQUENCES, n_OBSERVATIONS, n_FEATURES) and y = RNN(X) where $X_{i,j}^{t}$\n",
    "\n",
    "with $_{i}$ is the sample/sequence, $_{j}$ is the feature measured and  $^{t}$ is the time at which the observation is seen"
   ]
  },
  {
   "cell_type": "markdown",
   "id": "8f8151dc-1f0e-4981-91a0-c1164230af26",
   "metadata": {},
   "source": [
    "\n",
    "\n",
    "### Prerequisites:\n",
    "\n",
    "- **retrieve dataset** from Sumedha & Alberto\n",
    "\n",
    "    - **clean dataset**: \n",
    "        \n",
    "        - **drop first lines == 0** *(before Covid arrived)*\n",
    "        \n",
    "        - **check Nan**: \n",
    "- **strategy 1 country by country** sequences split as follow:\n",
    "\n",
    "- **strategy 2 one sequence per country**:\n",
    "    - **split X train, set** \n",
    "    - **Pad sequences**\n",
    "    - **create one csv per country**"
   ]
  },
  {
   "cell_type": "markdown",
   "id": "32848eaa-a889-47ee-972c-e9f2e54214cc",
   "metadata": {},
   "source": [
    "## Training strategies:\n",
    "- Get NB dataset (cleaned) from Alberto & Sumedha\n",
    "- 1/ Indicator in precentage %\n",
    "- 2/ Indicator as categorical labels\n",
    "- Run same RNN model in parallel with Kim & Thomas\n",
    "- Identify best dataset\n",
    "- Parameters to fit:\n",
    "    - increase **nb of sequences**\n",
    "    - train series modulation (ex: [50, 150, 200, 300, 400 nb of days = n_obs]) < take time to compute\n",
    "    - **learning_rate** in Optimizer(parameters)\n",
    "    - model layers architecture (**simple** -> complex) (less data -> more data) (print(loss) function check lecture)\n",
    "        > LSTM\n",
    "        > Dense\n",
    "       (> LSTM\n",
    "        > LSTM\n",
    "        > Dense)\n",
    "     >> **try to overfit** the model with the loss (train over val) or (early_stopping)\n",
    "     >> **(X_val, y_val)**"
   ]
  },
  {
   "cell_type": "markdown",
   "id": "6775435d-8b7a-4742-bcb2-a76e1c2ffb1c",
   "metadata": {
    "tags": []
   },
   "source": [
    "## **RNN** models on **FRA** country with **Alberto**'s datasets"
   ]
  },
  {
   "cell_type": "code",
   "execution_count": 6,
   "id": "648961ed-ee19-4342-b137-8f5029082404",
   "metadata": {},
   "outputs": [
    {
     "name": "stdout",
     "output_type": "stream",
     "text": [
      "n_seq\t\t 200 \n",
      "n_seq_val\t 40 \n",
      "n_seq_test\t 20 \n",
      "n_obs\t\t 70 \n",
      "n_feat\t\t 20\n"
     ]
    }
   ],
   "source": [
    "# Alberto train set\n",
    "n_seq = 200 ## nb of sequences (samples)\n",
    "n_obs = [70, 65, 60] # maxi = 96 (stay around 70 or more test_split)\n",
    "n_obs = 70 # maxi = 96 (stay around 70 or more test_split)\n",
    "n_feat = 20 #  X_train.shape[1] # 20 feature:\n",
    "n_pred = 10 # nb of days where we can predict new daily deaths\n",
    "n_pred = 1 ## <<< REMOVE AFTER OK TESTING!\n",
    "n_seq_val = n_seq // 5 # number of sequences in test set ?\n",
    "n_seq_test = n_seq // 10 # number of sequences in test set ?\n",
    "print('n_seq\\t\\t', n_seq, '\\nn_seq_val\\t', n_seq_val, '\\nn_seq_test\\t', n_seq_test, '\\nn_obs\\t\\t', n_obs, '\\nn_feat\\t\\t', n_feat)"
   ]
  },
  {
   "cell_type": "markdown",
   "id": "3245d337-90d7-47b1-a4ee-b508e8731c39",
   "metadata": {
    "tags": []
   },
   "source": [
    "### Train Splitting\n",
    "\n",
    "Split the dataset into training, validation, and test data"
   ]
  },
  {
   "cell_type": "code",
   "execution_count": 7,
   "id": "4fe70c0f",
   "metadata": {},
   "outputs": [
    {
     "name": "stdout",
     "output_type": "stream",
     "text": [
      "X_train.shape\t (673, 21) \t->\ty_train shape\t (673,) \n",
      "X_val.shape\t (192, 21) \t->\ty_val shape\t (192,) \n",
      "X_test.shape\t (97, 21) \t->\ty_test shape\t (97,)\n"
     ]
    }
   ],
   "source": [
    "# Alberto train set\n",
    "X_train, y_train, X_val, y_val, X_test, y_test = train_test_set('Vietnam', split_train=0.7, split_val=0.9)\n",
    "print('X_train.shape\\t', X_train.shape, '\\t->\\ty_train shape\\t', y_train.shape, '\\nX_val.shape\\t', X_val.shape, '\\t->\\ty_val shape\\t', y_val.shape, '\\nX_test.shape\\t', X_test.shape, '\\t->\\ty_test shape\\t', y_test.shape)"
   ]
  },
  {
   "cell_type": "markdown",
   "id": "33a4fba2-9562-49eb-9b94-7c5ab57fd163",
   "metadata": {
    "tags": []
   },
   "source": [
    "#### Create sequences (`X`,`y`, `X_len`, `y_len`)"
   ]
  },
  {
   "cell_type": "markdown",
   "id": "6a3e6437-7538-4c29-b8d9-d00d4d804064",
   "metadata": {
    "tags": []
   },
   "source": [
    "##### Generates an entire dataset of multiple subsamples with shape $(X, y)$"
   ]
  },
  {
   "cell_type": "code",
   "execution_count": 8,
   "id": "c3af4e7e-d602-4fcd-a36a-942ab4dc0b72",
   "metadata": {
    "tags": []
   },
   "outputs": [
    {
     "name": "stdout",
     "output_type": "stream",
     "text": [
      "n_seq_test / n_obs / n_feat 20 70 20 \n",
      "X_test.shape (20, 70, 21) y_test.shape (20, 1)\n"
     ]
    }
   ],
   "source": [
    "X_test, y_test = get_X_y_2(X_test, y_test, X_len=n_obs, y_len=n_pred, n_sequences=n_seq_test)\n",
    "print('n_seq_test / n_obs / n_feat', n_seq_test, n_obs, n_feat, '\\nX_test.shape', X_test.shape, 'y_test.shape', y_test.shape) "
   ]
  },
  {
   "cell_type": "code",
   "execution_count": 9,
   "id": "7826c700-4273-4cd3-b7d7-4c3cca2b3582",
   "metadata": {
    "tags": []
   },
   "outputs": [
    {
     "name": "stdout",
     "output_type": "stream",
     "text": [
      "n_seq / n_obs / n_feat 200 70 20 \n",
      "X_train.shape (200, 70, 21) y_train.shape (200, 1)\n"
     ]
    }
   ],
   "source": [
    "X_train, y_train = get_X_y_2(X_train, y_train, X_len=n_obs, y_len=n_pred, n_sequences=n_seq)\n",
    "print('n_seq / n_obs / n_feat', n_seq, n_obs, n_feat, '\\nX_train.shape', X_train.shape, 'y_train.shape', y_train.shape) "
   ]
  },
  {
   "cell_type": "code",
   "execution_count": 10,
   "id": "7b232f85-3b62-4392-ad62-6cab9507d5b1",
   "metadata": {
    "tags": []
   },
   "outputs": [
    {
     "name": "stdout",
     "output_type": "stream",
     "text": [
      "n_seq_val / n_obs / n_feat 40 70 20 \n",
      "X_val.shape (40, 70, 21) y_val.shape (40, 1)\n"
     ]
    }
   ],
   "source": [
    "X_val, y_val = get_X_y_2(X_val, y_val, X_len=n_obs, y_len=n_pred, n_sequences=n_seq_val)\n",
    "print('n_seq_val / n_obs / n_feat', n_seq_val, n_obs, n_feat, '\\nX_val.shape', X_val.shape, 'y_val.shape', y_val.shape) "
   ]
  },
  {
   "cell_type": "markdown",
   "id": "efe229ed-38be-485e-9314-5a3c04da8847",
   "metadata": {
    "tags": []
   },
   "source": [
    "##### How to split sequences?"
   ]
  },
  {
   "cell_type": "markdown",
   "id": "c49128bf-f5e8-4319-8635-fa1f63c29ceb",
   "metadata": {
    "tags": []
   },
   "source": [
    "\n",
    "\n",
    "- randomly or\n",
    "\n",
    "- manually"
   ]
  },
  {
   "cell_type": "markdown",
   "id": "ad867c99-9dd9-4dc5-9cda-de741bf57ca2",
   "metadata": {
    "tags": []
   },
   "source": [
    "##### **train_rnn_model(model, patience=2, epochs=200):**\n",
    "\n",
    "function to generates an entire dataset of multiple subsamples suitable for RNN, that is, $(X, y)$ of shape:\n",
    "\n",
    "```python\n",
    "X.shape = (n_sequences, length, n_features)\n",
    "y.shape = (n_sequences, )\n",
    "```"
   ]
  },
  {
   "cell_type": "markdown",
   "id": "61ece011-197d-439e-b405-ee2370c9773d",
   "metadata": {
    "tags": []
   },
   "source": [
    "### Model #4 Training"
   ]
  },
  {
   "cell_type": "code",
   "execution_count": 11,
   "id": "f844bf09",
   "metadata": {},
   "outputs": [
    {
     "name": "stdout",
     "output_type": "stream",
     "text": [
      "X_train.shape\t (200, 70, 21) \t->\ty_train shape\t (200, 1) \n",
      "X_val.shape\t (40, 70, 21) \t->\ty_val shape\t (40, 1) \n",
      "X_test.shape\t (20, 70, 21) \t->\ty_test shape\t (20, 1)\n",
      "type(X_train)\t <class 'numpy.ndarray'> \t->\ttype(y_train)\t <class 'numpy.ndarray'> \n",
      "type(X_val)\t <class 'numpy.ndarray'> \t->\ttype(y_val)\t <class 'numpy.ndarray'> \n",
      "type(X_test)\t <class 'numpy.ndarray'> \t->\ttype(y_test)\t <class 'numpy.ndarray'>\n"
     ]
    }
   ],
   "source": [
    "print('X_train.shape\\t', X_train.shape, '\\t->\\ty_train shape\\t', y_train.shape, '\\nX_val.shape\\t', X_val.shape, '\\t->\\ty_val shape\\t', y_val.shape, '\\nX_test.shape\\t', X_test.shape, '\\t->\\ty_test shape\\t', y_test.shape)\n",
    "print('type(X_train)\\t', type(X_train), '\\t->\\ttype(y_train)\\t', type(y_train), '\\ntype(X_val)\\t', type(X_val), '\\t->\\ttype(y_val)\\t', type(y_val), '\\ntype(X_test)\\t', type(X_test), '\\t->\\ttype(y_test)\\t', type(y_test))\n"
   ]
  },
  {
   "cell_type": "markdown",
   "id": "dedde9ad-70b1-4e66-8b92-02ed3432da4f",
   "metadata": {
    "tags": []
   },
   "source": [
    "### LET TEST IT NOW!\n",
    "\n",
    "model_run(country_name=\n",
    "          'France', n_seq=200, n_obs=[55, 60, 65, 70], n_feat=20, n_pred=1, split_train=0.7, split_val=0.9, learning_rates=[0.001, 0.01, 0.1])"
   ]
  },
  {
   "cell_type": "code",
   "execution_count": 12,
   "id": "d78b6ba8-82d4-4004-91dc-b1787bfb617d",
   "metadata": {},
   "outputs": [
    {
     "name": "stderr",
     "output_type": "stream",
     "text": [
      "2022-09-14 16:12:41.380112: I tensorflow/core/platform/cpu_feature_guard.cc:151] This TensorFlow binary is optimized with oneAPI Deep Neural Network Library (oneDNN) to use the following CPU instructions in performance-critical operations:  SSE4.2\n",
      "To enable them in other operations, rebuild TensorFlow with the appropriate compiler flags.\n"
     ]
    },
    {
     "name": "stdout",
     "output_type": "stream",
     "text": [
      "n_seq\t\t 200 \n",
      "n_seq_val\t 40 \n",
      "n_seq_test\t 20 \n",
      "n_obs\t\t 60 \n",
      "n_feat\t\t 20 \n",
      "n_pred\t\t 10\n",
      "X_train\t (672, 21) \t->\ty_train\t (672,) \n",
      "X_val\t (192, 21) \t->\ty_val\t (192,) \n",
      "X_test\t (97, 21) \t->\ty_test\t (97,)\n",
      "X_train_seq (200, 60, 21) \t->\ty_train_seq\t (200, 10) \n",
      "X_val_seq (40, 60, 21) \t->\ty_val_seq\t (40, 10) \n",
      "X_test_seq (20, 60, 21) \t->\ty_test_seq\t (20, 10)\n",
      "Model: \"sequential\"\n",
      "_________________________________________________________________\n",
      " Layer (type)                Output Shape              Param #   \n",
      "=================================================================\n",
      " lstm (LSTM)                 (None, 60, 20)            3360      \n",
      "                                                                 \n",
      " lstm_1 (LSTM)               (None, 10)                1240      \n",
      "                                                                 \n",
      " dense (Dense)               (None, 10)                110       \n",
      "                                                                 \n",
      " dense_1 (Dense)             (None, 10)                110       \n",
      "                                                                 \n",
      "=================================================================\n",
      "Total params: 4,820\n",
      "Trainable params: 4,820\n",
      "Non-trainable params: 0\n",
      "_________________________________________________________________\n",
      "rnn_model.summary() None\n",
      "MODEL # 1\n",
      "NB OF OBSERVATIONS TO TRAIN: 60\n",
      "LEARNING RATE: 0.001\n",
      "MIN MAPE: 98.47144317626953\n",
      "BEST MAPE: 98.47144317626953\n",
      "with model #1, nb obs: 60, lr: 0.001\n"
     ]
    },
    {
     "name": "stderr",
     "output_type": "stream",
     "text": [
      "/Users/tekyteka/code/Teky-Teka/covid_time_series_prediction/covid_time_series_prediction/dp_logic/RNN_model.py:203: UserWarning: Matplotlib is currently using agg, which is a non-GUI backend, so cannot show the figure.\n",
      "  plt.show();\n"
     ]
    },
    {
     "name": "stdout",
     "output_type": "stream",
     "text": [
      "n_seq\t\t 200 \n",
      "n_seq_val\t 40 \n",
      "n_seq_test\t 20 \n",
      "n_obs\t\t 60 \n",
      "n_feat\t\t 20 \n",
      "n_pred\t\t 10\n",
      "X_train\t (672, 21) \t->\ty_train\t (672,) \n",
      "X_val\t (192, 21) \t->\ty_val\t (192,) \n",
      "X_test\t (97, 21) \t->\ty_test\t (97,)\n",
      "X_train_seq (200, 60, 21) \t->\ty_train_seq\t (200, 10) \n",
      "X_val_seq (40, 60, 21) \t->\ty_val_seq\t (40, 10) \n",
      "X_test_seq (20, 60, 21) \t->\ty_test_seq\t (20, 10)\n",
      "Model: \"sequential_1\"\n",
      "_________________________________________________________________\n",
      " Layer (type)                Output Shape              Param #   \n",
      "=================================================================\n",
      " lstm_2 (LSTM)               (None, 60, 30)            6240      \n",
      "                                                                 \n",
      " lstm_3 (LSTM)               (None, 60, 20)            4080      \n",
      "                                                                 \n",
      " lstm_4 (LSTM)               (None, 10)                1240      \n",
      "                                                                 \n",
      " dense_2 (Dense)             (None, 10)                110       \n",
      "                                                                 \n",
      " dense_3 (Dense)             (None, 10)                110       \n",
      "                                                                 \n",
      "=================================================================\n",
      "Total params: 11,780\n",
      "Trainable params: 11,780\n",
      "Non-trainable params: 0\n",
      "_________________________________________________________________\n",
      "rnn_model.summary() None\n",
      "MODEL # 2\n",
      "NB OF OBSERVATIONS TO TRAIN: 60\n",
      "LEARNING RATE: 0.001\n",
      "MIN MAPE: 99.20092010498047\n",
      "BEST MAPE: 98.47144317626953\n",
      "with model #1, nb obs: 60, lr: 0.001\n",
      "n_seq\t\t 200 \n",
      "n_seq_val\t 40 \n",
      "n_seq_test\t 20 \n",
      "n_obs\t\t 60 \n",
      "n_feat\t\t 20 \n",
      "n_pred\t\t 10\n",
      "X_train\t (672, 21) \t->\ty_train\t (672,) \n",
      "X_val\t (192, 21) \t->\ty_val\t (192,) \n",
      "X_test\t (97, 21) \t->\ty_test\t (97,)\n",
      "X_train_seq (200, 60, 21) \t->\ty_train_seq\t (200, 10) \n",
      "X_val_seq (40, 60, 21) \t->\ty_val_seq\t (40, 10) \n",
      "X_test_seq (20, 60, 21) \t->\ty_test_seq\t (20, 10)\n",
      "Model: \"sequential_2\"\n",
      "_________________________________________________________________\n",
      " Layer (type)                Output Shape              Param #   \n",
      "=================================================================\n",
      " lstm_5 (LSTM)               (None, 60, 30)            6240      \n",
      "                                                                 \n",
      " lstm_6 (LSTM)               (None, 60, 20)            4080      \n",
      "                                                                 \n",
      " lstm_7 (LSTM)               (None, 10)                1240      \n",
      "                                                                 \n",
      " dense_4 (Dense)             (None, 10)                110       \n",
      "                                                                 \n",
      " dense_5 (Dense)             (None, 10)                110       \n",
      "                                                                 \n",
      "=================================================================\n",
      "Total params: 11,780\n",
      "Trainable params: 11,780\n",
      "Non-trainable params: 0\n",
      "_________________________________________________________________\n",
      "rnn_model.summary() None\n",
      "MODEL # 3\n",
      "NB OF OBSERVATIONS TO TRAIN: 60\n",
      "LEARNING RATE: 0.001\n",
      "MIN MAPE: 96.54187774658203\n",
      "BEST MAPE: 96.54187774658203\n",
      "with model #3, nb obs: 60, lr: 0.001\n",
      "n_seq\t\t 200 \n",
      "n_seq_val\t 40 \n",
      "n_seq_test\t 20 \n",
      "n_obs\t\t 60 \n",
      "n_feat\t\t 20 \n",
      "n_pred\t\t 10\n",
      "X_train\t (672, 21) \t->\ty_train\t (672,) \n",
      "X_val\t (192, 21) \t->\ty_val\t (192,) \n",
      "X_test\t (97, 21) \t->\ty_test\t (97,)\n",
      "X_train_seq (200, 60, 21) \t->\ty_train_seq\t (200, 10) \n",
      "X_val_seq (40, 60, 21) \t->\ty_val_seq\t (40, 10) \n",
      "X_test_seq (20, 60, 21) \t->\ty_test_seq\t (20, 10)\n",
      "Model: \"sequential_3\"\n",
      "_________________________________________________________________\n",
      " Layer (type)                Output Shape              Param #   \n",
      "=================================================================\n",
      " lstm_8 (LSTM)               (None, 60, 30)            6240      \n",
      "                                                                 \n",
      " dropout (Dropout)           (None, 60, 30)            0         \n",
      "                                                                 \n",
      " lstm_9 (LSTM)               (None, 60, 20)            4080      \n",
      "                                                                 \n",
      " lstm_10 (LSTM)              (None, 10)                1240      \n",
      "                                                                 \n",
      " dense_6 (Dense)             (None, 10)                110       \n",
      "                                                                 \n",
      " dense_7 (Dense)             (None, 10)                110       \n",
      "                                                                 \n",
      "=================================================================\n",
      "Total params: 11,780\n",
      "Trainable params: 11,780\n",
      "Non-trainable params: 0\n",
      "_________________________________________________________________\n",
      "rnn_model.summary() None\n",
      "MODEL # 4\n",
      "NB OF OBSERVATIONS TO TRAIN: 60\n",
      "LEARNING RATE: 0.001\n",
      "MIN MAPE: 10.889551162719727\n",
      "BEST MAPE: 10.889551162719727\n",
      "with model #4, nb obs: 60, lr: 0.001\n"
     ]
    }
   ],
   "source": [
    "model_run(country_name='France', n_seq=200, n_obs=[60], n_feat=20, n_pred=10, split_train=0.7, split_val=0.9, learning_rates=[0.001])"
   ]
  },
  {
   "cell_type": "code",
   "execution_count": 13,
   "id": "001829de-ae74-41bd-b80d-2474d5032c61",
   "metadata": {},
   "outputs": [
    {
     "name": "stdout",
     "output_type": "stream",
     "text": [
      "n_seq\t\t 200 \n",
      "n_seq_val\t 40 \n",
      "n_seq_test\t 20 \n",
      "n_obs\t\t 60 \n",
      "n_feat\t\t 20 \n",
      "n_pred\t\t 10\n",
      "X_train\t (667, 21) \t->\ty_train\t (667,) \n",
      "X_val\t (191, 21) \t->\ty_val\t (191,) \n",
      "X_test\t (96, 21) \t->\ty_test\t (96,)\n",
      "X_train_seq (200, 60, 21) \t->\ty_train_seq\t (200, 10) \n",
      "X_val_seq (40, 60, 21) \t->\ty_val_seq\t (40, 10) \n",
      "X_test_seq (20, 60, 21) \t->\ty_test_seq\t (20, 10)\n",
      "Model: \"sequential_4\"\n",
      "_________________________________________________________________\n",
      " Layer (type)                Output Shape              Param #   \n",
      "=================================================================\n",
      " lstm_11 (LSTM)              (None, 60, 20)            3360      \n",
      "                                                                 \n",
      " lstm_12 (LSTM)              (None, 10)                1240      \n",
      "                                                                 \n",
      " dense_8 (Dense)             (None, 10)                110       \n",
      "                                                                 \n",
      " dense_9 (Dense)             (None, 10)                110       \n",
      "                                                                 \n",
      "=================================================================\n",
      "Total params: 4,820\n",
      "Trainable params: 4,820\n",
      "Non-trainable params: 0\n",
      "_________________________________________________________________\n",
      "rnn_model.summary() None\n",
      "MODEL # 1\n",
      "NB OF OBSERVATIONS TO TRAIN: 60\n",
      "LEARNING RATE: 0.001\n",
      "MIN MAPE: 97.68582153320312\n",
      "BEST MAPE: 97.68582153320312\n",
      "with model #1, nb obs: 60, lr: 0.001\n"
     ]
    },
    {
     "name": "stderr",
     "output_type": "stream",
     "text": [
      "/Users/tekyteka/code/Teky-Teka/covid_time_series_prediction/covid_time_series_prediction/dp_logic/RNN_model.py:203: UserWarning: Matplotlib is currently using agg, which is a non-GUI backend, so cannot show the figure.\n",
      "  plt.show();\n"
     ]
    },
    {
     "name": "stdout",
     "output_type": "stream",
     "text": [
      "n_seq\t\t 200 \n",
      "n_seq_val\t 40 \n",
      "n_seq_test\t 20 \n",
      "n_obs\t\t 60 \n",
      "n_feat\t\t 20 \n",
      "n_pred\t\t 10\n",
      "X_train\t (667, 21) \t->\ty_train\t (667,) \n",
      "X_val\t (191, 21) \t->\ty_val\t (191,) \n",
      "X_test\t (96, 21) \t->\ty_test\t (96,)\n",
      "X_train_seq (200, 60, 21) \t->\ty_train_seq\t (200, 10) \n",
      "X_val_seq (40, 60, 21) \t->\ty_val_seq\t (40, 10) \n",
      "X_test_seq (20, 60, 21) \t->\ty_test_seq\t (20, 10)\n",
      "Model: \"sequential_5\"\n",
      "_________________________________________________________________\n",
      " Layer (type)                Output Shape              Param #   \n",
      "=================================================================\n",
      " lstm_13 (LSTM)              (None, 60, 30)            6240      \n",
      "                                                                 \n",
      " lstm_14 (LSTM)              (None, 60, 20)            4080      \n",
      "                                                                 \n",
      " lstm_15 (LSTM)              (None, 10)                1240      \n",
      "                                                                 \n",
      " dense_10 (Dense)            (None, 10)                110       \n",
      "                                                                 \n",
      " dense_11 (Dense)            (None, 10)                110       \n",
      "                                                                 \n",
      "=================================================================\n",
      "Total params: 11,780\n",
      "Trainable params: 11,780\n",
      "Non-trainable params: 0\n",
      "_________________________________________________________________\n",
      "rnn_model.summary() None\n",
      "MODEL # 2\n",
      "NB OF OBSERVATIONS TO TRAIN: 60\n",
      "LEARNING RATE: 0.001\n",
      "MIN MAPE: 96.83395385742188\n",
      "BEST MAPE: 96.83395385742188\n",
      "with model #2, nb obs: 60, lr: 0.001\n",
      "n_seq\t\t 200 \n",
      "n_seq_val\t 40 \n",
      "n_seq_test\t 20 \n",
      "n_obs\t\t 60 \n",
      "n_feat\t\t 20 \n",
      "n_pred\t\t 10\n",
      "X_train\t (667, 21) \t->\ty_train\t (667,) \n",
      "X_val\t (191, 21) \t->\ty_val\t (191,) \n",
      "X_test\t (96, 21) \t->\ty_test\t (96,)\n",
      "X_train_seq (200, 60, 21) \t->\ty_train_seq\t (200, 10) \n",
      "X_val_seq (40, 60, 21) \t->\ty_val_seq\t (40, 10) \n",
      "X_test_seq (20, 60, 21) \t->\ty_test_seq\t (20, 10)\n",
      "Model: \"sequential_6\"\n",
      "_________________________________________________________________\n",
      " Layer (type)                Output Shape              Param #   \n",
      "=================================================================\n",
      " lstm_16 (LSTM)              (None, 60, 30)            6240      \n",
      "                                                                 \n",
      " lstm_17 (LSTM)              (None, 60, 20)            4080      \n",
      "                                                                 \n",
      " lstm_18 (LSTM)              (None, 10)                1240      \n",
      "                                                                 \n",
      " dense_12 (Dense)            (None, 10)                110       \n",
      "                                                                 \n",
      " dense_13 (Dense)            (None, 10)                110       \n",
      "                                                                 \n",
      "=================================================================\n",
      "Total params: 11,780\n",
      "Trainable params: 11,780\n",
      "Non-trainable params: 0\n",
      "_________________________________________________________________\n",
      "rnn_model.summary() None\n",
      "MODEL # 3\n",
      "NB OF OBSERVATIONS TO TRAIN: 60\n",
      "LEARNING RATE: 0.001\n",
      "MIN MAPE: 23.59540557861328\n",
      "BEST MAPE: 23.59540557861328\n",
      "with model #3, nb obs: 60, lr: 0.001\n",
      "n_seq\t\t 200 \n",
      "n_seq_val\t 40 \n",
      "n_seq_test\t 20 \n",
      "n_obs\t\t 60 \n",
      "n_feat\t\t 20 \n",
      "n_pred\t\t 10\n",
      "X_train\t (667, 21) \t->\ty_train\t (667,) \n",
      "X_val\t (191, 21) \t->\ty_val\t (191,) \n",
      "X_test\t (96, 21) \t->\ty_test\t (96,)\n",
      "X_train_seq (200, 60, 21) \t->\ty_train_seq\t (200, 10) \n",
      "X_val_seq (40, 60, 21) \t->\ty_val_seq\t (40, 10) \n",
      "X_test_seq (20, 60, 21) \t->\ty_test_seq\t (20, 10)\n",
      "Model: \"sequential_7\"\n",
      "_________________________________________________________________\n",
      " Layer (type)                Output Shape              Param #   \n",
      "=================================================================\n",
      " lstm_19 (LSTM)              (None, 60, 30)            6240      \n",
      "                                                                 \n",
      " dropout_1 (Dropout)         (None, 60, 30)            0         \n",
      "                                                                 \n",
      " lstm_20 (LSTM)              (None, 60, 20)            4080      \n",
      "                                                                 \n",
      " lstm_21 (LSTM)              (None, 10)                1240      \n",
      "                                                                 \n",
      " dense_14 (Dense)            (None, 10)                110       \n",
      "                                                                 \n",
      " dense_15 (Dense)            (None, 10)                110       \n",
      "                                                                 \n",
      "=================================================================\n",
      "Total params: 11,780\n",
      "Trainable params: 11,780\n",
      "Non-trainable params: 0\n",
      "_________________________________________________________________\n",
      "rnn_model.summary() None\n",
      "MODEL # 4\n",
      "NB OF OBSERVATIONS TO TRAIN: 60\n",
      "LEARNING RATE: 0.001\n",
      "MIN MAPE: 99.63947296142578\n",
      "BEST MAPE: 23.59540557861328\n",
      "with model #3, nb obs: 60, lr: 0.001\n"
     ]
    }
   ],
   "source": [
    "model_run(country_name='United Kingdom', n_seq=200, n_obs=[60], n_feat=20, n_pred=10, split_train=0.7, split_val=0.9, learning_rates=[0.001])"
   ]
  },
  {
   "cell_type": "code",
   "execution_count": 14,
   "id": "3852c0ef-4fcc-43b1-9b1c-3625b168483b",
   "metadata": {},
   "outputs": [
    {
     "name": "stdout",
     "output_type": "stream",
     "text": [
      "n_seq\t\t 200 \n",
      "n_seq_val\t 40 \n",
      "n_seq_test\t 20 \n",
      "n_obs\t\t 60 \n",
      "n_feat\t\t 20 \n",
      "n_pred\t\t 10\n",
      "X_train\t (670, 21) \t->\ty_train\t (670,) \n",
      "X_val\t (192, 21) \t->\ty_val\t (192,) \n",
      "X_test\t (96, 21) \t->\ty_test\t (96,)\n",
      "X_train_seq (200, 60, 21) \t->\ty_train_seq\t (200, 10) \n",
      "X_val_seq (40, 60, 21) \t->\ty_val_seq\t (40, 10) \n",
      "X_test_seq (20, 60, 21) \t->\ty_test_seq\t (20, 10)\n",
      "Model: \"sequential_8\"\n",
      "_________________________________________________________________\n",
      " Layer (type)                Output Shape              Param #   \n",
      "=================================================================\n",
      " lstm_22 (LSTM)              (None, 60, 20)            3360      \n",
      "                                                                 \n",
      " lstm_23 (LSTM)              (None, 10)                1240      \n",
      "                                                                 \n",
      " dense_16 (Dense)            (None, 10)                110       \n",
      "                                                                 \n",
      " dense_17 (Dense)            (None, 10)                110       \n",
      "                                                                 \n",
      "=================================================================\n",
      "Total params: 4,820\n",
      "Trainable params: 4,820\n",
      "Non-trainable params: 0\n",
      "_________________________________________________________________\n",
      "rnn_model.summary() None\n",
      "MODEL # 1\n",
      "NB OF OBSERVATIONS TO TRAIN: 60\n",
      "LEARNING RATE: 0.001\n",
      "MIN MAPE: 88.58244323730469\n",
      "BEST MAPE: 88.58244323730469\n",
      "with model #1, nb obs: 60, lr: 0.001\n"
     ]
    },
    {
     "name": "stderr",
     "output_type": "stream",
     "text": [
      "/Users/tekyteka/code/Teky-Teka/covid_time_series_prediction/covid_time_series_prediction/dp_logic/RNN_model.py:203: UserWarning: Matplotlib is currently using agg, which is a non-GUI backend, so cannot show the figure.\n",
      "  plt.show();\n"
     ]
    },
    {
     "name": "stdout",
     "output_type": "stream",
     "text": [
      "n_seq\t\t 200 \n",
      "n_seq_val\t 40 \n",
      "n_seq_test\t 20 \n",
      "n_obs\t\t 60 \n",
      "n_feat\t\t 20 \n",
      "n_pred\t\t 10\n",
      "X_train\t (670, 21) \t->\ty_train\t (670,) \n",
      "X_val\t (192, 21) \t->\ty_val\t (192,) \n",
      "X_test\t (96, 21) \t->\ty_test\t (96,)\n",
      "X_train_seq (200, 60, 21) \t->\ty_train_seq\t (200, 10) \n",
      "X_val_seq (40, 60, 21) \t->\ty_val_seq\t (40, 10) \n",
      "X_test_seq (20, 60, 21) \t->\ty_test_seq\t (20, 10)\n",
      "Model: \"sequential_9\"\n",
      "_________________________________________________________________\n",
      " Layer (type)                Output Shape              Param #   \n",
      "=================================================================\n",
      " lstm_24 (LSTM)              (None, 60, 30)            6240      \n",
      "                                                                 \n",
      " lstm_25 (LSTM)              (None, 60, 20)            4080      \n",
      "                                                                 \n",
      " lstm_26 (LSTM)              (None, 10)                1240      \n",
      "                                                                 \n",
      " dense_18 (Dense)            (None, 10)                110       \n",
      "                                                                 \n",
      " dense_19 (Dense)            (None, 10)                110       \n",
      "                                                                 \n",
      "=================================================================\n",
      "Total params: 11,780\n",
      "Trainable params: 11,780\n",
      "Non-trainable params: 0\n",
      "_________________________________________________________________\n",
      "rnn_model.summary() None\n",
      "MODEL # 2\n",
      "NB OF OBSERVATIONS TO TRAIN: 60\n",
      "LEARNING RATE: 0.001\n",
      "MIN MAPE: 90.60713195800781\n",
      "BEST MAPE: 88.58244323730469\n",
      "with model #1, nb obs: 60, lr: 0.001\n",
      "n_seq\t\t 200 \n",
      "n_seq_val\t 40 \n",
      "n_seq_test\t 20 \n",
      "n_obs\t\t 60 \n",
      "n_feat\t\t 20 \n",
      "n_pred\t\t 10\n",
      "X_train\t (670, 21) \t->\ty_train\t (670,) \n",
      "X_val\t (192, 21) \t->\ty_val\t (192,) \n",
      "X_test\t (96, 21) \t->\ty_test\t (96,)\n",
      "X_train_seq (200, 60, 21) \t->\ty_train_seq\t (200, 10) \n",
      "X_val_seq (40, 60, 21) \t->\ty_val_seq\t (40, 10) \n",
      "X_test_seq (20, 60, 21) \t->\ty_test_seq\t (20, 10)\n",
      "Model: \"sequential_10\"\n",
      "_________________________________________________________________\n",
      " Layer (type)                Output Shape              Param #   \n",
      "=================================================================\n",
      " lstm_27 (LSTM)              (None, 60, 30)            6240      \n",
      "                                                                 \n",
      " lstm_28 (LSTM)              (None, 60, 20)            4080      \n",
      "                                                                 \n",
      " lstm_29 (LSTM)              (None, 10)                1240      \n",
      "                                                                 \n",
      " dense_20 (Dense)            (None, 10)                110       \n",
      "                                                                 \n",
      " dense_21 (Dense)            (None, 10)                110       \n",
      "                                                                 \n",
      "=================================================================\n",
      "Total params: 11,780\n",
      "Trainable params: 11,780\n",
      "Non-trainable params: 0\n",
      "_________________________________________________________________\n",
      "rnn_model.summary() None\n",
      "MODEL # 3\n",
      "NB OF OBSERVATIONS TO TRAIN: 60\n",
      "LEARNING RATE: 0.001\n",
      "MIN MAPE: 85.92913818359375\n",
      "BEST MAPE: 85.92913818359375\n",
      "with model #3, nb obs: 60, lr: 0.001\n",
      "n_seq\t\t 200 \n",
      "n_seq_val\t 40 \n",
      "n_seq_test\t 20 \n",
      "n_obs\t\t 60 \n",
      "n_feat\t\t 20 \n",
      "n_pred\t\t 10\n",
      "X_train\t (670, 21) \t->\ty_train\t (670,) \n",
      "X_val\t (192, 21) \t->\ty_val\t (192,) \n",
      "X_test\t (96, 21) \t->\ty_test\t (96,)\n",
      "X_train_seq (200, 60, 21) \t->\ty_train_seq\t (200, 10) \n",
      "X_val_seq (40, 60, 21) \t->\ty_val_seq\t (40, 10) \n",
      "X_test_seq (20, 60, 21) \t->\ty_test_seq\t (20, 10)\n",
      "Model: \"sequential_11\"\n",
      "_________________________________________________________________\n",
      " Layer (type)                Output Shape              Param #   \n",
      "=================================================================\n",
      " lstm_30 (LSTM)              (None, 60, 30)            6240      \n",
      "                                                                 \n",
      " dropout_2 (Dropout)         (None, 60, 30)            0         \n",
      "                                                                 \n",
      " lstm_31 (LSTM)              (None, 60, 20)            4080      \n",
      "                                                                 \n",
      " lstm_32 (LSTM)              (None, 10)                1240      \n",
      "                                                                 \n",
      " dense_22 (Dense)            (None, 10)                110       \n",
      "                                                                 \n",
      " dense_23 (Dense)            (None, 10)                110       \n",
      "                                                                 \n",
      "=================================================================\n",
      "Total params: 11,780\n",
      "Trainable params: 11,780\n",
      "Non-trainable params: 0\n",
      "_________________________________________________________________\n",
      "rnn_model.summary() None\n",
      "MODEL # 4\n",
      "NB OF OBSERVATIONS TO TRAIN: 60\n",
      "LEARNING RATE: 0.001\n",
      "MIN MAPE: 74.3539047241211\n",
      "BEST MAPE: 74.3539047241211\n",
      "with model #4, nb obs: 60, lr: 0.001\n"
     ]
    }
   ],
   "source": [
    "model_run(country_name='Germany', n_seq=200, n_obs=[60], n_feat=20, n_pred=10, split_train=0.7, split_val=0.9, learning_rates=[0.001])"
   ]
  },
  {
   "cell_type": "code",
   "execution_count": 15,
   "id": "a231bcf3-cbbb-4ce2-bd47-a5635f1879c4",
   "metadata": {},
   "outputs": [
    {
     "name": "stderr",
     "output_type": "stream",
     "text": [
      "[autoreload of covid_time_series_prediction.dp_logic.RNN_model failed: Traceback (most recent call last):\n",
      "  File \"/Users/tekyteka/.pyenv/versions/3.8.12/envs/lewagon/lib/python3.8/site-packages/IPython/extensions/autoreload.py\", line 245, in check\n",
      "    superreload(m, reload, self.old_objects)\n",
      "  File \"/Users/tekyteka/.pyenv/versions/3.8.12/envs/lewagon/lib/python3.8/site-packages/IPython/extensions/autoreload.py\", line 394, in superreload\n",
      "    module = reload(module)\n",
      "  File \"/Users/tekyteka/.pyenv/versions/3.8.12/lib/python3.8/imp.py\", line 314, in reload\n",
      "    return importlib.reload(module)\n",
      "  File \"/Users/tekyteka/.pyenv/versions/3.8.12/lib/python3.8/importlib/__init__.py\", line 169, in reload\n",
      "    _bootstrap._exec(spec, module)\n",
      "  File \"<frozen importlib._bootstrap>\", line 604, in _exec\n",
      "  File \"<frozen importlib._bootstrap_external>\", line 839, in exec_module\n",
      "  File \"<frozen importlib._bootstrap_external>\", line 976, in get_code\n",
      "  File \"<frozen importlib._bootstrap_external>\", line 906, in source_to_code\n",
      "  File \"<frozen importlib._bootstrap>\", line 219, in _call_with_frames_removed\n",
      "  File \"/Users/tekyteka/code/Teky-Teka/covid_time_series_prediction/covid_time_series_prediction/dp_logic/RNN_model.py\", line 304\n",
      "    \"\"\" function that return the y dataframe predicted for a country\n",
      "    \n",
      "\n",
      "    model_run(country_name=country, n_seq=200, n_obs=[60], n_feat=20, n_pred=10, split_train=0.7, split_val=0.9, learning_rates=[0.001])\n",
      "                                                                    \n",
      "    \n",
      "\n",
      "                                                                                                                                       ^\n",
      "SyntaxError: EOF while scanning triple-quoted string literal\n",
      "]\n"
     ]
    },
    {
     "name": "stdout",
     "output_type": "stream",
     "text": [
      "n_seq\t\t 200 \n",
      "n_seq_val\t 40 \n",
      "n_seq_test\t 20 \n",
      "n_obs\t\t 60 \n",
      "n_feat\t\t 20 \n",
      "n_pred\t\t 10\n",
      "X_train\t (674, 21) \t->\ty_train\t (674,) \n",
      "X_val\t (192, 21) \t->\ty_val\t (192,) \n",
      "X_test\t (97, 21) \t->\ty_test\t (97,)\n",
      "X_train_seq (200, 60, 21) \t->\ty_train_seq\t (200, 10) \n",
      "X_val_seq (40, 60, 21) \t->\ty_val_seq\t (40, 10) \n",
      "X_test_seq (20, 60, 21) \t->\ty_test_seq\t (20, 10)\n",
      "Model: \"sequential_12\"\n",
      "_________________________________________________________________\n",
      " Layer (type)                Output Shape              Param #   \n",
      "=================================================================\n",
      " lstm_33 (LSTM)              (None, 60, 20)            3360      \n",
      "                                                                 \n",
      " lstm_34 (LSTM)              (None, 10)                1240      \n",
      "                                                                 \n",
      " dense_24 (Dense)            (None, 10)                110       \n",
      "                                                                 \n",
      " dense_25 (Dense)            (None, 10)                110       \n",
      "                                                                 \n",
      "=================================================================\n",
      "Total params: 4,820\n",
      "Trainable params: 4,820\n",
      "Non-trainable params: 0\n",
      "_________________________________________________________________\n",
      "rnn_model.summary() None\n",
      "MODEL # 1\n",
      "NB OF OBSERVATIONS TO TRAIN: 60\n",
      "LEARNING RATE: 0.001\n",
      "MIN MAPE: 97.60324096679688\n",
      "BEST MAPE: 97.60324096679688\n",
      "with model #1, nb obs: 60, lr: 0.001\n"
     ]
    },
    {
     "name": "stderr",
     "output_type": "stream",
     "text": [
      "/Users/tekyteka/code/Teky-Teka/covid_time_series_prediction/covid_time_series_prediction/dp_logic/RNN_model.py:203: UserWarning: Matplotlib is currently using agg, which is a non-GUI backend, so cannot show the figure.\n",
      "  plt.show();\n"
     ]
    },
    {
     "name": "stdout",
     "output_type": "stream",
     "text": [
      "n_seq\t\t 200 \n",
      "n_seq_val\t 40 \n",
      "n_seq_test\t 20 \n",
      "n_obs\t\t 60 \n",
      "n_feat\t\t 20 \n",
      "n_pred\t\t 10\n",
      "X_train\t (674, 21) \t->\ty_train\t (674,) \n",
      "X_val\t (192, 21) \t->\ty_val\t (192,) \n",
      "X_test\t (97, 21) \t->\ty_test\t (97,)\n",
      "X_train_seq (200, 60, 21) \t->\ty_train_seq\t (200, 10) \n",
      "X_val_seq (40, 60, 21) \t->\ty_val_seq\t (40, 10) \n",
      "X_test_seq (20, 60, 21) \t->\ty_test_seq\t (20, 10)\n",
      "Model: \"sequential_13\"\n",
      "_________________________________________________________________\n",
      " Layer (type)                Output Shape              Param #   \n",
      "=================================================================\n",
      " lstm_35 (LSTM)              (None, 60, 30)            6240      \n",
      "                                                                 \n",
      " lstm_36 (LSTM)              (None, 60, 20)            4080      \n",
      "                                                                 \n",
      " lstm_37 (LSTM)              (None, 10)                1240      \n",
      "                                                                 \n",
      " dense_26 (Dense)            (None, 10)                110       \n",
      "                                                                 \n",
      " dense_27 (Dense)            (None, 10)                110       \n",
      "                                                                 \n",
      "=================================================================\n",
      "Total params: 11,780\n",
      "Trainable params: 11,780\n",
      "Non-trainable params: 0\n",
      "_________________________________________________________________\n",
      "rnn_model.summary() None\n",
      "MODEL # 2\n",
      "NB OF OBSERVATIONS TO TRAIN: 60\n",
      "LEARNING RATE: 0.001\n",
      "MIN MAPE: 98.84078979492188\n",
      "BEST MAPE: 97.60324096679688\n",
      "with model #1, nb obs: 60, lr: 0.001\n",
      "n_seq\t\t 200 \n",
      "n_seq_val\t 40 \n",
      "n_seq_test\t 20 \n",
      "n_obs\t\t 60 \n",
      "n_feat\t\t 20 \n",
      "n_pred\t\t 10\n",
      "X_train\t (674, 21) \t->\ty_train\t (674,) \n",
      "X_val\t (192, 21) \t->\ty_val\t (192,) \n",
      "X_test\t (97, 21) \t->\ty_test\t (97,)\n",
      "X_train_seq (200, 60, 21) \t->\ty_train_seq\t (200, 10) \n",
      "X_val_seq (40, 60, 21) \t->\ty_val_seq\t (40, 10) \n",
      "X_test_seq (20, 60, 21) \t->\ty_test_seq\t (20, 10)\n",
      "Model: \"sequential_14\"\n",
      "_________________________________________________________________\n",
      " Layer (type)                Output Shape              Param #   \n",
      "=================================================================\n",
      " lstm_38 (LSTM)              (None, 60, 30)            6240      \n",
      "                                                                 \n",
      " lstm_39 (LSTM)              (None, 60, 20)            4080      \n",
      "                                                                 \n",
      " lstm_40 (LSTM)              (None, 10)                1240      \n",
      "                                                                 \n",
      " dense_28 (Dense)            (None, 10)                110       \n",
      "                                                                 \n",
      " dense_29 (Dense)            (None, 10)                110       \n",
      "                                                                 \n",
      "=================================================================\n",
      "Total params: 11,780\n",
      "Trainable params: 11,780\n",
      "Non-trainable params: 0\n",
      "_________________________________________________________________\n",
      "rnn_model.summary() None\n",
      "MODEL # 3\n",
      "NB OF OBSERVATIONS TO TRAIN: 60\n",
      "LEARNING RATE: 0.001\n",
      "MIN MAPE: 38.106407165527344\n",
      "BEST MAPE: 38.106407165527344\n",
      "with model #3, nb obs: 60, lr: 0.001\n",
      "n_seq\t\t 200 \n",
      "n_seq_val\t 40 \n",
      "n_seq_test\t 20 \n",
      "n_obs\t\t 60 \n",
      "n_feat\t\t 20 \n",
      "n_pred\t\t 10\n",
      "X_train\t (674, 21) \t->\ty_train\t (674,) \n",
      "X_val\t (192, 21) \t->\ty_val\t (192,) \n",
      "X_test\t (97, 21) \t->\ty_test\t (97,)\n",
      "X_train_seq (200, 60, 21) \t->\ty_train_seq\t (200, 10) \n",
      "X_val_seq (40, 60, 21) \t->\ty_val_seq\t (40, 10) \n",
      "X_test_seq (20, 60, 21) \t->\ty_test_seq\t (20, 10)\n",
      "Model: \"sequential_15\"\n",
      "_________________________________________________________________\n",
      " Layer (type)                Output Shape              Param #   \n",
      "=================================================================\n",
      " lstm_41 (LSTM)              (None, 60, 30)            6240      \n",
      "                                                                 \n",
      " dropout_3 (Dropout)         (None, 60, 30)            0         \n",
      "                                                                 \n",
      " lstm_42 (LSTM)              (None, 60, 20)            4080      \n",
      "                                                                 \n",
      " lstm_43 (LSTM)              (None, 10)                1240      \n",
      "                                                                 \n",
      " dense_30 (Dense)            (None, 10)                110       \n",
      "                                                                 \n",
      " dense_31 (Dense)            (None, 10)                110       \n",
      "                                                                 \n",
      "=================================================================\n",
      "Total params: 11,780\n",
      "Trainable params: 11,780\n",
      "Non-trainable params: 0\n",
      "_________________________________________________________________\n",
      "rnn_model.summary() None\n",
      "MODEL # 4\n",
      "NB OF OBSERVATIONS TO TRAIN: 60\n",
      "LEARNING RATE: 0.001\n",
      "MIN MAPE: 99.79768371582031\n",
      "BEST MAPE: 38.106407165527344\n",
      "with model #3, nb obs: 60, lr: 0.001\n"
     ]
    }
   ],
   "source": [
    "model_run(country_name='United States', n_seq=200, n_obs=[60], n_feat=20, n_pred=10, split_train=0.7, split_val=0.9, learning_rates=[0.001])"
   ]
  },
  {
   "cell_type": "code",
   "execution_count": 16,
   "id": "ace72e3d-d621-4515-b0e3-07c2f095c2e0",
   "metadata": {},
   "outputs": [
    {
     "name": "stdout",
     "output_type": "stream",
     "text": [
      "n_seq\t\t 200 \n",
      "n_seq_val\t 40 \n",
      "n_seq_test\t 20 \n",
      "n_obs\t\t 60 \n",
      "n_feat\t\t 20 \n",
      "n_pred\t\t 10\n",
      "X_train\t (668, 21) \t->\ty_train\t (668,) \n",
      "X_val\t (191, 21) \t->\ty_val\t (191,) \n",
      "X_test\t (96, 21) \t->\ty_test\t (96,)\n",
      "X_train_seq (200, 60, 21) \t->\ty_train_seq\t (200, 10) \n",
      "X_val_seq (40, 60, 21) \t->\ty_val_seq\t (40, 10) \n",
      "X_test_seq (20, 60, 21) \t->\ty_test_seq\t (20, 10)\n",
      "Model: \"sequential_16\"\n",
      "_________________________________________________________________\n",
      " Layer (type)                Output Shape              Param #   \n",
      "=================================================================\n",
      " lstm_44 (LSTM)              (None, 60, 20)            3360      \n",
      "                                                                 \n",
      " lstm_45 (LSTM)              (None, 10)                1240      \n",
      "                                                                 \n",
      " dense_32 (Dense)            (None, 10)                110       \n",
      "                                                                 \n",
      " dense_33 (Dense)            (None, 10)                110       \n",
      "                                                                 \n",
      "=================================================================\n",
      "Total params: 4,820\n",
      "Trainable params: 4,820\n",
      "Non-trainable params: 0\n",
      "_________________________________________________________________\n",
      "rnn_model.summary() None\n",
      "MODEL # 1\n",
      "NB OF OBSERVATIONS TO TRAIN: 60\n",
      "LEARNING RATE: 0.001\n",
      "MIN MAPE: 96.99027252197266\n",
      "BEST MAPE: 96.99027252197266\n",
      "with model #1, nb obs: 60, lr: 0.001\n"
     ]
    },
    {
     "name": "stderr",
     "output_type": "stream",
     "text": [
      "/Users/tekyteka/code/Teky-Teka/covid_time_series_prediction/covid_time_series_prediction/dp_logic/RNN_model.py:203: UserWarning: Matplotlib is currently using agg, which is a non-GUI backend, so cannot show the figure.\n",
      "  plt.show();\n"
     ]
    },
    {
     "name": "stdout",
     "output_type": "stream",
     "text": [
      "n_seq\t\t 200 \n",
      "n_seq_val\t 40 \n",
      "n_seq_test\t 20 \n",
      "n_obs\t\t 60 \n",
      "n_feat\t\t 20 \n",
      "n_pred\t\t 10\n",
      "X_train\t (668, 21) \t->\ty_train\t (668,) \n",
      "X_val\t (191, 21) \t->\ty_val\t (191,) \n",
      "X_test\t (96, 21) \t->\ty_test\t (96,)\n",
      "X_train_seq (200, 60, 21) \t->\ty_train_seq\t (200, 10) \n",
      "X_val_seq (40, 60, 21) \t->\ty_val_seq\t (40, 10) \n",
      "X_test_seq (20, 60, 21) \t->\ty_test_seq\t (20, 10)\n",
      "Model: \"sequential_17\"\n",
      "_________________________________________________________________\n",
      " Layer (type)                Output Shape              Param #   \n",
      "=================================================================\n",
      " lstm_46 (LSTM)              (None, 60, 30)            6240      \n",
      "                                                                 \n",
      " lstm_47 (LSTM)              (None, 60, 20)            4080      \n",
      "                                                                 \n",
      " lstm_48 (LSTM)              (None, 10)                1240      \n",
      "                                                                 \n",
      " dense_34 (Dense)            (None, 10)                110       \n",
      "                                                                 \n",
      " dense_35 (Dense)            (None, 10)                110       \n",
      "                                                                 \n",
      "=================================================================\n",
      "Total params: 11,780\n",
      "Trainable params: 11,780\n",
      "Non-trainable params: 0\n",
      "_________________________________________________________________\n",
      "rnn_model.summary() None\n",
      "MODEL # 2\n",
      "NB OF OBSERVATIONS TO TRAIN: 60\n",
      "LEARNING RATE: 0.001\n",
      "MIN MAPE: 95.68026733398438\n",
      "BEST MAPE: 95.68026733398438\n",
      "with model #2, nb obs: 60, lr: 0.001\n",
      "n_seq\t\t 200 \n",
      "n_seq_val\t 40 \n",
      "n_seq_test\t 20 \n",
      "n_obs\t\t 60 \n",
      "n_feat\t\t 20 \n",
      "n_pred\t\t 10\n",
      "X_train\t (668, 21) \t->\ty_train\t (668,) \n",
      "X_val\t (191, 21) \t->\ty_val\t (191,) \n",
      "X_test\t (96, 21) \t->\ty_test\t (96,)\n",
      "X_train_seq (200, 60, 21) \t->\ty_train_seq\t (200, 10) \n",
      "X_val_seq (40, 60, 21) \t->\ty_val_seq\t (40, 10) \n",
      "X_test_seq (20, 60, 21) \t->\ty_test_seq\t (20, 10)\n",
      "Model: \"sequential_18\"\n",
      "_________________________________________________________________\n",
      " Layer (type)                Output Shape              Param #   \n",
      "=================================================================\n",
      " lstm_49 (LSTM)              (None, 60, 30)            6240      \n",
      "                                                                 \n",
      " lstm_50 (LSTM)              (None, 60, 20)            4080      \n",
      "                                                                 \n",
      " lstm_51 (LSTM)              (None, 10)                1240      \n",
      "                                                                 \n",
      " dense_36 (Dense)            (None, 10)                110       \n",
      "                                                                 \n",
      " dense_37 (Dense)            (None, 10)                110       \n",
      "                                                                 \n",
      "=================================================================\n",
      "Total params: 11,780\n",
      "Trainable params: 11,780\n",
      "Non-trainable params: 0\n",
      "_________________________________________________________________\n",
      "rnn_model.summary() None\n",
      "MODEL # 3\n",
      "NB OF OBSERVATIONS TO TRAIN: 60\n",
      "LEARNING RATE: 0.001\n",
      "MIN MAPE: 21.739656448364258\n",
      "BEST MAPE: 21.739656448364258\n",
      "with model #3, nb obs: 60, lr: 0.001\n",
      "n_seq\t\t 200 \n",
      "n_seq_val\t 40 \n",
      "n_seq_test\t 20 \n",
      "n_obs\t\t 60 \n",
      "n_feat\t\t 20 \n",
      "n_pred\t\t 10\n",
      "X_train\t (668, 21) \t->\ty_train\t (668,) \n",
      "X_val\t (191, 21) \t->\ty_val\t (191,) \n",
      "X_test\t (96, 21) \t->\ty_test\t (96,)\n",
      "X_train_seq (200, 60, 21) \t->\ty_train_seq\t (200, 10) \n",
      "X_val_seq (40, 60, 21) \t->\ty_val_seq\t (40, 10) \n",
      "X_test_seq (20, 60, 21) \t->\ty_test_seq\t (20, 10)\n",
      "Model: \"sequential_19\"\n",
      "_________________________________________________________________\n",
      " Layer (type)                Output Shape              Param #   \n",
      "=================================================================\n",
      " lstm_52 (LSTM)              (None, 60, 30)            6240      \n",
      "                                                                 \n",
      " dropout_4 (Dropout)         (None, 60, 30)            0         \n",
      "                                                                 \n",
      " lstm_53 (LSTM)              (None, 60, 20)            4080      \n",
      "                                                                 \n",
      " lstm_54 (LSTM)              (None, 10)                1240      \n",
      "                                                                 \n",
      " dense_38 (Dense)            (None, 10)                110       \n",
      "                                                                 \n",
      " dense_39 (Dense)            (None, 10)                110       \n",
      "                                                                 \n",
      "=================================================================\n",
      "Total params: 11,780\n",
      "Trainable params: 11,780\n",
      "Non-trainable params: 0\n",
      "_________________________________________________________________\n",
      "rnn_model.summary() None\n",
      "MODEL # 4\n",
      "NB OF OBSERVATIONS TO TRAIN: 60\n",
      "LEARNING RATE: 0.001\n",
      "MIN MAPE: 24.698871612548828\n",
      "BEST MAPE: 21.739656448364258\n",
      "with model #3, nb obs: 60, lr: 0.001\n"
     ]
    }
   ],
   "source": [
    "model_run(country_name='India', n_seq=200, n_obs=[60], n_feat=20, n_pred=10, split_train=0.7, split_val=0.9, learning_rates=[0.001])"
   ]
  },
  {
   "cell_type": "code",
   "execution_count": 17,
   "id": "d9cb6874-504d-4ce6-be63-6002b9763717",
   "metadata": {},
   "outputs": [
    {
     "name": "stdout",
     "output_type": "stream",
     "text": [
      "n_seq\t\t 200 \n",
      "n_seq_val\t 40 \n",
      "n_seq_test\t 20 \n",
      "n_obs\t\t 60 \n",
      "n_feat\t\t 20 \n",
      "n_pred\t\t 10\n",
      "X_train\t (649, 21) \t->\ty_train\t (649,) \n",
      "X_val\t (186, 21) \t->\ty_val\t (186,) \n",
      "X_test\t (93, 21) \t->\ty_test\t (93,)\n",
      "X_train_seq (200, 60, 21) \t->\ty_train_seq\t (200, 10) \n",
      "X_val_seq (40, 60, 21) \t->\ty_val_seq\t (40, 10) \n",
      "X_test_seq (20, 60, 21) \t->\ty_test_seq\t (20, 10)\n",
      "Model: \"sequential_20\"\n",
      "_________________________________________________________________\n",
      " Layer (type)                Output Shape              Param #   \n",
      "=================================================================\n",
      " lstm_55 (LSTM)              (None, 60, 20)            3360      \n",
      "                                                                 \n",
      " lstm_56 (LSTM)              (None, 10)                1240      \n",
      "                                                                 \n",
      " dense_40 (Dense)            (None, 10)                110       \n",
      "                                                                 \n",
      " dense_41 (Dense)            (None, 10)                110       \n",
      "                                                                 \n",
      "=================================================================\n",
      "Total params: 4,820\n",
      "Trainable params: 4,820\n",
      "Non-trainable params: 0\n",
      "_________________________________________________________________\n",
      "rnn_model.summary() None\n",
      "MODEL # 1\n",
      "NB OF OBSERVATIONS TO TRAIN: 60\n",
      "LEARNING RATE: 0.001\n",
      "MIN MAPE: 98.6269302368164\n",
      "BEST MAPE: 98.6269302368164\n",
      "with model #1, nb obs: 60, lr: 0.001\n"
     ]
    },
    {
     "name": "stderr",
     "output_type": "stream",
     "text": [
      "/Users/tekyteka/code/Teky-Teka/covid_time_series_prediction/covid_time_series_prediction/dp_logic/RNN_model.py:203: UserWarning: Matplotlib is currently using agg, which is a non-GUI backend, so cannot show the figure.\n",
      "  plt.show();\n"
     ]
    },
    {
     "name": "stdout",
     "output_type": "stream",
     "text": [
      "n_seq\t\t 200 \n",
      "n_seq_val\t 40 \n",
      "n_seq_test\t 20 \n",
      "n_obs\t\t 60 \n",
      "n_feat\t\t 20 \n",
      "n_pred\t\t 10\n",
      "X_train\t (649, 21) \t->\ty_train\t (649,) \n",
      "X_val\t (186, 21) \t->\ty_val\t (186,) \n",
      "X_test\t (93, 21) \t->\ty_test\t (93,)\n",
      "X_train_seq (200, 60, 21) \t->\ty_train_seq\t (200, 10) \n",
      "X_val_seq (40, 60, 21) \t->\ty_val_seq\t (40, 10) \n",
      "X_test_seq (20, 60, 21) \t->\ty_test_seq\t (20, 10)\n",
      "Model: \"sequential_21\"\n",
      "_________________________________________________________________\n",
      " Layer (type)                Output Shape              Param #   \n",
      "=================================================================\n",
      " lstm_57 (LSTM)              (None, 60, 30)            6240      \n",
      "                                                                 \n",
      " lstm_58 (LSTM)              (None, 60, 20)            4080      \n",
      "                                                                 \n",
      " lstm_59 (LSTM)              (None, 10)                1240      \n",
      "                                                                 \n",
      " dense_42 (Dense)            (None, 10)                110       \n",
      "                                                                 \n",
      " dense_43 (Dense)            (None, 10)                110       \n",
      "                                                                 \n",
      "=================================================================\n",
      "Total params: 11,780\n",
      "Trainable params: 11,780\n",
      "Non-trainable params: 0\n",
      "_________________________________________________________________\n",
      "rnn_model.summary() None\n",
      "MODEL # 2\n",
      "NB OF OBSERVATIONS TO TRAIN: 60\n",
      "LEARNING RATE: 0.001\n",
      "MIN MAPE: 98.20219421386719\n",
      "BEST MAPE: 98.20219421386719\n",
      "with model #2, nb obs: 60, lr: 0.001\n",
      "n_seq\t\t 200 \n",
      "n_seq_val\t 40 \n",
      "n_seq_test\t 20 \n",
      "n_obs\t\t 60 \n",
      "n_feat\t\t 20 \n",
      "n_pred\t\t 10\n",
      "X_train\t (649, 21) \t->\ty_train\t (649,) \n",
      "X_val\t (186, 21) \t->\ty_val\t (186,) \n",
      "X_test\t (93, 21) \t->\ty_test\t (93,)\n",
      "X_train_seq (200, 60, 21) \t->\ty_train_seq\t (200, 10) \n",
      "X_val_seq (40, 60, 21) \t->\ty_val_seq\t (40, 10) \n",
      "X_test_seq (20, 60, 21) \t->\ty_test_seq\t (20, 10)\n",
      "Model: \"sequential_22\"\n",
      "_________________________________________________________________\n",
      " Layer (type)                Output Shape              Param #   \n",
      "=================================================================\n",
      " lstm_60 (LSTM)              (None, 60, 30)            6240      \n",
      "                                                                 \n",
      " lstm_61 (LSTM)              (None, 60, 20)            4080      \n",
      "                                                                 \n",
      " lstm_62 (LSTM)              (None, 10)                1240      \n",
      "                                                                 \n",
      " dense_44 (Dense)            (None, 10)                110       \n",
      "                                                                 \n",
      " dense_45 (Dense)            (None, 10)                110       \n",
      "                                                                 \n",
      "=================================================================\n",
      "Total params: 11,780\n",
      "Trainable params: 11,780\n",
      "Non-trainable params: 0\n",
      "_________________________________________________________________\n",
      "rnn_model.summary() None\n",
      "MODEL # 3\n",
      "NB OF OBSERVATIONS TO TRAIN: 60\n",
      "LEARNING RATE: 0.001\n",
      "MIN MAPE: 28.903512954711914\n",
      "BEST MAPE: 28.903512954711914\n",
      "with model #3, nb obs: 60, lr: 0.001\n",
      "n_seq\t\t 200 \n",
      "n_seq_val\t 40 \n",
      "n_seq_test\t 20 \n",
      "n_obs\t\t 60 \n",
      "n_feat\t\t 20 \n",
      "n_pred\t\t 10\n",
      "X_train\t (649, 21) \t->\ty_train\t (649,) \n",
      "X_val\t (186, 21) \t->\ty_val\t (186,) \n",
      "X_test\t (93, 21) \t->\ty_test\t (93,)\n",
      "X_train_seq (200, 60, 21) \t->\ty_train_seq\t (200, 10) \n",
      "X_val_seq (40, 60, 21) \t->\ty_val_seq\t (40, 10) \n",
      "X_test_seq (20, 60, 21) \t->\ty_test_seq\t (20, 10)\n",
      "Model: \"sequential_23\"\n",
      "_________________________________________________________________\n",
      " Layer (type)                Output Shape              Param #   \n",
      "=================================================================\n",
      " lstm_63 (LSTM)              (None, 60, 30)            6240      \n",
      "                                                                 \n",
      " dropout_5 (Dropout)         (None, 60, 30)            0         \n",
      "                                                                 \n",
      " lstm_64 (LSTM)              (None, 60, 20)            4080      \n",
      "                                                                 \n",
      " lstm_65 (LSTM)              (None, 10)                1240      \n",
      "                                                                 \n",
      " dense_46 (Dense)            (None, 10)                110       \n",
      "                                                                 \n",
      " dense_47 (Dense)            (None, 10)                110       \n",
      "                                                                 \n",
      "=================================================================\n",
      "Total params: 11,780\n",
      "Trainable params: 11,780\n",
      "Non-trainable params: 0\n",
      "_________________________________________________________________\n",
      "rnn_model.summary() None\n",
      "MODEL # 4\n",
      "NB OF OBSERVATIONS TO TRAIN: 60\n",
      "LEARNING RATE: 0.001\n",
      "MIN MAPE: 99.90611267089844\n",
      "BEST MAPE: 28.903512954711914\n",
      "with model #3, nb obs: 60, lr: 0.001\n"
     ]
    }
   ],
   "source": [
    "model_run(country_name='Brazil', n_seq=200, n_obs=[60], n_feat=20, n_pred=10, split_train=0.7, split_val=0.9, learning_rates=[0.001])"
   ]
  },
  {
   "cell_type": "code",
   "execution_count": 18,
   "id": "caced29f-bb3c-46ac-a77d-1305c3a55dad",
   "metadata": {},
   "outputs": [
    {
     "name": "stdout",
     "output_type": "stream",
     "text": [
      "n_seq\t\t 200 \n",
      "n_seq_val\t 40 \n",
      "n_seq_test\t 20 \n",
      "n_obs\t\t 60 \n",
      "n_feat\t\t 20 \n",
      "n_pred\t\t 10\n",
      "X_train\t (667, 21) \t->\ty_train\t (667,) \n",
      "X_val\t (191, 21) \t->\ty_val\t (191,) \n",
      "X_test\t (96, 21) \t->\ty_test\t (96,)\n",
      "X_train_seq (200, 60, 21) \t->\ty_train_seq\t (200, 10) \n",
      "X_val_seq (40, 60, 21) \t->\ty_val_seq\t (40, 10) \n",
      "X_test_seq (20, 60, 21) \t->\ty_test_seq\t (20, 10)\n",
      "Model: \"sequential_24\"\n",
      "_________________________________________________________________\n",
      " Layer (type)                Output Shape              Param #   \n",
      "=================================================================\n",
      " lstm_66 (LSTM)              (None, 60, 20)            3360      \n",
      "                                                                 \n",
      " lstm_67 (LSTM)              (None, 10)                1240      \n",
      "                                                                 \n",
      " dense_48 (Dense)            (None, 10)                110       \n",
      "                                                                 \n",
      " dense_49 (Dense)            (None, 10)                110       \n",
      "                                                                 \n",
      "=================================================================\n",
      "Total params: 4,820\n",
      "Trainable params: 4,820\n",
      "Non-trainable params: 0\n",
      "_________________________________________________________________\n",
      "rnn_model.summary() None\n",
      "MODEL # 1\n",
      "NB OF OBSERVATIONS TO TRAIN: 60\n",
      "LEARNING RATE: 0.001\n",
      "MIN MAPE: 98.31846618652344\n",
      "BEST MAPE: 98.31846618652344\n",
      "with model #1, nb obs: 60, lr: 0.001\n"
     ]
    },
    {
     "name": "stderr",
     "output_type": "stream",
     "text": [
      "/Users/tekyteka/code/Teky-Teka/covid_time_series_prediction/covid_time_series_prediction/dp_logic/RNN_model.py:203: UserWarning: Matplotlib is currently using agg, which is a non-GUI backend, so cannot show the figure.\n",
      "  plt.show();\n"
     ]
    },
    {
     "ename": "ValueError",
     "evalue": "in user code:\n\n    File \"/Users/tekyteka/.pyenv/versions/3.8.12/envs/lewagon/lib/python3.8/site-packages/keras/engine/training.py\", line 1801, in predict_function  *\n        return step_function(self, iterator)\n    File \"/Users/tekyteka/.pyenv/versions/3.8.12/envs/lewagon/lib/python3.8/site-packages/keras/engine/training.py\", line 1790, in step_function  **\n        outputs = model.distribute_strategy.run(run_step, args=(data,))\n    File \"/Users/tekyteka/.pyenv/versions/3.8.12/envs/lewagon/lib/python3.8/site-packages/keras/engine/training.py\", line 1783, in run_step  **\n        outputs = model.predict_step(data)\n    File \"/Users/tekyteka/.pyenv/versions/3.8.12/envs/lewagon/lib/python3.8/site-packages/keras/engine/training.py\", line 1751, in predict_step\n        return self(x, training=False)\n    File \"/Users/tekyteka/.pyenv/versions/3.8.12/envs/lewagon/lib/python3.8/site-packages/keras/utils/traceback_utils.py\", line 67, in error_handler\n        raise e.with_traceback(filtered_tb) from None\n    File \"/Users/tekyteka/.pyenv/versions/3.8.12/envs/lewagon/lib/python3.8/site-packages/keras/engine/input_spec.py\", line 264, in assert_input_compatibility\n        raise ValueError(f'Input {input_index} of layer \"{layer_name}\" is '\n\n    ValueError: Input 0 of layer \"sequential_24\" is incompatible with the layer: expected shape=(None, 60, 21), found shape=(32, 21)\n",
     "output_type": "error",
     "traceback": [
      "\u001b[0;31m---------------------------------------------------------------------------\u001b[0m",
      "\u001b[0;31mValueError\u001b[0m                                Traceback (most recent call last)",
      "\u001b[0;32m/var/folders/hz/t9cq46wj2zl48zr3_0lc0rw80000gn/T/ipykernel_27821/1728096812.py\u001b[0m in \u001b[0;36m<module>\u001b[0;34m\u001b[0m\n\u001b[0;32m----> 1\u001b[0;31m \u001b[0mmodel_run\u001b[0m\u001b[0;34m(\u001b[0m\u001b[0mcountry_name\u001b[0m\u001b[0;34m=\u001b[0m\u001b[0;34m'Italy'\u001b[0m\u001b[0;34m,\u001b[0m \u001b[0mn_seq\u001b[0m\u001b[0;34m=\u001b[0m\u001b[0;36m200\u001b[0m\u001b[0;34m,\u001b[0m \u001b[0mn_obs\u001b[0m\u001b[0;34m=\u001b[0m\u001b[0;34m[\u001b[0m\u001b[0;36m60\u001b[0m\u001b[0;34m]\u001b[0m\u001b[0;34m,\u001b[0m \u001b[0mn_feat\u001b[0m\u001b[0;34m=\u001b[0m\u001b[0;36m20\u001b[0m\u001b[0;34m,\u001b[0m \u001b[0mn_pred\u001b[0m\u001b[0;34m=\u001b[0m\u001b[0;36m10\u001b[0m\u001b[0;34m,\u001b[0m \u001b[0msplit_train\u001b[0m\u001b[0;34m=\u001b[0m\u001b[0;36m0.7\u001b[0m\u001b[0;34m,\u001b[0m \u001b[0msplit_val\u001b[0m\u001b[0;34m=\u001b[0m\u001b[0;36m0.9\u001b[0m\u001b[0;34m,\u001b[0m \u001b[0mlearning_rates\u001b[0m\u001b[0;34m=\u001b[0m\u001b[0;34m[\u001b[0m\u001b[0;36m0.001\u001b[0m\u001b[0;34m]\u001b[0m\u001b[0;34m)\u001b[0m\u001b[0;34m\u001b[0m\u001b[0;34m\u001b[0m\u001b[0m\n\u001b[0m",
      "\u001b[0;32m~/code/Teky-Teka/covid_time_series_prediction/covid_time_series_prediction/dp_logic/RNN_model.py\u001b[0m in \u001b[0;36mmodel_run\u001b[0;34m(country_name, n_seq, n_obs, n_feat, n_pred, split_train, split_val, learning_rates)\u001b[0m\n\u001b[1;32m    213\u001b[0m                                     \u001b[0;31m# 4. Evaluating\u001b[0m\u001b[0;34m\u001b[0m\u001b[0;34m\u001b[0m\u001b[0;34m\u001b[0m\u001b[0m\n\u001b[1;32m    214\u001b[0m                                     \u001b[0;31m# The prediction (one per sequence/city)\u001b[0m\u001b[0;34m\u001b[0m\u001b[0;34m\u001b[0m\u001b[0;34m\u001b[0m\u001b[0m\n\u001b[0;32m--> 215\u001b[0;31m                                     \u001b[0my_pred\u001b[0m \u001b[0;34m=\u001b[0m \u001b[0mrnn_model\u001b[0m\u001b[0;34m.\u001b[0m\u001b[0mpredict\u001b[0m\u001b[0;34m(\u001b[0m\u001b[0mX_test\u001b[0m\u001b[0;34m)\u001b[0m\u001b[0;34m\u001b[0m\u001b[0;34m\u001b[0m\u001b[0m\n\u001b[0m\u001b[1;32m    216\u001b[0m                                     \u001b[0mprint\u001b[0m\u001b[0;34m(\u001b[0m\u001b[0my_pred\u001b[0m\u001b[0;34m.\u001b[0m\u001b[0mshape\u001b[0m\u001b[0;34m)\u001b[0m\u001b[0;34m\u001b[0m\u001b[0;34m\u001b[0m\u001b[0m\n\u001b[1;32m    217\u001b[0m                                     \u001b[0;31m# Distribution of the predictions\u001b[0m\u001b[0;34m\u001b[0m\u001b[0;34m\u001b[0m\u001b[0;34m\u001b[0m\u001b[0m\n",
      "\u001b[0;32m~/.pyenv/versions/3.8.12/envs/lewagon/lib/python3.8/site-packages/keras/utils/traceback_utils.py\u001b[0m in \u001b[0;36merror_handler\u001b[0;34m(*args, **kwargs)\u001b[0m\n\u001b[1;32m     65\u001b[0m     \u001b[0;32mexcept\u001b[0m \u001b[0mException\u001b[0m \u001b[0;32mas\u001b[0m \u001b[0me\u001b[0m\u001b[0;34m:\u001b[0m  \u001b[0;31m# pylint: disable=broad-except\u001b[0m\u001b[0;34m\u001b[0m\u001b[0;34m\u001b[0m\u001b[0m\n\u001b[1;32m     66\u001b[0m       \u001b[0mfiltered_tb\u001b[0m \u001b[0;34m=\u001b[0m \u001b[0m_process_traceback_frames\u001b[0m\u001b[0;34m(\u001b[0m\u001b[0me\u001b[0m\u001b[0;34m.\u001b[0m\u001b[0m__traceback__\u001b[0m\u001b[0;34m)\u001b[0m\u001b[0;34m\u001b[0m\u001b[0;34m\u001b[0m\u001b[0m\n\u001b[0;32m---> 67\u001b[0;31m       \u001b[0;32mraise\u001b[0m \u001b[0me\u001b[0m\u001b[0;34m.\u001b[0m\u001b[0mwith_traceback\u001b[0m\u001b[0;34m(\u001b[0m\u001b[0mfiltered_tb\u001b[0m\u001b[0;34m)\u001b[0m \u001b[0;32mfrom\u001b[0m \u001b[0;32mNone\u001b[0m\u001b[0;34m\u001b[0m\u001b[0;34m\u001b[0m\u001b[0m\n\u001b[0m\u001b[1;32m     68\u001b[0m     \u001b[0;32mfinally\u001b[0m\u001b[0;34m:\u001b[0m\u001b[0;34m\u001b[0m\u001b[0;34m\u001b[0m\u001b[0m\n\u001b[1;32m     69\u001b[0m       \u001b[0;32mdel\u001b[0m \u001b[0mfiltered_tb\u001b[0m\u001b[0;34m\u001b[0m\u001b[0;34m\u001b[0m\u001b[0m\n",
      "\u001b[0;32m~/.pyenv/versions/3.8.12/envs/lewagon/lib/python3.8/site-packages/tensorflow/python/framework/func_graph.py\u001b[0m in \u001b[0;36mautograph_handler\u001b[0;34m(*args, **kwargs)\u001b[0m\n\u001b[1;32m   1145\u001b[0m           \u001b[0;32mexcept\u001b[0m \u001b[0mException\u001b[0m \u001b[0;32mas\u001b[0m \u001b[0me\u001b[0m\u001b[0;34m:\u001b[0m  \u001b[0;31m# pylint:disable=broad-except\u001b[0m\u001b[0;34m\u001b[0m\u001b[0;34m\u001b[0m\u001b[0m\n\u001b[1;32m   1146\u001b[0m             \u001b[0;32mif\u001b[0m \u001b[0mhasattr\u001b[0m\u001b[0;34m(\u001b[0m\u001b[0me\u001b[0m\u001b[0;34m,\u001b[0m \u001b[0;34m\"ag_error_metadata\"\u001b[0m\u001b[0;34m)\u001b[0m\u001b[0;34m:\u001b[0m\u001b[0;34m\u001b[0m\u001b[0;34m\u001b[0m\u001b[0m\n\u001b[0;32m-> 1147\u001b[0;31m               \u001b[0;32mraise\u001b[0m \u001b[0me\u001b[0m\u001b[0;34m.\u001b[0m\u001b[0mag_error_metadata\u001b[0m\u001b[0;34m.\u001b[0m\u001b[0mto_exception\u001b[0m\u001b[0;34m(\u001b[0m\u001b[0me\u001b[0m\u001b[0;34m)\u001b[0m\u001b[0;34m\u001b[0m\u001b[0;34m\u001b[0m\u001b[0m\n\u001b[0m\u001b[1;32m   1148\u001b[0m             \u001b[0;32melse\u001b[0m\u001b[0;34m:\u001b[0m\u001b[0;34m\u001b[0m\u001b[0;34m\u001b[0m\u001b[0m\n\u001b[1;32m   1149\u001b[0m               \u001b[0;32mraise\u001b[0m\u001b[0;34m\u001b[0m\u001b[0;34m\u001b[0m\u001b[0m\n",
      "\u001b[0;31mValueError\u001b[0m: in user code:\n\n    File \"/Users/tekyteka/.pyenv/versions/3.8.12/envs/lewagon/lib/python3.8/site-packages/keras/engine/training.py\", line 1801, in predict_function  *\n        return step_function(self, iterator)\n    File \"/Users/tekyteka/.pyenv/versions/3.8.12/envs/lewagon/lib/python3.8/site-packages/keras/engine/training.py\", line 1790, in step_function  **\n        outputs = model.distribute_strategy.run(run_step, args=(data,))\n    File \"/Users/tekyteka/.pyenv/versions/3.8.12/envs/lewagon/lib/python3.8/site-packages/keras/engine/training.py\", line 1783, in run_step  **\n        outputs = model.predict_step(data)\n    File \"/Users/tekyteka/.pyenv/versions/3.8.12/envs/lewagon/lib/python3.8/site-packages/keras/engine/training.py\", line 1751, in predict_step\n        return self(x, training=False)\n    File \"/Users/tekyteka/.pyenv/versions/3.8.12/envs/lewagon/lib/python3.8/site-packages/keras/utils/traceback_utils.py\", line 67, in error_handler\n        raise e.with_traceback(filtered_tb) from None\n    File \"/Users/tekyteka/.pyenv/versions/3.8.12/envs/lewagon/lib/python3.8/site-packages/keras/engine/input_spec.py\", line 264, in assert_input_compatibility\n        raise ValueError(f'Input {input_index} of layer \"{layer_name}\" is '\n\n    ValueError: Input 0 of layer \"sequential_24\" is incompatible with the layer: expected shape=(None, 60, 21), found shape=(32, 21)\n"
     ]
    }
   ],
   "source": [
    "model_run(country_name='Italy', n_seq=200, n_obs=[60], n_feat=20, n_pred=10, split_train=0.7, split_val=0.9, learning_rates=[0.001])"
   ]
  },
  {
   "cell_type": "code",
   "execution_count": 19,
   "id": "797c0eed-4f5c-429f-a98f-1d749a71ef49",
   "metadata": {},
   "outputs": [
    {
     "name": "stdout",
     "output_type": "stream",
     "text": [
      "n_seq\t\t 200 \n",
      "n_seq_val\t 40 \n",
      "n_seq_test\t 20 \n",
      "n_obs\t\t 60 \n",
      "n_feat\t\t 20 \n",
      "n_pred\t\t 10\n",
      "X_train\t (665, 21) \t->\ty_train\t (665,) \n",
      "X_val\t (190, 21) \t->\ty_val\t (190,) \n",
      "X_test\t (95, 21) \t->\ty_test\t (95,)\n",
      "X_train_seq (200, 60, 21) \t->\ty_train_seq\t (200, 10) \n",
      "X_val_seq (40, 60, 21) \t->\ty_val_seq\t (40, 10) \n",
      "X_test_seq (20, 60, 21) \t->\ty_test_seq\t (20, 10)\n",
      "Model: \"sequential_25\"\n",
      "_________________________________________________________________\n",
      " Layer (type)                Output Shape              Param #   \n",
      "=================================================================\n",
      " lstm_68 (LSTM)              (None, 60, 20)            3360      \n",
      "                                                                 \n",
      " lstm_69 (LSTM)              (None, 10)                1240      \n",
      "                                                                 \n",
      " dense_50 (Dense)            (None, 10)                110       \n",
      "                                                                 \n",
      " dense_51 (Dense)            (None, 10)                110       \n",
      "                                                                 \n",
      "=================================================================\n",
      "Total params: 4,820\n",
      "Trainable params: 4,820\n",
      "Non-trainable params: 0\n",
      "_________________________________________________________________\n",
      "rnn_model.summary() None\n",
      "MODEL # 1\n",
      "NB OF OBSERVATIONS TO TRAIN: 60\n",
      "LEARNING RATE: 0.001\n",
      "MIN MAPE: 95.89739990234375\n",
      "BEST MAPE: 95.89739990234375\n",
      "with model #1, nb obs: 60, lr: 0.001\n"
     ]
    },
    {
     "name": "stderr",
     "output_type": "stream",
     "text": [
      "/Users/tekyteka/code/Teky-Teka/covid_time_series_prediction/covid_time_series_prediction/dp_logic/RNN_model.py:203: UserWarning: Matplotlib is currently using agg, which is a non-GUI backend, so cannot show the figure.\n",
      "  plt.show();\n"
     ]
    },
    {
     "ename": "ValueError",
     "evalue": "in user code:\n\n    File \"/Users/tekyteka/.pyenv/versions/3.8.12/envs/lewagon/lib/python3.8/site-packages/keras/engine/training.py\", line 1801, in predict_function  *\n        return step_function(self, iterator)\n    File \"/Users/tekyteka/.pyenv/versions/3.8.12/envs/lewagon/lib/python3.8/site-packages/keras/engine/training.py\", line 1790, in step_function  **\n        outputs = model.distribute_strategy.run(run_step, args=(data,))\n    File \"/Users/tekyteka/.pyenv/versions/3.8.12/envs/lewagon/lib/python3.8/site-packages/keras/engine/training.py\", line 1783, in run_step  **\n        outputs = model.predict_step(data)\n    File \"/Users/tekyteka/.pyenv/versions/3.8.12/envs/lewagon/lib/python3.8/site-packages/keras/engine/training.py\", line 1751, in predict_step\n        return self(x, training=False)\n    File \"/Users/tekyteka/.pyenv/versions/3.8.12/envs/lewagon/lib/python3.8/site-packages/keras/utils/traceback_utils.py\", line 67, in error_handler\n        raise e.with_traceback(filtered_tb) from None\n    File \"/Users/tekyteka/.pyenv/versions/3.8.12/envs/lewagon/lib/python3.8/site-packages/keras/engine/input_spec.py\", line 264, in assert_input_compatibility\n        raise ValueError(f'Input {input_index} of layer \"{layer_name}\" is '\n\n    ValueError: Input 0 of layer \"sequential_25\" is incompatible with the layer: expected shape=(None, 60, 21), found shape=(None, 21)\n",
     "output_type": "error",
     "traceback": [
      "\u001b[0;31m---------------------------------------------------------------------------\u001b[0m",
      "\u001b[0;31mValueError\u001b[0m                                Traceback (most recent call last)",
      "\u001b[0;32m/var/folders/hz/t9cq46wj2zl48zr3_0lc0rw80000gn/T/ipykernel_27821/255711950.py\u001b[0m in \u001b[0;36m<module>\u001b[0;34m\u001b[0m\n\u001b[0;32m----> 1\u001b[0;31m \u001b[0mmodel_run\u001b[0m\u001b[0;34m(\u001b[0m\u001b[0mcountry_name\u001b[0m\u001b[0;34m=\u001b[0m\u001b[0;34m'Belgium'\u001b[0m\u001b[0;34m,\u001b[0m \u001b[0mn_seq\u001b[0m\u001b[0;34m=\u001b[0m\u001b[0;36m200\u001b[0m\u001b[0;34m,\u001b[0m \u001b[0mn_obs\u001b[0m\u001b[0;34m=\u001b[0m\u001b[0;34m[\u001b[0m\u001b[0;36m60\u001b[0m\u001b[0;34m]\u001b[0m\u001b[0;34m,\u001b[0m \u001b[0mn_feat\u001b[0m\u001b[0;34m=\u001b[0m\u001b[0;36m20\u001b[0m\u001b[0;34m,\u001b[0m \u001b[0mn_pred\u001b[0m\u001b[0;34m=\u001b[0m\u001b[0;36m10\u001b[0m\u001b[0;34m,\u001b[0m \u001b[0msplit_train\u001b[0m\u001b[0;34m=\u001b[0m\u001b[0;36m0.7\u001b[0m\u001b[0;34m,\u001b[0m \u001b[0msplit_val\u001b[0m\u001b[0;34m=\u001b[0m\u001b[0;36m0.9\u001b[0m\u001b[0;34m,\u001b[0m \u001b[0mlearning_rates\u001b[0m\u001b[0;34m=\u001b[0m\u001b[0;34m[\u001b[0m\u001b[0;36m0.001\u001b[0m\u001b[0;34m]\u001b[0m\u001b[0;34m)\u001b[0m\u001b[0;34m\u001b[0m\u001b[0;34m\u001b[0m\u001b[0m\n\u001b[0m",
      "\u001b[0;32m~/code/Teky-Teka/covid_time_series_prediction/covid_time_series_prediction/dp_logic/RNN_model.py\u001b[0m in \u001b[0;36mmodel_run\u001b[0;34m(country_name, n_seq, n_obs, n_feat, n_pred, split_train, split_val, learning_rates)\u001b[0m\n\u001b[1;32m    213\u001b[0m                                     \u001b[0;31m# 4. Evaluating\u001b[0m\u001b[0;34m\u001b[0m\u001b[0;34m\u001b[0m\u001b[0;34m\u001b[0m\u001b[0m\n\u001b[1;32m    214\u001b[0m                                     \u001b[0;31m# The prediction (one per sequence/city)\u001b[0m\u001b[0;34m\u001b[0m\u001b[0;34m\u001b[0m\u001b[0;34m\u001b[0m\u001b[0m\n\u001b[0;32m--> 215\u001b[0;31m                                     \u001b[0my_pred\u001b[0m \u001b[0;34m=\u001b[0m \u001b[0mrnn_model\u001b[0m\u001b[0;34m.\u001b[0m\u001b[0mpredict\u001b[0m\u001b[0;34m(\u001b[0m\u001b[0mX_test\u001b[0m\u001b[0;34m)\u001b[0m\u001b[0;34m\u001b[0m\u001b[0;34m\u001b[0m\u001b[0m\n\u001b[0m\u001b[1;32m    216\u001b[0m                                     \u001b[0mprint\u001b[0m\u001b[0;34m(\u001b[0m\u001b[0my_pred\u001b[0m\u001b[0;34m.\u001b[0m\u001b[0mshape\u001b[0m\u001b[0;34m)\u001b[0m\u001b[0;34m\u001b[0m\u001b[0;34m\u001b[0m\u001b[0m\n\u001b[1;32m    217\u001b[0m                                     \u001b[0;31m# Distribution of the predictions\u001b[0m\u001b[0;34m\u001b[0m\u001b[0;34m\u001b[0m\u001b[0;34m\u001b[0m\u001b[0m\n",
      "\u001b[0;32m~/.pyenv/versions/3.8.12/envs/lewagon/lib/python3.8/site-packages/keras/utils/traceback_utils.py\u001b[0m in \u001b[0;36merror_handler\u001b[0;34m(*args, **kwargs)\u001b[0m\n\u001b[1;32m     65\u001b[0m     \u001b[0;32mexcept\u001b[0m \u001b[0mException\u001b[0m \u001b[0;32mas\u001b[0m \u001b[0me\u001b[0m\u001b[0;34m:\u001b[0m  \u001b[0;31m# pylint: disable=broad-except\u001b[0m\u001b[0;34m\u001b[0m\u001b[0;34m\u001b[0m\u001b[0m\n\u001b[1;32m     66\u001b[0m       \u001b[0mfiltered_tb\u001b[0m \u001b[0;34m=\u001b[0m \u001b[0m_process_traceback_frames\u001b[0m\u001b[0;34m(\u001b[0m\u001b[0me\u001b[0m\u001b[0;34m.\u001b[0m\u001b[0m__traceback__\u001b[0m\u001b[0;34m)\u001b[0m\u001b[0;34m\u001b[0m\u001b[0;34m\u001b[0m\u001b[0m\n\u001b[0;32m---> 67\u001b[0;31m       \u001b[0;32mraise\u001b[0m \u001b[0me\u001b[0m\u001b[0;34m.\u001b[0m\u001b[0mwith_traceback\u001b[0m\u001b[0;34m(\u001b[0m\u001b[0mfiltered_tb\u001b[0m\u001b[0;34m)\u001b[0m \u001b[0;32mfrom\u001b[0m \u001b[0;32mNone\u001b[0m\u001b[0;34m\u001b[0m\u001b[0;34m\u001b[0m\u001b[0m\n\u001b[0m\u001b[1;32m     68\u001b[0m     \u001b[0;32mfinally\u001b[0m\u001b[0;34m:\u001b[0m\u001b[0;34m\u001b[0m\u001b[0;34m\u001b[0m\u001b[0m\n\u001b[1;32m     69\u001b[0m       \u001b[0;32mdel\u001b[0m \u001b[0mfiltered_tb\u001b[0m\u001b[0;34m\u001b[0m\u001b[0;34m\u001b[0m\u001b[0m\n",
      "\u001b[0;32m~/.pyenv/versions/3.8.12/envs/lewagon/lib/python3.8/site-packages/tensorflow/python/framework/func_graph.py\u001b[0m in \u001b[0;36mautograph_handler\u001b[0;34m(*args, **kwargs)\u001b[0m\n\u001b[1;32m   1145\u001b[0m           \u001b[0;32mexcept\u001b[0m \u001b[0mException\u001b[0m \u001b[0;32mas\u001b[0m \u001b[0me\u001b[0m\u001b[0;34m:\u001b[0m  \u001b[0;31m# pylint:disable=broad-except\u001b[0m\u001b[0;34m\u001b[0m\u001b[0;34m\u001b[0m\u001b[0m\n\u001b[1;32m   1146\u001b[0m             \u001b[0;32mif\u001b[0m \u001b[0mhasattr\u001b[0m\u001b[0;34m(\u001b[0m\u001b[0me\u001b[0m\u001b[0;34m,\u001b[0m \u001b[0;34m\"ag_error_metadata\"\u001b[0m\u001b[0;34m)\u001b[0m\u001b[0;34m:\u001b[0m\u001b[0;34m\u001b[0m\u001b[0;34m\u001b[0m\u001b[0m\n\u001b[0;32m-> 1147\u001b[0;31m               \u001b[0;32mraise\u001b[0m \u001b[0me\u001b[0m\u001b[0;34m.\u001b[0m\u001b[0mag_error_metadata\u001b[0m\u001b[0;34m.\u001b[0m\u001b[0mto_exception\u001b[0m\u001b[0;34m(\u001b[0m\u001b[0me\u001b[0m\u001b[0;34m)\u001b[0m\u001b[0;34m\u001b[0m\u001b[0;34m\u001b[0m\u001b[0m\n\u001b[0m\u001b[1;32m   1148\u001b[0m             \u001b[0;32melse\u001b[0m\u001b[0;34m:\u001b[0m\u001b[0;34m\u001b[0m\u001b[0;34m\u001b[0m\u001b[0m\n\u001b[1;32m   1149\u001b[0m               \u001b[0;32mraise\u001b[0m\u001b[0;34m\u001b[0m\u001b[0;34m\u001b[0m\u001b[0m\n",
      "\u001b[0;31mValueError\u001b[0m: in user code:\n\n    File \"/Users/tekyteka/.pyenv/versions/3.8.12/envs/lewagon/lib/python3.8/site-packages/keras/engine/training.py\", line 1801, in predict_function  *\n        return step_function(self, iterator)\n    File \"/Users/tekyteka/.pyenv/versions/3.8.12/envs/lewagon/lib/python3.8/site-packages/keras/engine/training.py\", line 1790, in step_function  **\n        outputs = model.distribute_strategy.run(run_step, args=(data,))\n    File \"/Users/tekyteka/.pyenv/versions/3.8.12/envs/lewagon/lib/python3.8/site-packages/keras/engine/training.py\", line 1783, in run_step  **\n        outputs = model.predict_step(data)\n    File \"/Users/tekyteka/.pyenv/versions/3.8.12/envs/lewagon/lib/python3.8/site-packages/keras/engine/training.py\", line 1751, in predict_step\n        return self(x, training=False)\n    File \"/Users/tekyteka/.pyenv/versions/3.8.12/envs/lewagon/lib/python3.8/site-packages/keras/utils/traceback_utils.py\", line 67, in error_handler\n        raise e.with_traceback(filtered_tb) from None\n    File \"/Users/tekyteka/.pyenv/versions/3.8.12/envs/lewagon/lib/python3.8/site-packages/keras/engine/input_spec.py\", line 264, in assert_input_compatibility\n        raise ValueError(f'Input {input_index} of layer \"{layer_name}\" is '\n\n    ValueError: Input 0 of layer \"sequential_25\" is incompatible with the layer: expected shape=(None, 60, 21), found shape=(None, 21)\n"
     ]
    }
   ],
   "source": [
    "model_run(country_name='Belgium', n_seq=200, n_obs=[60], n_feat=20, n_pred=10, split_train=0.7, split_val=0.9, learning_rates=[0.001])"
   ]
  },
  {
   "cell_type": "markdown",
   "id": "54f0c011-e6d5-442a-b6cb-29d076a9d04a",
   "metadata": {
    "tags": []
   },
   "source": [
    "## **RNN** models on **FRA** country with **Sumedha**'s datasets"
   ]
  },
  {
   "cell_type": "code",
   "execution_count": null,
   "id": "1e21372d-9cd7-4884-b42b-012437d3337e",
   "metadata": {
    "tags": []
   },
   "outputs": [],
   "source": [
    "# Sumedha train set\n",
    "n_seq = 200 ## nb of sequences (samples)\n",
    "n_obs = [70, 65, 60] # maxi = 96 (stay around 70 or more test_split)\n",
    "n_obs = 70 # maxi = 96 (stay around 70 or more test_split)\n",
    "n_feat = 20 #  X_train.shape[1] # 20 feature:\n",
    "n_pred = 10 # nb of days where we can predict new daily deaths\n",
    "n_pred = 1 ## <<< REMOVE AFTER OK TESTING!\n",
    "n_seq_val = n_seq // 5 # number of sequences in test set ?\n",
    "n_seq_test = n_seq // 10 # number of sequences in test set ?\n",
    "print('n_seq\\t\\t', n_seq, '\\nn_seq_val\\t', n_seq_val, '\\nn_seq_test\\t', n_seq_test, '\\nn_obs\\t\\t', n_obs, '\\nn_feat\\t\\t', n_feat)\n",
    "\n",
    "split_train=0.7 ; split_val=0.9\n",
    "\n",
    "# 0. The Normalization Layer\n",
    "scaler = MinMaxScaler()\n",
    "scaler.fit_transform(X_ts_fra_indicator)\n",
    "\n",
    "train = int((len(X_ts_fra_indicator)*split_train))\n",
    "val = int(len(X_ts_fra_indicator)*split_val)\n",
    "\n",
    "X_train = X_ts_fra_indicator[:train]\n",
    "y_train = y_ts_fra_indicator[:train]\n",
    "\n",
    "X_val = X_ts_fra_indicator[train:val]\n",
    "y_val = y_ts_fra_indicator[train:val]\n",
    "\n",
    "X_test = X_ts_fra_indicator[val:]\n",
    "y_test = y_ts_fra_indicator[val:]\n"
   ]
  },
  {
   "cell_type": "code",
   "execution_count": null,
   "id": "089d0d52-9122-40a3-84fe-8e0cbbf5a140",
   "metadata": {
    "tags": []
   },
   "outputs": [],
   "source": [
    "model_run(country_name='France', n_seq=200, n_obs=[62, 61, 60], n_feat=20, n_pred=1, split_train=0.7, split_val=0.9, learning_rates=[0.1, 0.01, 0.001])"
   ]
  },
  {
   "cell_type": "code",
   "execution_count": null,
   "id": "70373313-8bfb-47ea-90a7-4c193c5cdfb3",
   "metadata": {},
   "outputs": [],
   "source": [
    "model_run(country_name='France', n_seq=200, n_obs=[62, 61, 60], n_feat=20, n_pred=1, split_train=0.7, split_val=0.9, learning_rates=[0.1, 0.05, 0.01])"
   ]
  },
  {
   "cell_type": "markdown",
   "id": "cd1a652e-f059-4adf-bf05-62b7120a24d2",
   "metadata": {
    "tags": []
   },
   "source": [
    "### RNN model #3 architecture "
   ]
  },
  {
   "cell_type": "code",
   "execution_count": null,
   "id": "50d57380-7866-4ec5-8e40-b86653234646",
   "metadata": {},
   "outputs": [],
   "source": [
    "# 1. The Architecture\n",
    "\"\"\"   - 3rd model layers architecture (simple -> complex) (less data -> more data) (print(loss) function check lecture)\n",
    "> LSTM\n",
    "\"\"\"\n",
    "rnn_model_3 = Sequential()\n",
    "rnn_model_3.add(normalizer) # Using the Normalization layer to standardize the datapoints during the forward pass\n",
    "# Input len(train) (input_shape=(?,?))\n",
    "rnn_model_3.add(LSTM(units=30, activation='tanh'))  ## , input_shape=(?,?))) without a Normalizer layer\n",
    "# output return sequences = True\n",
    "rnn_model_3.add(Dense(10, activation = 'relu')) ## add 1 or more 'relu' layers\n",
    "# Output 10 only, no more RNN just dropout()\n",
    "# rnn_model_3.add(layers.Dropout(0.3)) ## if RNN model over-fit\n",
    "rnn_model_3.add(Dense(n_pred, activation = 'linear'))"
   ]
  },
  {
   "cell_type": "markdown",
   "id": "1e901218-eb1c-4d85-b40e-9beda6c3c548",
   "metadata": {
    "tags": []
   },
   "source": [
    "### Model #1 evaluating"
   ]
  },
  {
   "cell_type": "code",
   "execution_count": null,
   "id": "db1267f1-8a86-4f8b-82f5-01478bc0d350",
   "metadata": {
    "tags": []
   },
   "outputs": [],
   "source": [
    "# 4. Evaluating\n",
    "# The prediction (one per sequence/city)\n",
    "y_pred = rnn_model.predict(X_test) \n",
    "print(y_pred.shape)\n",
    "# Distribution of the predictions\n",
    "pd.DataFrame(y_pred).mean().sort_values(ascending=False)"
   ]
  },
  {
   "cell_type": "markdown",
   "id": "06c615d0-d83c-4b7d-b076-b914179fb0ac",
   "metadata": {
    "tags": []
   },
   "source": [
    "### Time Series Forecasting with model #1"
   ]
  },
  {
   "cell_type": "markdown",
   "id": "e8cbe63f-114d-4717-a404-0aa7b96de1b9",
   "metadata": {
    "tags": []
   },
   "source": [
    "### Compile model #3 with 'rmsprop'"
   ]
  },
  {
   "cell_type": "code",
   "execution_count": null,
   "id": "9524eb0a-0117-4006-af85-9f8235e96cd1",
   "metadata": {},
   "outputs": [],
   "source": [
    "# 2. Compiling with 'rmsprop' rather than 'adam' (recommended)\n",
    "optimizer = RMSprop(\n",
    "                learning_rate=0.001,\n",
    "                rho=0.9,\n",
    "                momentum=0.0,\n",
    "                epsilon=1e-07,\n",
    "                centered=False\n",
    "            )\n",
    "rnn_model_3.compile(loss='mse',\n",
    "              optimizer= optimizer, # optimizer='rmsprop'    <- adapt learning rate\n",
    "                 metrics='mape')  # Recommended optimizer for RNNs\n",
    "rnn_model_3.summary()"
   ]
  },
  {
   "cell_type": "code",
   "execution_count": null,
   "id": "8a685f57-01a6-4405-8b38-0cc3c7fa5489",
   "metadata": {},
   "outputs": [],
   "source": [
    "rnn_model.summary()"
   ]
  },
  {
   "cell_type": "markdown",
   "id": "739df8e1-5a54-4634-a074-e644a6a796a4",
   "metadata": {
    "tags": []
   },
   "source": [
    "### Train model #2"
   ]
  },
  {
   "cell_type": "code",
   "execution_count": null,
   "id": "571254c8",
   "metadata": {},
   "outputs": [],
   "source": [
    "history = train_rnn_model(rnn_model, X_train=X_train, y_train=y_train, X_val=X_val, y_val=y_val, patience=5, epochs=200)\n",
    "plt.plot(history.history['mape'])\n",
    "plt.plot(history.history['val_mape'])\n",
    "plt.show();\n",
    "type(history)"
   ]
  },
  {
   "cell_type": "code",
   "execution_count": null,
   "id": "d5d3333e",
   "metadata": {},
   "outputs": [],
   "source": [
    "trai### Train model #1n_series = [50, 150, 200, 300, 400]\n",
    "overfit_es =   [2, 6, 6, 5, 6 ]\n",
    "print('type(overfit_es), overfit_es', type(overfit_es), overfit_es)\n",
    "# if overfit_es:\n",
    "#     print(\"early stopping\")\n",
    "#     history = train_rnn_model(patience=overfit_es)\n",
    "# else:\n",
    "# print(\"No early stopping\")\n",
    "for i in range(len(train_series)):\n",
    "    history = train_rnn_model(model=rnn_model_2, epochs=train_series[i], patience=overfit_es[i])\n",
    "    plt.plot(history.history['mape'])\n",
    "    plt.plot(history.history['val_mape'])\n",
    "    plt.show();"
   ]
  },
  {
   "cell_type": "markdown",
   "id": "a1950356",
   "metadata": {
    "tags": []
   },
   "source": [
    "### RNN model #3 architecture "
   ]
  },
  {
   "cell_type": "markdown",
   "id": "2b325a69",
   "metadata": {},
   "source": [
    "#### 🚀 The **LSTM (= Long Short Term Memory)** with their ability to *avoid the vanishing gradient problem*, should be preferred over a SimpleRNN."
   ]
  },
  {
   "cell_type": "code",
   "execution_count": null,
   "id": "a2ad1973",
   "metadata": {},
   "outputs": [],
   "source": [
    "# 1. The Architecture\n",
    "\"\"\"   - 3rd model layers architecture (simple -> complex) (less data -> more data) (print(loss) function check lecture)\n",
    "> LSTM\n",
    "\"\"\"\n",
    "rnn_model_3 = Sequential()\n",
    "rnn_model_3.add(normalizer) # Using the Normalization layer to standardize the datapoints during the forward pass\n",
    "# Input len(train) (input_shape=(?,?))\n",
    "rnn_model_3.add(LSTM(units=30, activation='tanh'))  ## , input_shape=(?,?))) without a Normalizer layer\n",
    "# output return sequences = True\n",
    "rnn_model_3.add(Dense(10, activation = 'relu')) ## add 1 or more 'relu' layers\n",
    "# Output 10 only, no more RNN just dropout()\n",
    "# rnn_model_3.add(layers.Dropout(0.3)) ## if RNN model over-fit\n",
    "rnn_model_3.add(Dense(n_pred, activation = 'linear'))"
   ]
  },
  {
   "cell_type": "markdown",
   "id": "83ae1226",
   "metadata": {
    "tags": []
   },
   "source": [
    "### Compile model #3 with 'rmsprop'"
   ]
  },
  {
   "cell_type": "code",
   "execution_count": null,
   "id": "47f878a5",
   "metadata": {},
   "outputs": [],
   "source": [
    "# 2. Compiling with 'rmsprop' rather than 'adam' (recommended)\n",
    "optimizer = RMSprop(\n",
    "                learning_rate=0.001,\n",
    "                rho=0.9,\n",
    "                momentum=0.0,\n",
    "                epsilon=1e-07,\n",
    "                centered=False\n",
    "            )\n",
    "rnn_model_3.compile(loss='mse',\n",
    "              optimizer= optimizer, # optimizer='rmsprop'    <- adapt learning rate\n",
    "                 metrics='mape')  # Recommended optimizer for RNNs\n",
    "rnn_model_3.summary()"
   ]
  },
  {
   "cell_type": "markdown",
   "id": "0f1470a9",
   "metadata": {
    "tags": []
   },
   "source": [
    "### Train model #2"
   ]
  },
  {
   "cell_type": "markdown",
   "id": "1b1673f1",
   "metadata": {
    "tags": []
   },
   "source": [
    "### RNN model #3 architecture "
   ]
  },
  {
   "cell_type": "code",
   "execution_count": null,
   "id": "92739ee1",
   "metadata": {},
   "outputs": [],
   "source": [
    "# 1. The Architecture\n",
    "\"\"\"   - 3rd model layers architecture (simple -> complex) (less data -> more data) (print(loss) function check lecture)\n",
    "> LSTM\n",
    "\"\"\"\n",
    "rnn_model_3 = Sequential()\n",
    "rnn_model_3.add(normalizer) # Using the Normalization layer to standardize the datapoints during the forward pass\n",
    "# Input len(train) (input_shape=(?,?))\n",
    "rnn_model_3.add(LSTM(units=30, activation='tanh'))  ## , input_shape=(?,?))) without a Normalizer layer\n",
    "# output return sequences = True\n",
    "rnn_model_3.add(Dense(10, activation = 'relu')) ## add 1 or more 'relu' layers\n",
    "# Output 10 only, no more RNN just dropout()\n",
    "# rnn_model_3.add(layers.Dropout(0.3)) ## if RNN model over-fit\n",
    "rnn_model_3.add(Dense(n_pred, activation = 'linear'))"
   ]
  },
  {
   "cell_type": "markdown",
   "id": "50c972bc",
   "metadata": {
    "tags": []
   },
   "source": [
    "### Compile model #3 with 'rmsprop'"
   ]
  },
  {
   "cell_type": "code",
   "execution_count": null,
   "id": "58f0a9e2",
   "metadata": {},
   "outputs": [],
   "source": [
    "# 2. Compiling with 'rmsprop' rather than 'adam' (recommended)\n",
    "optimizer = RMSprop(\n",
    "                learning_rate=0.001,\n",
    "                rho=0.9,\n",
    "                momentum=0.0,\n",
    "                epsilon=1e-07,\n",
    "                centered=False\n",
    "            )\n",
    "rnn_model_3.compile(loss='mse',\n",
    "              optimizer= optimizer, # optimizer='rmsprop'    <- adapt learning rate\n",
    "                 metrics='mape')  # Recommended optimizer for RNNs\n",
    "rnn_model_3.summary()"
   ]
  },
  {
   "cell_type": "markdown",
   "id": "fe8cc51a-a8a3-4a61-9c9e-96317f159d50",
   "metadata": {
    "tags": []
   },
   "source": [
    "### Train model #3"
   ]
  },
  {
   "cell_type": "markdown",
   "id": "b923f50a",
   "metadata": {
    "tags": []
   },
   "source": [
    "### Train model #2"
   ]
  },
  {
   "cell_type": "code",
   "execution_count": null,
   "id": "5ae6e92e",
   "metadata": {},
   "outputs": [],
   "source": [
    "# min(history.history['mape'])\n",
    "\n",
    "# print(\"adjust early stopping\")\n",
    "# overfit_es = [d[0]+1 for d in enumerate(history.history['mape']) if d[1] == min(history.history['mape'])][0]\n",
    "# overfit_es"
   ]
  },
  {
   "cell_type": "code",
   "execution_count": null,
   "id": "2c43e359-c428-43f9-9369-f0804a5acdac",
   "metadata": {
    "tags": []
   },
   "outputs": [],
   "source": [
    "min(history.history['mape']), max(history.history['mape']), history.history['mape'] # blue line"
   ]
  },
  {
   "cell_type": "code",
   "execution_count": null,
   "id": "b13f6eb0-e734-48c4-a455-49949ea62a75",
   "metadata": {
    "tags": []
   },
   "outputs": [],
   "source": [
    "max(history.history['val_mape']), history.history['val_mape'] # orange line"
   ]
  },
  {
   "cell_type": "markdown",
   "id": "daba3da5-6613-418e-9919-2f7d50e0078e",
   "metadata": {
    "jp-MarkdownHeadingCollapsed": true,
    "tags": []
   },
   "source": [
    "### Model #1 evaluating"
   ]
  },
  {
   "cell_type": "code",
   "execution_count": null,
   "id": "c6ed1ac5-3b8a-4049-abe8-9431de2121c7",
   "metadata": {
    "tags": []
   },
   "outputs": [],
   "source": [
    "# 4. Evaluating\n",
    "# The prediction (one per sequence/city)\n",
    "y_pred = rnn_model.predict(X_test) \n",
    "print(y_pred.shape)\n",
    "# Distribution of the predictions\n",
    "pd.DataFrame(y_pred).mean().sort_values(ascending=False)"
   ]
  },
  {
   "cell_type": "markdown",
   "id": "32232f29-fc87-49fc-9f6f-11dcb25a9f92",
   "metadata": {
    "tags": []
   },
   "source": [
    "### Time Series Forecasting with model #1"
   ]
  },
  {
   "cell_type": "code",
   "execution_count": null,
   "id": "13a68310-d512-4825-a2c4-21cb68e5f687",
   "metadata": {},
   "outputs": [],
   "source": [
    "# Check your code below\n",
    "assert y_pred.shape == (n_seq_test, n_pred)\n",
    "# Distribution of the real values y_train\n",
    "pd.DataFrame(y_train).mean().sort_values(ascending=False)"
   ]
  },
  {
   "cell_type": "code",
   "execution_count": null,
   "id": "2c8cad73-73e8-4211-908a-3789b7a03497",
   "metadata": {},
   "outputs": [],
   "source": [
    "# Distribution of the real values y_train\n",
    "pd.DataFrame(y_train).mean().sort_values(ascending=False)"
   ]
  },
  {
   "cell_type": "code",
   "execution_count": null,
   "id": "0cd17d07",
   "metadata": {},
   "outputs": [],
   "source": [
    "trai### Train model #1n_series = [50, 150, 200, 300, 400]\n",
    "overfit_es =   [2, 6, 6, 5, 6 ]\n",
    "print('type(overfit_es), overfit_es', type(overfit_es), overfit_es)\n",
    "# if overfit_es:\n",
    "#     print(\"early stopping\")\n",
    "#     history = train_rnn_model(patience=overfit_es)\n",
    "# else:\n",
    "# print(\"No early stopping\")\n",
    "for i in range(len(train_series)):\n",
    "    history = train_rnn_model(model=rnn_model_2, X_train=X_train, y_train=y_train, X_val=X_val, y_val=y_val, epochs=train_series[i], patience=overfit_es[i])\n",
    "    plt.plot(history.history['mape'])\n",
    "    plt.plot(history.history['val_mape'])\n",
    "    plt.show();"
   ]
  },
  {
   "cell_type": "code",
   "execution_count": null,
   "id": "8f576952-8105-43b3-9d97-39d19277c207",
   "metadata": {
    "tags": []
   },
   "outputs": [],
   "source": [
    "data_index=data_index.set_index('date')"
   ]
  },
  {
   "cell_type": "code",
   "execution_count": null,
   "id": "39c6cdfe",
   "metadata": {},
   "outputs": [],
   "source": []
  }
 ],
 "metadata": {
  "kernelspec": {
   "display_name": "Python 3 (ipykernel)",
   "language": "python",
   "name": "python3"
  },
  "language_info": {
   "codemirror_mode": {
    "name": "ipython",
    "version": 3
   },
   "file_extension": ".py",
   "mimetype": "text/x-python",
   "name": "python",
   "nbconvert_exporter": "python",
   "pygments_lexer": "ipython3",
   "version": "3.8.12"
  },
  "toc": {
   "base_numbering": 1,
   "nav_menu": {},
   "number_sections": true,
   "sideBar": true,
   "skip_h1_title": false,
   "title_cell": "Table of Contents",
   "title_sidebar": "Contents",
   "toc_cell": false,
   "toc_position": {},
   "toc_section_display": true,
   "toc_window_display": false
  },
  "vscode": {
   "interpreter": {
    "hash": "e588d92b224e11b16adbbadd39936dea13a6488171770263a646fc57f44563d8"
   }
  }
 },
 "nbformat": 4,
 "nbformat_minor": 5
}
