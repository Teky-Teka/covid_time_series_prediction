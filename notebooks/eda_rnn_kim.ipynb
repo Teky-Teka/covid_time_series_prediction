{
 "cells": [
  {
   "cell_type": "markdown",
   "id": "2cac72ae-9be5-43d4-87d3-b2319a0f757b",
   "metadata": {
    "tags": []
   },
   "source": [
    "# Deep Learning Time Series COVID-19 Cases Prediction"
   ]
  },
  {
   "cell_type": "markdown",
   "id": "6a246bb7-0cdf-4939-a4e9-870f871706f7",
   "metadata": {
    "tags": []
   },
   "source": [
    "## Project Setup"
   ]
  },
  {
   "cell_type": "markdown",
   "id": "97dd5297-79e4-4864-bb68-8deb37dbc70a",
   "metadata": {
    "tags": []
   },
   "source": [
    "### Dependencies importing"
   ]
  },
  {
   "cell_type": "code",
   "execution_count": 1,
   "id": "e6c99354",
   "metadata": {},
   "outputs": [],
   "source": [
    "# Auto reload imported module every time a jupyter cell is executed\n",
    "%load_ext autoreload\n",
    "%autoreload 2"
   ]
  },
  {
   "cell_type": "code",
   "execution_count": 57,
   "id": "de425903-9365-4407-8ae8-9b20a6e41dd6",
   "metadata": {},
   "outputs": [],
   "source": [
    "import numpy as np\n",
    "import pandas as pd\n",
    "import scipy\n",
    "from statsmodels.tsa.stattools import acf, pacf\n",
    "from statsmodels.graphics.tsaplots import plot_acf, plot_pacf\n",
    "import matplotlib.pyplot as plt\n",
    "%matplotlib inline\n",
    "import plotly.express as px\n",
    "from statsmodels.graphics.tsaplots import plot_acf, plot_pacf\n",
    "import requests\n",
    "import pandas_profiling\n",
    "from typing import overload\n",
    "from tensorflow.keras import layers\n",
    "from tensorflow.keras.callbacks import EarlyStopping\n",
    "from tensorflow.keras.layers.experimental.preprocessing import Normalization\n",
    "from tensorflow.keras.layers import Dense, SimpleRNN, LSTM, GRU, Flatten\n",
    "from tensorflow.keras.models import Sequential\n",
    "from tensorflow.keras.preprocessing.sequence import pad_sequences\n",
    "from tensorflow.keras.optimizers import RMSprop \n",
    "from covid_time_series_prediction.ml_logic import preprocessor\n",
    "# from ml_logic.country_data import country_output\n",
    "from covid_time_series_prediction.ml_logic.preprocessor import train_test_set, scaler"
   ]
  },
  {
   "cell_type": "markdown",
   "id": "332849e5-8682-4079-8266-8a22c70d7d38",
   "metadata": {
    "tags": []
   },
   "source": [
    "## Data sourcing"
   ]
  },
  {
   "cell_type": "markdown",
   "id": "cee22a40-a282-4e4f-bf18-ce8a7633b59c",
   "metadata": {
    "tags": []
   },
   "source": [
    "### Data API "
   ]
  },
  {
   "cell_type": "markdown",
   "id": "6e7e9b20-7339-486d-8ebc-21b0394c5e5f",
   "metadata": {
    "tags": []
   },
   "source": [
    "#### By country over time"
   ]
  },
  {
   "cell_type": "code",
   "execution_count": null,
   "id": "97c36f91-5db2-4aa7-b598-45ae52f2dc46",
   "metadata": {},
   "outputs": [],
   "source": [
    "# def fetch_time_series(feature='stringency', start_date='2020-02-14', end_date='2021-02-14'):\n",
    "#     \"\"\"\n",
    "#     Get stringency time series for each countries requesting API.\n",
    "#     Returns json dict with TS between start_date and end_date like 'YYYY-MM-DD'.\n",
    "#     \"\"\"\n",
    "#     url = f'https://covidtrackerapi.bsg.ox.ac.uk/api/v2/{feature}/date-range/{start_date}/{end_date}'\n",
    "#     response = requests.get(url)\n",
    "#     if response.status_code != 200:\n",
    "#         return ''\n",
    "#     data = response.json()\n",
    "#     return data"
   ]
  },
  {
   "cell_type": "code",
   "execution_count": null,
   "id": "f54f6689-5b7f-42e3-891b-57367b4658e5",
   "metadata": {},
   "outputs": [],
   "source": [
    "# countries_time_series_api = fetch_time_series()"
   ]
  },
  {
   "cell_type": "code",
   "execution_count": null,
   "id": "db6bad4c-3c99-4620-aead-b7951a993db7",
   "metadata": {},
   "outputs": [],
   "source": [
    "# [(k, [c for c in v if c == 'VNM'])  for k, v in countries_time_series_api.items()  if k == 'countries' ]"
   ]
  },
  {
   "cell_type": "code",
   "execution_count": null,
   "id": "59acb5e4-2aee-4aa5-be96-ac8af9d3a96a",
   "metadata": {
    "tags": []
   },
   "outputs": [],
   "source": [
    "# [([([([(vee)  for kaaa, veee  in vee.items() if kaaa in ['date_value', 'confirmed']  ])  for kaa, vee  in ve.items() if kaa =='VNM'   ])  for ka, ve  in v.items() ])  for k, v in countries_time_series_api.items() if k=='data'   ]"
   ]
  },
  {
   "cell_type": "code",
   "execution_count": null,
   "id": "bdb51b76-85af-4077-8db0-4b74529104a9",
   "metadata": {
    "tags": []
   },
   "outputs": [],
   "source": [
    "# [(k, [(ka, [(kaa, vee)  for kaa, vee  in ve.items() if kaa =='USA'   ])  for ka, ve  in v.items() ])  for k, v in countries_time_series_api.items() if k=='data'   ]"
   ]
  },
  {
   "cell_type": "markdown",
   "id": "b518b601-27e8-4411-9b10-165c94c89c3a",
   "metadata": {
    "tags": []
   },
   "source": [
    "#### Country data for a specific day"
   ]
  },
  {
   "cell_type": "code",
   "execution_count": null,
   "id": "0b2e858c-c9e9-4d78-9d94-804e06fbf492",
   "metadata": {},
   "outputs": [],
   "source": [
    "# def fetch_data(country='USA', date='2020-08-14'):\n",
    "#     \"\"\"\n",
    "#     Get stringency data for one country {ALPHA-3} requesting API.\n",
    "#     Returns json dict with data for country like 'AAA' and specific date and like 'YYYY-MM-DD'.\n",
    "#     \"\"\"\n",
    "#     url = f'https://covidtrackerapi.bsg.ox.ac.uk/api/v2/stringency/actions/{country}/{date}'\n",
    "#     response = requests.get(url)\n",
    "#     if response.status_code != 200:\n",
    "#         return ''\n",
    "#     data = response.json()\n",
    "#     return data"
   ]
  },
  {
   "cell_type": "code",
   "execution_count": null,
   "id": "0debbac8-54a8-482a-b339-d5fa249c4a03",
   "metadata": {},
   "outputs": [],
   "source": [
    "# country_data_api = fetch_data()"
   ]
  },
  {
   "cell_type": "code",
   "execution_count": null,
   "id": "62c13eee-1681-40ca-b0d2-2ab21437191f",
   "metadata": {
    "tags": []
   },
   "outputs": [],
   "source": [
    "# [[';'.join([str(kk) for kk, vv in d.items()]) for i, d in enumerate(v) if type(d) == dict and i == 0] for v in country_data_api.values()][0]"
   ]
  },
  {
   "cell_type": "code",
   "execution_count": null,
   "id": "aa81f0b8-9fc7-4e38-8e24-99408857cb90",
   "metadata": {
    "tags": []
   },
   "outputs": [],
   "source": [
    "# [[';'.join([str(vv) for kk, vv in d.items()]) for d in v if type(d) == dict] for v in country_data_api.values()][0]"
   ]
  },
  {
   "cell_type": "code",
   "execution_count": null,
   "id": "6869ee50-edb3-423d-8a75-f05af3f32afa",
   "metadata": {
    "tags": []
   },
   "outputs": [],
   "source": [
    "# # [';'.join([str(vv) for vv in v]) for v in country_data_api.values()][-1]\n",
    "# [';'.join([str(kk) for kk in v]) for k, v in country_data_api.items()][-1]"
   ]
  },
  {
   "cell_type": "markdown",
   "id": "e6ad4771-e464-4eb1-86f5-c5c480cea8d9",
   "metadata": {
    "tags": []
   },
   "source": [
    "### Raw data"
   ]
  },
  {
   "cell_type": "code",
   "execution_count": null,
   "id": "e6e1591b-31c5-4a38-b0fb-4bfaec0924f2",
   "metadata": {},
   "outputs": [],
   "source": [
    "# #### Data project directory\n",
    "# data_dir = '../data/raw_data/'"
   ]
  },
  {
   "cell_type": "markdown",
   "id": "c9c7c791-f898-4106-b9a9-f1221fcfb1b9",
   "metadata": {
    "tags": []
   },
   "source": [
    "#### **Read URL**, **Get CSV files** and **store CSV in local**  *(optional do it at begining or to refresh CSV data)*"
   ]
  },
  {
   "cell_type": "markdown",
   "id": "1318d9af-8148-4bbc-9dff-7359600f778d",
   "metadata": {
    "tags": []
   },
   "source": [
    "##### **get_database_to_csv()** function"
   ]
  },
  {
   "cell_type": "code",
   "execution_count": null,
   "id": "2d42cd6c-5efd-4cad-b74b-d134e2653dd1",
   "metadata": {},
   "outputs": [],
   "source": [
    "# def get_database_to_csv(url, csv_list, path='', db_grid=[]) -> list:\n",
    "#     \"\"\"\n",
    "#     function that take in parameter:\n",
    "#      - a root URL (string) to get the CSV data,\n",
    "#      - a list of CSV files,\n",
    "#      - a path (string) to store CSV in local,\n",
    "#      - a grid (list of list) to add in the CSV filename, URL, local path.     \n",
    "#     and returns the gird updated with the CSVs of the list\n",
    "    \n",
    "#     \"\"\"\n",
    "\n",
    "#     ### Create a database grid (list of list) with all CSVs and associated URLs\n",
    "#     # print('db_grid', db_grid)\n",
    "#     #### Data project directory (if empty do not store CSV in local)\n",
    "#     # print('path', path)\n",
    "#     ### Website CSV datasets URL\n",
    "#     # print('url', url)\n",
    "#     #### List of CSVs of Website to retrieve\n",
    "#     # print('csv_list', csv_list)\n",
    "\n",
    "#     #### Length of grid aka number of CSVs already stored in grid\n",
    "#     len_grid = len(db_grid)\n",
    "\n",
    "#     for l in range(len(csv_list)):\n",
    "#         sub_list = []       \n",
    "#         sub_list.append(csv_list[l]) ## 1st pos°: CSV filename\n",
    "#         sub_list.append(url + csv_list[l]) ## 2nd pos°: URL + CSV\n",
    "#         if len(data_dir) > 0: ## store CSV in local\n",
    "#             sub_list.append(data_dir + csv_list[l]) ## 3rd pos°: local data path + CSV\n",
    "#             !curl -L \"{url + csv_list[l]}\" > {data_dir + csv_list[l]} ## curl <URL>/<CSV> => <path>\n",
    "#         # print('sub_list', sub_list)\n",
    "#         db_grid.append(sub_list)\n",
    "\n",
    "#     ### Return a database grid (list of list) with all CSVs and associated URLs\n",
    "#     return db_grid"
   ]
  },
  {
   "cell_type": "markdown",
   "id": "6e9fa98a-c3ba-4108-98bd-5a0b4af0cd17",
   "metadata": {
    "tags": []
   },
   "source": [
    "#### **Get database to csv** with **get_database_to_csv()** function"
   ]
  },
  {
   "cell_type": "code",
   "execution_count": null,
   "id": "6c62c742-44a6-46c0-bfca-d5fece235ee2",
   "metadata": {
    "tags": []
   },
   "outputs": [],
   "source": [
    "# ### Oxford Master data time series URL\n",
    "# url_root_oxford = 'https://raw.githubusercontent.com/OxCGRT/covid-policy-tracker/master/data/timeseries/'\n",
    "\n",
    "# #### List of CSVs of Oxford database Feel free to add more feature...\n",
    "# ## index_strigency missed!\n",
    "# ## 'E3;Fiscal measures;' missed!\n",
    "# ## 'E4;International support;' missed!\n",
    "# ## 'H3;Contact tracing;' missed!\n",
    "# ## 'H4;Emergency investment in healthcare!\n",
    "# ## 'H5;Investment in vaccines missed!\n",
    "# ## 'V1;Vaccine Prioritisation missed!\n",
    "# ## 'V2;Vaccine Availability missed!\n",
    "# ## 'V3;Vaccine Financial Support!\n",
    "# ## 'V4;Mandatory Vaccination missed!\n",
    "# csv_list = ['confirmed_cases.csv', 'confirmed_deaths.csv',\n",
    "#             'government_response_index_avg.csv', 'stringency_index_avg.csv', \n",
    "#             'containment_health_index_avg.csv', 'economic_support_index.csv',\n",
    "#             'c1m_school_closing.csv', 'c2m_workplace_closing.csv',\n",
    "#             'c3m_cancel_public_events.csv', 'c4m_restrictions_on_gatherings.csv', \n",
    "#             'c5m_close_public_transport.csv', 'c6m_stay_at_home_requirements.csv',\n",
    "#             'c7m_movementrestrictions.csv', 'c8ev_internationaltravel.csv',\n",
    "#             'e1_income_support.csv', 'e2_debtrelief.csv',\n",
    "#             'h1_public_information_campaigns.csv', 'h2_testing_policy.csv',\n",
    "#             'h3_contact_tracing.csv', 'h6m_facial_coverings.csv',\n",
    "#             'h7_vaccination_policy.csv', 'h8m_protection_of_elderly_ppl.csv'\n",
    "#            ] ## ; print('csv_list', csv_list, 'len(csv_list)', len(csv_list))\n",
    "    \n",
    "# ### Vacinations Dataset URLs\n",
    "# url_root_vaccinations = 'https://raw.githubusercontent.com/owid/covid-19-data/master/public/data/vaccinations/'\n",
    "\n",
    "# #### List of CSVs of Vaccinations database\n",
    "# csv_list_vax = ['vaccinations.csv', 'vaccinations-by-age-group.csv'] ## ; print('csv_list', csv_list_vax, 'len(csv_list)', len(csv_list_vax))\n",
    "\n",
    "# ### Create a database grid all CSVs and associated URLs from Oxford website\n",
    "# db_grid = get_database_to_csv(url_root_oxford, csv_list, data_dir)\n",
    "# ### Insert into database grid all CSVs and associated URLs from vaccinations website\n",
    "# db_grid = get_database_to_csv(url_root_vaccinations, csv_list_vax, data_dir, db_grid)\n",
    "# # print('db_grid', db_grid)\n",
    "\n",
    "# # Stack all csl in the list\n",
    "# csv_list += csv_list_vax ## ; print('csv_list', csv_list)\n",
    "\n",
    "# # transform list into dict:\n",
    "# csv = dict(zip(csv_list, [v[0] for v in enumerate(csv_list)])) ## ; print ('csv', csv) ## if v[1] == 'containment_health_index_avg.csv' "
   ]
  },
  {
   "cell_type": "markdown",
   "id": "89c8b3bb-c12b-43a3-9dda-7bbd905f3622",
   "metadata": {
    "tags": []
   },
   "source": [
    "## Data loading"
   ]
  },
  {
   "cell_type": "markdown",
   "id": "043d5c4a-c489-4204-a782-08cfb9a127c9",
   "metadata": {
    "tags": []
   },
   "source": [
    "## Data cleaning"
   ]
  },
  {
   "cell_type": "markdown",
   "id": "6cc67099-9098-47c4-9e1d-b2754e07cd70",
   "metadata": {
    "tags": []
   },
   "source": [
    "### **Read CSV** and **Set raw dataframe**"
   ]
  },
  {
   "cell_type": "markdown",
   "id": "c4d45ada",
   "metadata": {
    "jp-MarkdownHeadingCollapsed": true,
    "tags": []
   },
   "source": [
    "### **Read raw CSV** and **Set dataframe**"
   ]
  },
  {
   "cell_type": "code",
   "execution_count": null,
   "id": "e857c603",
   "metadata": {},
   "outputs": [],
   "source": [
    "df_raw_gov_response = pd.read_csv(data_dir + 'government_response_index_avg.csv')\n",
    "df_raw_health = pd.read_csv(data_dir + 'containment_health_index_avg.csv')\n",
    "df_raw_economic = pd.read_csv(data_dir + 'economic_support_index.csv')\n",
    "\n",
    "#### Vaccination\n",
    "df_raw_vaccination = pd.read_csv(data_dir + 'vaccinations.csv')\n",
    "df_raw_ages = pd.read_csv(data_dir + 'vaccinations-by-age-group.csv')\n",
    "\n",
    "\n",
    "#### Data Frame target\n",
    "df_raw_cases = pd.read_csv(data_dir + 'confirmed_cases.csv')\n",
    "df_raw_deaths = pd.read_csv(data_dir + 'confirmed_deaths.csv')\n",
    "\n",
    "#### Data multiple\n",
    "df_raw_school_closing=pd.read_csv(data_dir + 'c1m_school_closing.csv')\n",
    "df_raw_workplace_closing=pd.read_csv(data_dir + 'c2m_workplace_closing.csv')\n",
    "df_raw_cancel_public_event=pd.read_csv(data_dir + 'c3m_cancel_public_events.csv')\n",
    "df_raw_restriction_on_gathering=pd.read_csv(data_dir + 'c4m_restrictions_on_gatherings.csv')\n",
    "df_raw_stay_at_home=pd.read_csv(data_dir + 'c6m_stay_at_home_requirements.csv')\n",
    "df_raw_international_travel=pd.read_csv(data_dir + 'c6m_stay_at_home_requirements.csv')\n",
    "df_raw_goverment_response=pd.read_csv(data_dir + 'government_response_index_avg.csv')\n",
    "df_raw_facial_covering=pd.read_csv(data_dir + 'h6m_facial_coverings.csv')\n",
    "df_raw_vacination_policy=pd.read_csv(data_dir + 'h7_vaccination_policy.csv')\n"
   ]
  },
  {
   "cell_type": "markdown",
   "id": "b3f43d38",
   "metadata": {
    "jp-MarkdownHeadingCollapsed": true,
    "tags": []
   },
   "source": [
    "### **Read out CSV** and **Set dataframe**"
   ]
  },
  {
   "cell_type": "code",
   "execution_count": null,
   "id": "a647dd56-8eaf-4f56-b52f-173e818e245c",
   "metadata": {
    "tags": []
   },
   "outputs": [],
   "source": [
    "# #### CSV Data out project directory\n",
    "# csv_dir = '../data/csv_out/'\n",
    "# # ! unzip {csv_dir}usa_index\n",
    "# # ! unzip {csv_dir}usa_indicator\n",
    "# # ! rm ECG_data.zip\n",
    "# df_usa_index =  pd.read_csv(csv_dir + 'usa_index.csv')\n",
    "# df_usa_indicator =  pd.read_csv(csv_dir + 'usa_indicator.csv')\n",
    "# df_usa_index, df_usa_indicator\n"
   ]
  },
  {
   "cell_type": "markdown",
   "id": "eaecf123-5e8d-4e1e-b337-e0164c78fa4e",
   "metadata": {
    "jp-MarkdownHeadingCollapsed": true,
    "tags": []
   },
   "source": [
    "## DataFrames setting"
   ]
  },
  {
   "cell_type": "code",
   "execution_count": null,
   "id": "c81ed76f-6978-4e8d-84a6-41b4cd8cb4cb",
   "metadata": {},
   "outputs": [],
   "source": [
    "# # Sumedha csv test\n",
    "# df_ts_usa_index =  df_usa_index.copy()\n",
    "# df_ts_usa_indicator =  df_usa_indicator.copy()\n",
    "\n",
    "# df_ts_usa_index.head(), df_ts_usa_indicator.head()"
   ]
  },
  {
   "cell_type": "markdown",
   "id": "0780e433-b780-4736-9011-36e69a97910d",
   "metadata": {
    "tags": []
   },
   "source": [
    "## Time series analysing"
   ]
  },
  {
   "cell_type": "markdown",
   "id": "61b05ade-58d9-4909-85f7-270a32dc2480",
   "metadata": {
    "jp-MarkdownHeadingCollapsed": true,
    "tags": []
   },
   "source": [
    "### Time Series Analysis *(optional)*"
   ]
  },
  {
   "cell_type": "code",
   "execution_count": null,
   "id": "e9490e09-78eb-4563-881a-ea7d9f40b184",
   "metadata": {},
   "outputs": [],
   "source": [
    "# ts_cases = df_raw_cases.drop(columns=['country_name','region_code','region_name','jurisdiction','Unnamed: 0'])\n",
    "# ts_cases = ts_cases.groupby('country_code').agg('sum')\n",
    "# ts_cases.transpose()\n",
    "# ts_cases.columns.name = 'Dates'\n",
    "# ts_cases = ts_cases.fillna(0)\n",
    "# # ts_cases.index = pd.to_datetime(ts_cases.index)"
   ]
  },
  {
   "cell_type": "code",
   "execution_count": null,
   "id": "56b9518a-a848-45c5-b0cf-a1dc2363b523",
   "metadata": {},
   "outputs": [],
   "source": [
    "# ts_cases = ts_cases.transpose()\n",
    "# ts_cases.head()"
   ]
  },
  {
   "cell_type": "code",
   "execution_count": null,
   "id": "679e0fb8-f976-4dbe-8243-7a69be38b8b2",
   "metadata": {},
   "outputs": [],
   "source": [
    "# ts_cases.shape"
   ]
  },
  {
   "cell_type": "code",
   "execution_count": null,
   "id": "07f5ecb3-6362-430f-bdc8-f8f2298c120c",
   "metadata": {},
   "outputs": [],
   "source": [
    "# vn_ts_cases"
   ]
  },
  {
   "cell_type": "code",
   "execution_count": null,
   "id": "4c54395e-6a75-45b7-a389-7f739b5c35dc",
   "metadata": {},
   "outputs": [],
   "source": [
    "# vn_ts_cases = vn_ts_cases.transpose()"
   ]
  },
  {
   "cell_type": "code",
   "execution_count": null,
   "id": "7ca627f6-23e4-4243-8a68-e0b3108b21ac",
   "metadata": {},
   "outputs": [],
   "source": [
    "# df_raw_cases.isna()"
   ]
  },
  {
   "cell_type": "code",
   "execution_count": null,
   "id": "75735fc5-e04d-46ae-9d96-92dccdc1aa87",
   "metadata": {},
   "outputs": [],
   "source": [
    "# # get VietNam country dataset\n",
    "# vn_data = df_raw_cases.loc[df_raw_cases['country_code'] == 'VNM'].copy()\n",
    "\n",
    "# vn_data.head()"
   ]
  },
  {
   "cell_type": "code",
   "execution_count": null,
   "id": "8f336df2-286a-4819-a011-c1ae0d7cdb50",
   "metadata": {},
   "outputs": [],
   "source": [
    "# %%time\n",
    "# vn_data.profile_report()"
   ]
  },
  {
   "cell_type": "markdown",
   "id": "e122911e-70c8-4131-bf2f-8db270b3ac93",
   "metadata": {
    "tags": []
   },
   "source": [
    "## TENSORFLOW & RNN MODEL"
   ]
  },
  {
   "cell_type": "markdown",
   "id": "f636afbb-aab0-4500-897b-311961289203",
   "metadata": {
    "tags": []
   },
   "source": [
    "### Recurrent Neural Network (sequences data) modeling"
   ]
  },
  {
   "cell_type": "markdown",
   "id": "b78f081b-7ee6-405b-8e13-04bf267ac2e3",
   "metadata": {
    "tags": []
   },
   "source": [
    "### Samples/Sequences, Observations, Features"
   ]
  },
  {
   "cell_type": "markdown",
   "id": "b6427dc3-25b3-4a5a-abba-20e92d67ab1b",
   "metadata": {},
   "source": [
    "X.shape = (n_SEQUENCES, n_OBSERVATIONS, n_FEATURES) and y = RNN(X) where $X_{i,j}^{t}$\n",
    "\n",
    "with $_{i}$ is the sample/sequence, $_{j}$ is the feature measured and  $^{t}$ is the time at which the observation is seen"
   ]
  },
  {
   "cell_type": "markdown",
   "id": "8f8151dc-1f0e-4981-91a0-c1164230af26",
   "metadata": {},
   "source": [
    "\n",
    "\n",
    "### Prerequisites:\n",
    "\n",
    "- **retrieve dataset** from Sumedha & Alberto\n",
    "\n",
    "    - **clean dataset**: \n",
    "        \n",
    "        - **drop first lines == 0** *(before Covid arrived)*\n",
    "        \n",
    "        - **check Nan**: \n",
    "- **strategy 1 country by country** sequences split as follow:\n",
    "\n",
    "- **strategy 2 one sequence per country**:\n",
    "    - **split X train, set** \n",
    "    - **Pad sequences**\n",
    "    - **create one csv per country**"
   ]
  },
  {
   "cell_type": "markdown",
   "id": "32848eaa-a889-47ee-972c-e9f2e54214cc",
   "metadata": {},
   "source": [
    "## Training strategies:\n",
    "- Get NB dataset (cleaned) from Alberto & Sumedha\n",
    "- 1/ Indicator in precentage %\n",
    "- 2/ Indicator as categorical labels\n",
    "- Run same RNN model in parallel with Kim & Thomas\n",
    "- Identify best dataset\n",
    "- Parameters to fit:\n",
    "    - increase **nb of sequences**\n",
    "    - train series modulation (ex: [50, 150, 200, 300, 400 nb of days = n_obs]) < take time to compute\n",
    "    - **learning_rate** in Optimizer(parameters)\n",
    "    - model layers architecture (**simple** -> complex) (less data -> more data) (print(loss) function check lecture)\n",
    "        > LSTM\n",
    "        > Dense\n",
    "       (> LSTM\n",
    "        > LSTM\n",
    "        > Dense)\n",
    "     >> **try to overfit** the model with the loss (train over val) or (early_stopping)\n",
    "     >> **(X_val, y_val)**"
   ]
  },
  {
   "cell_type": "markdown",
   "id": "30a4cdbb-56aa-4522-84a6-833471a7b34a",
   "metadata": {},
   "source": [
    "### Feature Selection"
   ]
  },
  {
   "cell_type": "markdown",
   "id": "d74ee15a-c507-4049-9489-1f546a1f0a8a",
   "metadata": {
    "tags": []
   },
   "source": [
    "### Time Series **Analysis** & **Preparation** to training"
   ]
  },
  {
   "cell_type": "markdown",
   "id": "6775435d-8b7a-4742-bcb2-a76e1c2ffb1c",
   "metadata": {},
   "source": [
    "# Alberto's RNN model #4 Starting"
   ]
  },
  {
   "cell_type": "code",
   "execution_count": 67,
   "id": "648961ed-ee19-4342-b137-8f5029082404",
   "metadata": {},
   "outputs": [
    {
     "data": {
      "text/plain": [
       "(200, 60, 20)"
      ]
     },
     "execution_count": 67,
     "metadata": {},
     "output_type": "execute_result"
    }
   ],
   "source": [
    "# Alberto train set\n",
    "n_seq = 200 ## nb of sequences (samples)\n",
    "n_obs = 60 # maxi = 96 (stay around 70 or more test_split)\n",
    "n_feat = 20 #  X_train.shape[1] # 20 feature:\n",
    "n_pred = 1 # nb of days where we can predict new daily deaths\n",
    "n_seq, n_obs, n_feat"
   ]
  },
  {
   "cell_type": "markdown",
   "id": "3245d337-90d7-47b1-a4ee-b508e8731c39",
   "metadata": {
    "tags": []
   },
   "source": [
    "### Train Splitting\n",
    "\n",
    "Split the dataset into training, validation, and test datasplit the dataset into training, validation, and test data"
   ]
  },
  {
   "cell_type": "code",
   "execution_count": 68,
   "id": "4fe70c0f",
   "metadata": {},
   "outputs": [
    {
     "data": {
      "text/plain": [
       "(2, 1, 2, 1, 2, 1)"
      ]
     },
     "execution_count": 68,
     "metadata": {},
     "output_type": "execute_result"
    }
   ],
   "source": [
    "# Alberto train set\n",
    "X_train, y_train, X_val, y_val, X_test, y_test = train_test_set('France', split_train=0.7, split_val=0.9)\n",
    "np.ndim(X_train), np.ndim(y_train), np.ndim(X_val), np.ndim(y_val), np.ndim(X_test), np.ndim(y_test)"
   ]
  },
  {
   "cell_type": "markdown",
   "id": "33a4fba2-9562-49eb-9b94-7c5ab57fd163",
   "metadata": {
    "tags": []
   },
   "source": [
    "#### Create sequences (`X`,`y`)"
   ]
  },
  {
   "cell_type": "markdown",
   "id": "6a3e6437-7538-4c29-b8d9-d00d4d804064",
   "metadata": {
    "tags": []
   },
   "source": [
    "##### Generates an entire dataset of multiple subsamples with shape $(X, y)$"
   ]
  },
  {
   "cell_type": "code",
   "execution_count": 69,
   "id": "55b0cc4b",
   "metadata": {},
   "outputs": [],
   "source": [
    "def subsample_sequence(X, y, X_len, y_len) -> pd.DataFrame:\n",
    "    \"\"\"\n",
    "    Given the initial dataframe `df`, return a shorter dataframe sequence of length `length` (eg n_obs).\n",
    "    This shorter sequence should be selected at random\n",
    "    \"\"\"\n",
    "    X_y_len = X_len + y_len\n",
    "    print('_len + y_len',  X_len,  y_len)\n",
    "    print('X.shape[0] >= X_y_len', X.shape[0], X_y_len)\n",
    "    if X.shape[0] >= X_y_len:\n",
    "        last_possible = X.shape[0] - X_y_len\n",
    "    else:\n",
    "        last_possible = X.shape[0]\n",
    "        print('X_y_len = ?', X.shape[0])\n",
    "    # How to split sequences? we could do it manually...\n",
    "    print('X.shape[0]', X.shape[0])\n",
    "    random_start = np.random.randint(0, last_possible)\n",
    "    # X start and y end\n",
    "    X_sample = X[random_start : random_start + X_len]\n",
    "    y_sample = y[random_start + X_len : (random_start + X_y_len)]\n",
    "    print(\"X[random_start : random_start + X_len]\", f\"X[{random_start} : {random_start + X_len}]\")\n",
    "    print(\"y[random_start : random_start + X_y_len]\", f\"y[{random_start} : {(random_start + X_y_len)}]\")\n",
    "    \n",
    "    return np.array(X_sample), np.array(y_sample)"
   ]
  },
  {
   "cell_type": "code",
   "execution_count": null,
   "id": "a44a54ff",
   "metadata": {},
   "outputs": [],
   "source": []
  },
  {
   "cell_type": "code",
   "execution_count": 70,
   "id": "1993c868-606c-4d31-ac8d-997bc85d63d3",
   "metadata": {},
   "outputs": [
    {
     "name": "stdout",
     "output_type": "stream",
     "text": [
      "_len + y_len 60 1\n",
      "X.shape[0] >= X_y_len 672 61\n",
      "X.shape[0] 672\n",
      "X[random_start : random_start + X_len] X[174 : 234]\n",
      "y[random_start : random_start + X_y_len] y[174 : 235]\n"
     ]
    },
    {
     "data": {
      "text/plain": [
       "((60, 20), (1,))"
      ]
     },
     "execution_count": 70,
     "metadata": {},
     "output_type": "execute_result"
    }
   ],
   "source": [
    "# Test it\n",
    "(X_sample, y_sample) = subsample_sequence(X_train, y_train, X_len=n_obs, y_len=n_pred) # n_seq = 200, n_obs = 150\n",
    "X_sample.shape, y_sample.shape"
   ]
  },
  {
   "cell_type": "markdown",
   "id": "12cb0927-e52b-4d41-8dcb-6ca6f204a1f5",
   "metadata": {
    "tags": []
   },
   "source": [
    "##### **get_X_y(df, n_sequences, length)**\n",
    "\n",
    "function to generates an entire dataset of multiple subsamples suitable for RNN, that is, $(X, y)$ of shape:\n",
    "\n",
    "```python\n",
    "X.shape = (n_sequences, length, n_features)\n",
    "y.shape = (n_sequences, )\n",
    "```"
   ]
  },
  {
   "cell_type": "code",
   "execution_count": 71,
   "id": "8d2b3715",
   "metadata": {},
   "outputs": [],
   "source": [
    "# # no use\n",
    "# def get_X_y(df, n_sequences, length, feature='VNM') -> tuple:\n",
    "#     '''Return a list of samples (X, y)'''\n",
    "#     X, y = [], []\n",
    "\n",
    "#     for i in range(n_sequences):\n",
    "#         (xi, yi) = split_subsample_sequence(df, length, feature=feature)\n",
    "#         X.append(xi)\n",
    "#         y.append(yi)\n",
    "        \n",
    "#     X = np.array(X)\n",
    "#     y = np.array(y)\n",
    "\n",
    "#     return X, y"
   ]
  },
  {
   "cell_type": "markdown",
   "id": "9b15128c-961a-471e-b864-589455120c15",
   "metadata": {},
   "source": [
    "def get_X_y(X_train, y_train, X_test, y_test, X_len, y_len, n_seq_train, X_val=np.array(range(1)), y_val=np.array(range(1))) -> tuple:\n",
    "    '''Return a list of samples (X, y)'''\n",
    "    X_train_list = X_val_list = X_test_list = y_list = y_val = y_test = []\n",
    "    # train sequences splitting\n",
    "    for i in range(n_sequences):\n",
    "        # print('X_len', X_len, 'y_len', y_len)\n",
    "        (x_tainr_i, y_train_i) = subsample_sequence(X, y, X_len=X_len, y_len=y_len)\n",
    "        X_list.append(xi)\n",
    "        y_list.append(yi)\n",
    "    X_train_array = np.array(X_list)\n",
    "    y_train_array = np.array(y_list) \n",
    "\n",
    "    if X_val==np.array(range(1)) and y_val==np.array(range(1)):\n",
    "        # val sequences splitting (train / val /test)        \n",
    "        n_seq_val = n_seq_train // 5 # number of sequences in test set ?\n",
    "        n_seq_test = n_seq_train // 10 # number of sequences in test set ?\n",
    "        for i in range(n_s_train):\n",
    "            # print('X_len', X_len, 'y_len', y_len)\n",
    "            (xi, yi) = subsample_sequence(X, y, X_len=X_len, y_len=y_len)\n",
    "            X_list.append(xi)\n",
    "            y_list.append(yi)\n",
    "        X_val_array = np.array(X_list)\n",
    "        y_val_array = np.n_seq_test(y_list) \n",
    "        for i in range(n_seq_val):\n",
    "            # print('X_len', X_len, 'y_len', y_len)\n",
    "            (xi, yi) = subsample_sequence(X, y, X_len=X_len, y_len=y_len)\n",
    "            X_list.append(xi)\n",
    "            y_list.append(yi)\n",
    "        X_test_array = np.array(X_list)\n",
    "        y_test_array = np.array(y_list) \n",
    "        return X_train_array, y_train_array, X_val_array, y_val_array, X_test_array, y_test_array\n",
    "    else:\n",
    "        # test sequences splitting (train / test)\n",
    "        n_seq_test = n_seq_train // 5 # number of sequences in test set ?\n",
    "        for i in range(n_sequences):\n",
    "            # print('X_len', X_len, 'y_len', y_len)\n",
    "            (x_tainr_i, y_train_i) = subsample_sequence(X, y, X_len=X_len, y_len=y_len)\n",
    "            X_list.append(xi)\n",
    "            y_list.append(yi)\n",
    "        X_test_array = np.array(X_list)\n",
    "        y_test_array = np.array(y_list)        \n",
    "        return X_train_array, y_train_array, X_test_array, y_test_array"
   ]
  },
  {
   "cell_type": "code",
   "execution_count": 72,
   "id": "3cde1f94-64b6-472d-8007-5a91ec085172",
   "metadata": {},
   "outputs": [],
   "source": [
    "def get_X_y_2(X, y, X_len, y_len, n_sequences) -> tuple:\n",
    "    '''Return a list of samples (X, y)'''\n",
    "    X_list, y_list = [], []\n",
    "\n",
    "    for i in range(n_sequences):\n",
    "        (xi, yi) = subsample_sequence(X, y, X_len=X_len, y_len=y_len)\n",
    "        X_list.append(xi)\n",
    "        y_list.append(yi)\n",
    "        \n",
    "    X = np.array(X_list)\n",
    "    y = np.array(y_list)\n",
    "\n",
    "    return X, y"
   ]
  },
  {
   "cell_type": "code",
   "execution_count": 73,
   "id": "a9096e3f-477e-45ae-a9a2-bdb1c8163ff9",
   "metadata": {},
   "outputs": [
    {
     "data": {
      "text/plain": [
       "(200, 40, 20)"
      ]
     },
     "execution_count": 73,
     "metadata": {},
     "output_type": "execute_result"
    }
   ],
   "source": [
    "n_seq_val = n_seq // 5 # number of sequences in test set ?\n",
    "n_seq_test = n_seq // 10 # number of sequences in test set ?\n",
    "n_seq, n_seq_val, n_seq_test"
   ]
  },
  {
   "cell_type": "code",
   "execution_count": 74,
   "id": "1682240c-818e-4e96-9a2a-8b596cd235bd",
   "metadata": {},
   "outputs": [
    {
     "data": {
      "text/plain": [
       "((97, 20), (97,))"
      ]
     },
     "execution_count": 74,
     "metadata": {},
     "output_type": "execute_result"
    }
   ],
   "source": [
    "X_test.shape, y_test.shape"
   ]
  },
  {
   "cell_type": "code",
   "execution_count": 75,
   "id": "c3af4e7e-d602-4fcd-a36a-942ab4dc0b72",
   "metadata": {
    "collapsed": true,
    "jupyter": {
     "outputs_hidden": true
    },
    "tags": []
   },
   "outputs": [
    {
     "name": "stdout",
     "output_type": "stream",
     "text": [
      "_len + y_len 60 1\n",
      "X.shape[0] >= X_y_len 97 61\n",
      "X.shape[0] 97\n",
      "X[random_start : random_start + X_len] X[28 : 88]\n",
      "y[random_start : random_start + X_y_len] y[28 : 89]\n",
      "_len + y_len 60 1\n",
      "X.shape[0] >= X_y_len 97 61\n",
      "X.shape[0] 97\n",
      "X[random_start : random_start + X_len] X[11 : 71]\n",
      "y[random_start : random_start + X_y_len] y[11 : 72]\n",
      "_len + y_len 60 1\n",
      "X.shape[0] >= X_y_len 97 61\n",
      "X.shape[0] 97\n",
      "X[random_start : random_start + X_len] X[13 : 73]\n",
      "y[random_start : random_start + X_y_len] y[13 : 74]\n",
      "_len + y_len 60 1\n",
      "X.shape[0] >= X_y_len 97 61\n",
      "X.shape[0] 97\n",
      "X[random_start : random_start + X_len] X[8 : 68]\n",
      "y[random_start : random_start + X_y_len] y[8 : 69]\n",
      "_len + y_len 60 1\n",
      "X.shape[0] >= X_y_len 97 61\n",
      "X.shape[0] 97\n",
      "X[random_start : random_start + X_len] X[10 : 70]\n",
      "y[random_start : random_start + X_y_len] y[10 : 71]\n",
      "_len + y_len 60 1\n",
      "X.shape[0] >= X_y_len 97 61\n",
      "X.shape[0] 97\n",
      "X[random_start : random_start + X_len] X[28 : 88]\n",
      "y[random_start : random_start + X_y_len] y[28 : 89]\n",
      "_len + y_len 60 1\n",
      "X.shape[0] >= X_y_len 97 61\n",
      "X.shape[0] 97\n",
      "X[random_start : random_start + X_len] X[22 : 82]\n",
      "y[random_start : random_start + X_y_len] y[22 : 83]\n",
      "_len + y_len 60 1\n",
      "X.shape[0] >= X_y_len 97 61\n",
      "X.shape[0] 97\n",
      "X[random_start : random_start + X_len] X[26 : 86]\n",
      "y[random_start : random_start + X_y_len] y[26 : 87]\n",
      "_len + y_len 60 1\n",
      "X.shape[0] >= X_y_len 97 61\n",
      "X.shape[0] 97\n",
      "X[random_start : random_start + X_len] X[6 : 66]\n",
      "y[random_start : random_start + X_y_len] y[6 : 67]\n",
      "_len + y_len 60 1\n",
      "X.shape[0] >= X_y_len 97 61\n",
      "X.shape[0] 97\n",
      "X[random_start : random_start + X_len] X[11 : 71]\n",
      "y[random_start : random_start + X_y_len] y[11 : 72]\n",
      "_len + y_len 60 1\n",
      "X.shape[0] >= X_y_len 97 61\n",
      "X.shape[0] 97\n",
      "X[random_start : random_start + X_len] X[31 : 91]\n",
      "y[random_start : random_start + X_y_len] y[31 : 92]\n",
      "_len + y_len 60 1\n",
      "X.shape[0] >= X_y_len 97 61\n",
      "X.shape[0] 97\n",
      "X[random_start : random_start + X_len] X[3 : 63]\n",
      "y[random_start : random_start + X_y_len] y[3 : 64]\n",
      "_len + y_len 60 1\n",
      "X.shape[0] >= X_y_len 97 61\n",
      "X.shape[0] 97\n",
      "X[random_start : random_start + X_len] X[8 : 68]\n",
      "y[random_start : random_start + X_y_len] y[8 : 69]\n",
      "_len + y_len 60 1\n",
      "X.shape[0] >= X_y_len 97 61\n",
      "X.shape[0] 97\n",
      "X[random_start : random_start + X_len] X[21 : 81]\n",
      "y[random_start : random_start + X_y_len] y[21 : 82]\n",
      "_len + y_len 60 1\n",
      "X.shape[0] >= X_y_len 97 61\n",
      "X.shape[0] 97\n",
      "X[random_start : random_start + X_len] X[3 : 63]\n",
      "y[random_start : random_start + X_y_len] y[3 : 64]\n",
      "_len + y_len 60 1\n",
      "X.shape[0] >= X_y_len 97 61\n",
      "X.shape[0] 97\n",
      "X[random_start : random_start + X_len] X[27 : 87]\n",
      "y[random_start : random_start + X_y_len] y[27 : 88]\n",
      "_len + y_len 60 1\n",
      "X.shape[0] >= X_y_len 97 61\n",
      "X.shape[0] 97\n",
      "X[random_start : random_start + X_len] X[9 : 69]\n",
      "y[random_start : random_start + X_y_len] y[9 : 70]\n",
      "_len + y_len 60 1\n",
      "X.shape[0] >= X_y_len 97 61\n",
      "X.shape[0] 97\n",
      "X[random_start : random_start + X_len] X[4 : 64]\n",
      "y[random_start : random_start + X_y_len] y[4 : 65]\n",
      "_len + y_len 60 1\n",
      "X.shape[0] >= X_y_len 97 61\n",
      "X.shape[0] 97\n",
      "X[random_start : random_start + X_len] X[13 : 73]\n",
      "y[random_start : random_start + X_y_len] y[13 : 74]\n",
      "_len + y_len 60 1\n",
      "X.shape[0] >= X_y_len 97 61\n",
      "X.shape[0] 97\n",
      "X[random_start : random_start + X_len] X[12 : 72]\n",
      "y[random_start : random_start + X_y_len] y[12 : 73]\n",
      "X_test.shape, y_test.shape, n_seq_test, n_obs, n_feat\n"
     ]
    },
    {
     "data": {
      "text/plain": [
       "((20, 60, 20), (20, 1), 20, 60, 20)"
      ]
     },
     "execution_count": 75,
     "metadata": {},
     "output_type": "execute_result"
    }
   ],
   "source": [
    "X_test, y_test = get_X_y_2(X_test, y_test, X_len=n_obs, y_len=n_pred, n_sequences=n_seq_test)\n",
    "print('X_test.shape, y_test.shape, n_seq_test, n_obs, n_feat')\n",
    "X_test.shape, y_test.shape, n_seq_test, n_obs, n_feat"
   ]
  },
  {
   "cell_type": "code",
   "execution_count": 76,
   "id": "497196a7-2d6a-4663-82a9-c8873c4ad0c8",
   "metadata": {
    "tags": []
   },
   "outputs": [
    {
     "name": "stdout",
     "output_type": "stream",
     "text": [
      "_len + y_len 60 1\n",
      "X.shape[0] >= X_y_len 192 61\n",
      "X.shape[0] 192\n",
      "X[random_start : random_start + X_len] X[64 : 124]\n",
      "y[random_start : random_start + X_y_len] y[64 : 125]\n",
      "_len + y_len 60 1\n",
      "X.shape[0] >= X_y_len 192 61\n",
      "X.shape[0] 192\n",
      "X[random_start : random_start + X_len] X[10 : 70]\n",
      "y[random_start : random_start + X_y_len] y[10 : 71]\n",
      "_len + y_len 60 1\n",
      "X.shape[0] >= X_y_len 192 61\n",
      "X.shape[0] 192\n",
      "X[random_start : random_start + X_len] X[0 : 60]\n",
      "y[random_start : random_start + X_y_len] y[0 : 61]\n",
      "_len + y_len 60 1\n",
      "X.shape[0] >= X_y_len 192 61\n",
      "X.shape[0] 192\n",
      "X[random_start : random_start + X_len] X[84 : 144]\n",
      "y[random_start : random_start + X_y_len] y[84 : 145]\n",
      "_len + y_len 60 1\n",
      "X.shape[0] >= X_y_len 192 61\n",
      "X.shape[0] 192\n",
      "X[random_start : random_start + X_len] X[69 : 129]\n",
      "y[random_start : random_start + X_y_len] y[69 : 130]\n",
      "_len + y_len 60 1\n",
      "X.shape[0] >= X_y_len 192 61\n",
      "X.shape[0] 192\n",
      "X[random_start : random_start + X_len] X[27 : 87]\n",
      "y[random_start : random_start + X_y_len] y[27 : 88]\n",
      "_len + y_len 60 1\n",
      "X.shape[0] >= X_y_len 192 61\n",
      "X.shape[0] 192\n",
      "X[random_start : random_start + X_len] X[59 : 119]\n",
      "y[random_start : random_start + X_y_len] y[59 : 120]\n",
      "_len + y_len 60 1\n",
      "X.shape[0] >= X_y_len 192 61\n",
      "X.shape[0] 192\n",
      "X[random_start : random_start + X_len] X[69 : 129]\n",
      "y[random_start : random_start + X_y_len] y[69 : 130]\n",
      "_len + y_len 60 1\n",
      "X.shape[0] >= X_y_len 192 61\n",
      "X.shape[0] 192\n",
      "X[random_start : random_start + X_len] X[19 : 79]\n",
      "y[random_start : random_start + X_y_len] y[19 : 80]\n",
      "_len + y_len 60 1\n",
      "X.shape[0] >= X_y_len 192 61\n",
      "X.shape[0] 192\n",
      "X[random_start : random_start + X_len] X[58 : 118]\n",
      "y[random_start : random_start + X_y_len] y[58 : 119]\n",
      "_len + y_len 60 1\n",
      "X.shape[0] >= X_y_len 192 61\n",
      "X.shape[0] 192\n",
      "X[random_start : random_start + X_len] X[107 : 167]\n",
      "y[random_start : random_start + X_y_len] y[107 : 168]\n",
      "_len + y_len 60 1\n",
      "X.shape[0] >= X_y_len 192 61\n",
      "X.shape[0] 192\n",
      "X[random_start : random_start + X_len] X[45 : 105]\n",
      "y[random_start : random_start + X_y_len] y[45 : 106]\n",
      "_len + y_len 60 1\n",
      "X.shape[0] >= X_y_len 192 61\n",
      "X.shape[0] 192\n",
      "X[random_start : random_start + X_len] X[73 : 133]\n",
      "y[random_start : random_start + X_y_len] y[73 : 134]\n",
      "_len + y_len 60 1\n",
      "X.shape[0] >= X_y_len 192 61\n",
      "X.shape[0] 192\n",
      "X[random_start : random_start + X_len] X[33 : 93]\n",
      "y[random_start : random_start + X_y_len] y[33 : 94]\n",
      "_len + y_len 60 1\n",
      "X.shape[0] >= X_y_len 192 61\n",
      "X.shape[0] 192\n",
      "X[random_start : random_start + X_len] X[51 : 111]\n",
      "y[random_start : random_start + X_y_len] y[51 : 112]\n",
      "_len + y_len 60 1\n",
      "X.shape[0] >= X_y_len 192 61\n",
      "X.shape[0] 192\n",
      "X[random_start : random_start + X_len] X[60 : 120]\n",
      "y[random_start : random_start + X_y_len] y[60 : 121]\n",
      "_len + y_len 60 1\n",
      "X.shape[0] >= X_y_len 192 61\n",
      "X.shape[0] 192\n",
      "X[random_start : random_start + X_len] X[3 : 63]\n",
      "y[random_start : random_start + X_y_len] y[3 : 64]\n",
      "_len + y_len 60 1\n",
      "X.shape[0] >= X_y_len 192 61\n",
      "X.shape[0] 192\n",
      "X[random_start : random_start + X_len] X[11 : 71]\n",
      "y[random_start : random_start + X_y_len] y[11 : 72]\n",
      "_len + y_len 60 1\n",
      "X.shape[0] >= X_y_len 192 61\n",
      "X.shape[0] 192\n",
      "X[random_start : random_start + X_len] X[2 : 62]\n",
      "y[random_start : random_start + X_y_len] y[2 : 63]\n",
      "_len + y_len 60 1\n",
      "X.shape[0] >= X_y_len 192 61\n",
      "X.shape[0] 192\n",
      "X[random_start : random_start + X_len] X[16 : 76]\n",
      "y[random_start : random_start + X_y_len] y[16 : 77]\n",
      "_len + y_len 60 1\n",
      "X.shape[0] >= X_y_len 192 61\n",
      "X.shape[0] 192\n",
      "X[random_start : random_start + X_len] X[9 : 69]\n",
      "y[random_start : random_start + X_y_len] y[9 : 70]\n",
      "_len + y_len 60 1\n",
      "X.shape[0] >= X_y_len 192 61\n",
      "X.shape[0] 192\n",
      "X[random_start : random_start + X_len] X[90 : 150]\n",
      "y[random_start : random_start + X_y_len] y[90 : 151]\n",
      "_len + y_len 60 1\n",
      "X.shape[0] >= X_y_len 192 61\n",
      "X.shape[0] 192\n",
      "X[random_start : random_start + X_len] X[91 : 151]\n",
      "y[random_start : random_start + X_y_len] y[91 : 152]\n",
      "_len + y_len 60 1\n",
      "X.shape[0] >= X_y_len 192 61\n",
      "X.shape[0] 192\n",
      "X[random_start : random_start + X_len] X[113 : 173]\n",
      "y[random_start : random_start + X_y_len] y[113 : 174]\n",
      "_len + y_len 60 1\n",
      "X.shape[0] >= X_y_len 192 61\n",
      "X.shape[0] 192\n",
      "X[random_start : random_start + X_len] X[0 : 60]\n",
      "y[random_start : random_start + X_y_len] y[0 : 61]\n",
      "_len + y_len 60 1\n",
      "X.shape[0] >= X_y_len 192 61\n",
      "X.shape[0] 192\n",
      "X[random_start : random_start + X_len] X[59 : 119]\n",
      "y[random_start : random_start + X_y_len] y[59 : 120]\n",
      "_len + y_len 60 1\n",
      "X.shape[0] >= X_y_len 192 61\n",
      "X.shape[0] 192\n",
      "X[random_start : random_start + X_len] X[74 : 134]\n",
      "y[random_start : random_start + X_y_len] y[74 : 135]\n",
      "_len + y_len 60 1\n",
      "X.shape[0] >= X_y_len 192 61\n",
      "X.shape[0] 192\n",
      "X[random_start : random_start + X_len] X[77 : 137]\n",
      "y[random_start : random_start + X_y_len] y[77 : 138]\n",
      "_len + y_len 60 1\n",
      "X.shape[0] >= X_y_len 192 61\n",
      "X.shape[0] 192\n",
      "X[random_start : random_start + X_len] X[96 : 156]\n",
      "y[random_start : random_start + X_y_len] y[96 : 157]\n",
      "_len + y_len 60 1\n",
      "X.shape[0] >= X_y_len 192 61\n",
      "X.shape[0] 192\n",
      "X[random_start : random_start + X_len] X[110 : 170]\n",
      "y[random_start : random_start + X_y_len] y[110 : 171]\n",
      "_len + y_len 60 1\n",
      "X.shape[0] >= X_y_len 192 61\n",
      "X.shape[0] 192\n",
      "X[random_start : random_start + X_len] X[83 : 143]\n",
      "y[random_start : random_start + X_y_len] y[83 : 144]\n",
      "_len + y_len 60 1\n",
      "X.shape[0] >= X_y_len 192 61\n",
      "X.shape[0] 192\n",
      "X[random_start : random_start + X_len] X[6 : 66]\n",
      "y[random_start : random_start + X_y_len] y[6 : 67]\n",
      "_len + y_len 60 1\n",
      "X.shape[0] >= X_y_len 192 61\n",
      "X.shape[0] 192\n",
      "X[random_start : random_start + X_len] X[14 : 74]\n",
      "y[random_start : random_start + X_y_len] y[14 : 75]\n",
      "_len + y_len 60 1\n",
      "X.shape[0] >= X_y_len 192 61\n",
      "X.shape[0] 192\n",
      "X[random_start : random_start + X_len] X[30 : 90]\n",
      "y[random_start : random_start + X_y_len] y[30 : 91]\n",
      "_len + y_len 60 1\n",
      "X.shape[0] >= X_y_len 192 61\n",
      "X.shape[0] 192\n",
      "X[random_start : random_start + X_len] X[45 : 105]\n",
      "y[random_start : random_start + X_y_len] y[45 : 106]\n",
      "_len + y_len 60 1\n",
      "X.shape[0] >= X_y_len 192 61\n",
      "X.shape[0] 192\n",
      "X[random_start : random_start + X_len] X[119 : 179]\n",
      "y[random_start : random_start + X_y_len] y[119 : 180]\n",
      "_len + y_len 60 1\n",
      "X.shape[0] >= X_y_len 192 61\n",
      "X.shape[0] 192\n",
      "X[random_start : random_start + X_len] X[34 : 94]\n",
      "y[random_start : random_start + X_y_len] y[34 : 95]\n",
      "_len + y_len 60 1\n",
      "X.shape[0] >= X_y_len 192 61\n",
      "X.shape[0] 192\n",
      "X[random_start : random_start + X_len] X[27 : 87]\n",
      "y[random_start : random_start + X_y_len] y[27 : 88]\n",
      "_len + y_len 60 1\n",
      "X.shape[0] >= X_y_len 192 61\n",
      "X.shape[0] 192\n",
      "X[random_start : random_start + X_len] X[109 : 169]\n",
      "y[random_start : random_start + X_y_len] y[109 : 170]\n",
      "_len + y_len 60 1\n",
      "X.shape[0] >= X_y_len 192 61\n",
      "X.shape[0] 192\n",
      "X[random_start : random_start + X_len] X[0 : 60]\n",
      "y[random_start : random_start + X_y_len] y[0 : 61]\n",
      "X_val.shape, y_val.shape, n_seq, n_seq_val, n_seq_test, n_obs, n_feat\n"
     ]
    },
    {
     "data": {
      "text/plain": [
       "((40, 60, 20), (40, 1), 200, 40, 20, 60, 20)"
      ]
     },
     "execution_count": 76,
     "metadata": {},
     "output_type": "execute_result"
    }
   ],
   "source": [
    "X_val, y_val = get_X_y_2(X_val, y_val, X_len=n_obs, y_len=n_pred, n_sequences=n_seq_val)\n",
    "print('X_val.shape, y_val.shape, n_seq, n_seq_val, n_seq_test, n_obs, n_feat')\n",
    "X_val.shape, y_val.shape, n_seq, n_seq_val, n_seq_test, n_obs, n_feat"
   ]
  },
  {
   "cell_type": "markdown",
   "id": "7a422c04-e3ef-4daf-b870-060c559ad2bb",
   "metadata": {},
   "source": [
    "X_train, y_train, X_val, y_val, X_test, y_test = train_test_set('United States', split_train=0.7, split_val=0.9)"
   ]
  },
  {
   "cell_type": "markdown",
   "id": "f46e2fa4-2cf1-4ad1-bd39-6b48cd2d478d",
   "metadata": {
    "tags": []
   },
   "source": [
    "X_train, y_train = get_X_y(X_train, y_train, X_test, y_test, X_len=n_obs, y_len=n_pred, n_seq_train=n_seq_test, X_val=X_val, y_val=y_val)\n",
    "X_train.shape, y_train.shape, n_seq, n_seq_val, n_seq_test, n_obs, n_feat"
   ]
  },
  {
   "cell_type": "code",
   "execution_count": 77,
   "id": "7826c700-4273-4cd3-b7d7-4c3cca2b3582",
   "metadata": {
    "tags": []
   },
   "outputs": [
    {
     "name": "stdout",
     "output_type": "stream",
     "text": [
      "_len + y_len 60 1\n",
      "X.shape[0] >= X_y_len 672 61\n",
      "X.shape[0] 672\n",
      "X[random_start : random_start + X_len] X[297 : 357]\n",
      "y[random_start : random_start + X_y_len] y[297 : 358]\n",
      "_len + y_len 60 1\n",
      "X.shape[0] >= X_y_len 672 61\n",
      "X.shape[0] 672\n",
      "X[random_start : random_start + X_len] X[179 : 239]\n",
      "y[random_start : random_start + X_y_len] y[179 : 240]\n",
      "_len + y_len 60 1\n",
      "X.shape[0] >= X_y_len 672 61\n",
      "X.shape[0] 672\n",
      "X[random_start : random_start + X_len] X[11 : 71]\n",
      "y[random_start : random_start + X_y_len] y[11 : 72]\n",
      "_len + y_len 60 1\n",
      "X.shape[0] >= X_y_len 672 61\n",
      "X.shape[0] 672\n",
      "X[random_start : random_start + X_len] X[113 : 173]\n",
      "y[random_start : random_start + X_y_len] y[113 : 174]\n",
      "_len + y_len 60 1\n",
      "X.shape[0] >= X_y_len 672 61\n",
      "X.shape[0] 672\n",
      "X[random_start : random_start + X_len] X[39 : 99]\n",
      "y[random_start : random_start + X_y_len] y[39 : 100]\n",
      "_len + y_len 60 1\n",
      "X.shape[0] >= X_y_len 672 61\n",
      "X.shape[0] 672\n",
      "X[random_start : random_start + X_len] X[508 : 568]\n",
      "y[random_start : random_start + X_y_len] y[508 : 569]\n",
      "_len + y_len 60 1\n",
      "X.shape[0] >= X_y_len 672 61\n",
      "X.shape[0] 672\n",
      "X[random_start : random_start + X_len] X[262 : 322]\n",
      "y[random_start : random_start + X_y_len] y[262 : 323]\n",
      "_len + y_len 60 1\n",
      "X.shape[0] >= X_y_len 672 61\n",
      "X.shape[0] 672\n",
      "X[random_start : random_start + X_len] X[298 : 358]\n",
      "y[random_start : random_start + X_y_len] y[298 : 359]\n",
      "_len + y_len 60 1\n",
      "X.shape[0] >= X_y_len 672 61\n",
      "X.shape[0] 672\n",
      "X[random_start : random_start + X_len] X[254 : 314]\n",
      "y[random_start : random_start + X_y_len] y[254 : 315]\n",
      "_len + y_len 60 1\n",
      "X.shape[0] >= X_y_len 672 61\n",
      "X.shape[0] 672\n",
      "X[random_start : random_start + X_len] X[239 : 299]\n",
      "y[random_start : random_start + X_y_len] y[239 : 300]\n",
      "_len + y_len 60 1\n",
      "X.shape[0] >= X_y_len 672 61\n",
      "X.shape[0] 672\n",
      "X[random_start : random_start + X_len] X[72 : 132]\n",
      "y[random_start : random_start + X_y_len] y[72 : 133]\n",
      "_len + y_len 60 1\n",
      "X.shape[0] >= X_y_len 672 61\n",
      "X.shape[0] 672\n",
      "X[random_start : random_start + X_len] X[336 : 396]\n",
      "y[random_start : random_start + X_y_len] y[336 : 397]\n",
      "_len + y_len 60 1\n",
      "X.shape[0] >= X_y_len 672 61\n",
      "X.shape[0] 672\n",
      "X[random_start : random_start + X_len] X[170 : 230]\n",
      "y[random_start : random_start + X_y_len] y[170 : 231]\n",
      "_len + y_len 60 1\n",
      "X.shape[0] >= X_y_len 672 61\n",
      "X.shape[0] 672\n",
      "X[random_start : random_start + X_len] X[19 : 79]\n",
      "y[random_start : random_start + X_y_len] y[19 : 80]\n",
      "_len + y_len 60 1\n",
      "X.shape[0] >= X_y_len 672 61\n",
      "X.shape[0] 672\n",
      "X[random_start : random_start + X_len] X[546 : 606]\n",
      "y[random_start : random_start + X_y_len] y[546 : 607]\n",
      "_len + y_len 60 1\n",
      "X.shape[0] >= X_y_len 672 61\n",
      "X.shape[0] 672\n",
      "X[random_start : random_start + X_len] X[356 : 416]\n",
      "y[random_start : random_start + X_y_len] y[356 : 417]\n",
      "_len + y_len 60 1\n",
      "X.shape[0] >= X_y_len 672 61\n",
      "X.shape[0] 672\n",
      "X[random_start : random_start + X_len] X[449 : 509]\n",
      "y[random_start : random_start + X_y_len] y[449 : 510]\n",
      "_len + y_len 60 1\n",
      "X.shape[0] >= X_y_len 672 61\n",
      "X.shape[0] 672\n",
      "X[random_start : random_start + X_len] X[409 : 469]\n",
      "y[random_start : random_start + X_y_len] y[409 : 470]\n",
      "_len + y_len 60 1\n",
      "X.shape[0] >= X_y_len 672 61\n",
      "X.shape[0] 672\n",
      "X[random_start : random_start + X_len] X[333 : 393]\n",
      "y[random_start : random_start + X_y_len] y[333 : 394]\n",
      "_len + y_len 60 1\n",
      "X.shape[0] >= X_y_len 672 61\n",
      "X.shape[0] 672\n",
      "X[random_start : random_start + X_len] X[237 : 297]\n",
      "y[random_start : random_start + X_y_len] y[237 : 298]\n",
      "_len + y_len 60 1\n",
      "X.shape[0] >= X_y_len 672 61\n",
      "X.shape[0] 672\n",
      "X[random_start : random_start + X_len] X[415 : 475]\n",
      "y[random_start : random_start + X_y_len] y[415 : 476]\n",
      "_len + y_len 60 1\n",
      "X.shape[0] >= X_y_len 672 61\n",
      "X.shape[0] 672\n",
      "X[random_start : random_start + X_len] X[541 : 601]\n",
      "y[random_start : random_start + X_y_len] y[541 : 602]\n",
      "_len + y_len 60 1\n",
      "X.shape[0] >= X_y_len 672 61\n",
      "X.shape[0] 672\n",
      "X[random_start : random_start + X_len] X[197 : 257]\n",
      "y[random_start : random_start + X_y_len] y[197 : 258]\n",
      "_len + y_len 60 1\n",
      "X.shape[0] >= X_y_len 672 61\n",
      "X.shape[0] 672\n",
      "X[random_start : random_start + X_len] X[565 : 625]\n",
      "y[random_start : random_start + X_y_len] y[565 : 626]\n",
      "_len + y_len 60 1\n",
      "X.shape[0] >= X_y_len 672 61\n",
      "X.shape[0] 672\n",
      "X[random_start : random_start + X_len] X[410 : 470]\n",
      "y[random_start : random_start + X_y_len] y[410 : 471]\n",
      "_len + y_len 60 1\n",
      "X.shape[0] >= X_y_len 672 61\n",
      "X.shape[0] 672\n",
      "X[random_start : random_start + X_len] X[591 : 651]\n",
      "y[random_start : random_start + X_y_len] y[591 : 652]\n",
      "_len + y_len 60 1\n",
      "X.shape[0] >= X_y_len 672 61\n",
      "X.shape[0] 672\n",
      "X[random_start : random_start + X_len] X[229 : 289]\n",
      "y[random_start : random_start + X_y_len] y[229 : 290]\n",
      "_len + y_len 60 1\n",
      "X.shape[0] >= X_y_len 672 61\n",
      "X.shape[0] 672\n",
      "X[random_start : random_start + X_len] X[465 : 525]\n",
      "y[random_start : random_start + X_y_len] y[465 : 526]\n",
      "_len + y_len 60 1\n",
      "X.shape[0] >= X_y_len 672 61\n",
      "X.shape[0] 672\n",
      "X[random_start : random_start + X_len] X[199 : 259]\n",
      "y[random_start : random_start + X_y_len] y[199 : 260]\n",
      "_len + y_len 60 1\n",
      "X.shape[0] >= X_y_len 672 61\n",
      "X.shape[0] 672\n",
      "X[random_start : random_start + X_len] X[138 : 198]\n",
      "y[random_start : random_start + X_y_len] y[138 : 199]\n",
      "_len + y_len 60 1\n",
      "X.shape[0] >= X_y_len 672 61\n",
      "X.shape[0] 672\n",
      "X[random_start : random_start + X_len] X[130 : 190]\n",
      "y[random_start : random_start + X_y_len] y[130 : 191]\n",
      "_len + y_len 60 1\n",
      "X.shape[0] >= X_y_len 672 61\n",
      "X.shape[0] 672\n",
      "X[random_start : random_start + X_len] X[357 : 417]\n",
      "y[random_start : random_start + X_y_len] y[357 : 418]\n",
      "_len + y_len 60 1\n",
      "X.shape[0] >= X_y_len 672 61\n",
      "X.shape[0] 672\n",
      "X[random_start : random_start + X_len] X[237 : 297]\n",
      "y[random_start : random_start + X_y_len] y[237 : 298]\n",
      "_len + y_len 60 1\n",
      "X.shape[0] >= X_y_len 672 61\n",
      "X.shape[0] 672\n",
      "X[random_start : random_start + X_len] X[377 : 437]\n",
      "y[random_start : random_start + X_y_len] y[377 : 438]\n",
      "_len + y_len 60 1\n",
      "X.shape[0] >= X_y_len 672 61\n",
      "X.shape[0] 672\n",
      "X[random_start : random_start + X_len] X[280 : 340]\n",
      "y[random_start : random_start + X_y_len] y[280 : 341]\n",
      "_len + y_len 60 1\n",
      "X.shape[0] >= X_y_len 672 61\n",
      "X.shape[0] 672\n",
      "X[random_start : random_start + X_len] X[540 : 600]\n",
      "y[random_start : random_start + X_y_len] y[540 : 601]\n",
      "_len + y_len 60 1\n",
      "X.shape[0] >= X_y_len 672 61\n",
      "X.shape[0] 672\n",
      "X[random_start : random_start + X_len] X[426 : 486]\n",
      "y[random_start : random_start + X_y_len] y[426 : 487]\n",
      "_len + y_len 60 1\n",
      "X.shape[0] >= X_y_len 672 61\n",
      "X.shape[0] 672\n",
      "X[random_start : random_start + X_len] X[141 : 201]\n",
      "y[random_start : random_start + X_y_len] y[141 : 202]\n",
      "_len + y_len 60 1\n",
      "X.shape[0] >= X_y_len 672 61\n",
      "X.shape[0] 672\n",
      "X[random_start : random_start + X_len] X[498 : 558]\n",
      "y[random_start : random_start + X_y_len] y[498 : 559]\n",
      "_len + y_len 60 1\n",
      "X.shape[0] >= X_y_len 672 61\n",
      "X.shape[0] 672\n",
      "X[random_start : random_start + X_len] X[147 : 207]\n",
      "y[random_start : random_start + X_y_len] y[147 : 208]\n",
      "_len + y_len 60 1\n",
      "X.shape[0] >= X_y_len 672 61\n",
      "X.shape[0] 672\n",
      "X[random_start : random_start + X_len] X[273 : 333]\n",
      "y[random_start : random_start + X_y_len] y[273 : 334]\n",
      "_len + y_len 60 1\n",
      "X.shape[0] >= X_y_len 672 61\n",
      "X.shape[0] 672\n",
      "X[random_start : random_start + X_len] X[504 : 564]\n",
      "y[random_start : random_start + X_y_len] y[504 : 565]\n",
      "_len + y_len 60 1\n",
      "X.shape[0] >= X_y_len 672 61\n",
      "X.shape[0] 672\n",
      "X[random_start : random_start + X_len] X[177 : 237]\n",
      "y[random_start : random_start + X_y_len] y[177 : 238]\n",
      "_len + y_len 60 1\n",
      "X.shape[0] >= X_y_len 672 61\n",
      "X.shape[0] 672\n",
      "X[random_start : random_start + X_len] X[253 : 313]\n",
      "y[random_start : random_start + X_y_len] y[253 : 314]\n",
      "_len + y_len 60 1\n",
      "X.shape[0] >= X_y_len 672 61\n",
      "X.shape[0] 672\n",
      "X[random_start : random_start + X_len] X[202 : 262]\n",
      "y[random_start : random_start + X_y_len] y[202 : 263]\n",
      "_len + y_len 60 1\n",
      "X.shape[0] >= X_y_len 672 61\n",
      "X.shape[0] 672\n",
      "X[random_start : random_start + X_len] X[255 : 315]\n",
      "y[random_start : random_start + X_y_len] y[255 : 316]\n",
      "_len + y_len 60 1\n",
      "X.shape[0] >= X_y_len 672 61\n",
      "X.shape[0] 672\n",
      "X[random_start : random_start + X_len] X[97 : 157]\n",
      "y[random_start : random_start + X_y_len] y[97 : 158]\n",
      "_len + y_len 60 1\n",
      "X.shape[0] >= X_y_len 672 61\n",
      "X.shape[0] 672\n",
      "X[random_start : random_start + X_len] X[57 : 117]\n",
      "y[random_start : random_start + X_y_len] y[57 : 118]\n",
      "_len + y_len 60 1\n",
      "X.shape[0] >= X_y_len 672 61\n",
      "X.shape[0] 672\n",
      "X[random_start : random_start + X_len] X[604 : 664]\n",
      "y[random_start : random_start + X_y_len] y[604 : 665]\n",
      "_len + y_len 60 1\n",
      "X.shape[0] >= X_y_len 672 61\n",
      "X.shape[0] 672\n",
      "X[random_start : random_start + X_len] X[494 : 554]\n",
      "y[random_start : random_start + X_y_len] y[494 : 555]\n",
      "_len + y_len 60 1\n",
      "X.shape[0] >= X_y_len 672 61\n",
      "X.shape[0] 672\n",
      "X[random_start : random_start + X_len] X[373 : 433]\n",
      "y[random_start : random_start + X_y_len] y[373 : 434]\n",
      "_len + y_len 60 1\n",
      "X.shape[0] >= X_y_len 672 61\n",
      "X.shape[0] 672\n",
      "X[random_start : random_start + X_len] X[60 : 120]\n",
      "y[random_start : random_start + X_y_len] y[60 : 121]\n",
      "_len + y_len 60 1\n",
      "X.shape[0] >= X_y_len 672 61\n",
      "X.shape[0] 672\n",
      "X[random_start : random_start + X_len] X[167 : 227]\n",
      "y[random_start : random_start + X_y_len] y[167 : 228]\n",
      "_len + y_len 60 1\n",
      "X.shape[0] >= X_y_len 672 61\n",
      "X.shape[0] 672\n",
      "X[random_start : random_start + X_len] X[329 : 389]\n",
      "y[random_start : random_start + X_y_len] y[329 : 390]\n",
      "_len + y_len 60 1\n",
      "X.shape[0] >= X_y_len 672 61\n",
      "X.shape[0] 672\n",
      "X[random_start : random_start + X_len] X[299 : 359]\n",
      "y[random_start : random_start + X_y_len] y[299 : 360]\n",
      "_len + y_len 60 1\n",
      "X.shape[0] >= X_y_len 672 61\n",
      "X.shape[0] 672\n",
      "X[random_start : random_start + X_len] X[476 : 536]\n",
      "y[random_start : random_start + X_y_len] y[476 : 537]\n",
      "_len + y_len 60 1\n",
      "X.shape[0] >= X_y_len 672 61\n",
      "X.shape[0] 672\n",
      "X[random_start : random_start + X_len] X[555 : 615]\n",
      "y[random_start : random_start + X_y_len] y[555 : 616]\n",
      "_len + y_len 60 1\n",
      "X.shape[0] >= X_y_len 672 61\n",
      "X.shape[0] 672\n",
      "X[random_start : random_start + X_len] X[210 : 270]\n",
      "y[random_start : random_start + X_y_len] y[210 : 271]\n",
      "_len + y_len 60 1\n",
      "X.shape[0] >= X_y_len 672 61\n",
      "X.shape[0] 672\n",
      "X[random_start : random_start + X_len] X[42 : 102]\n",
      "y[random_start : random_start + X_y_len] y[42 : 103]\n",
      "_len + y_len 60 1\n",
      "X.shape[0] >= X_y_len 672 61\n",
      "X.shape[0] 672\n",
      "X[random_start : random_start + X_len] X[47 : 107]\n",
      "y[random_start : random_start + X_y_len] y[47 : 108]\n",
      "_len + y_len 60 1\n",
      "X.shape[0] >= X_y_len 672 61\n",
      "X.shape[0] 672\n",
      "X[random_start : random_start + X_len] X[197 : 257]\n",
      "y[random_start : random_start + X_y_len] y[197 : 258]\n",
      "_len + y_len 60 1\n",
      "X.shape[0] >= X_y_len 672 61\n",
      "X.shape[0] 672\n",
      "X[random_start : random_start + X_len] X[572 : 632]\n",
      "y[random_start : random_start + X_y_len] y[572 : 633]\n",
      "_len + y_len 60 1\n",
      "X.shape[0] >= X_y_len 672 61\n",
      "X.shape[0] 672\n",
      "X[random_start : random_start + X_len] X[579 : 639]\n",
      "y[random_start : random_start + X_y_len] y[579 : 640]\n",
      "_len + y_len 60 1\n",
      "X.shape[0] >= X_y_len 672 61\n",
      "X.shape[0] 672\n",
      "X[random_start : random_start + X_len] X[401 : 461]\n",
      "y[random_start : random_start + X_y_len] y[401 : 462]\n",
      "_len + y_len 60 1\n",
      "X.shape[0] >= X_y_len 672 61\n",
      "X.shape[0] 672\n",
      "X[random_start : random_start + X_len] X[148 : 208]\n",
      "y[random_start : random_start + X_y_len] y[148 : 209]\n",
      "_len + y_len 60 1\n",
      "X.shape[0] >= X_y_len 672 61\n",
      "X.shape[0] 672\n",
      "X[random_start : random_start + X_len] X[469 : 529]\n",
      "y[random_start : random_start + X_y_len] y[469 : 530]\n",
      "_len + y_len 60 1\n",
      "X.shape[0] >= X_y_len 672 61\n",
      "X.shape[0] 672\n",
      "X[random_start : random_start + X_len] X[318 : 378]\n",
      "y[random_start : random_start + X_y_len] y[318 : 379]\n",
      "_len + y_len 60 1\n",
      "X.shape[0] >= X_y_len 672 61\n",
      "X.shape[0] 672\n",
      "X[random_start : random_start + X_len] X[309 : 369]\n",
      "y[random_start : random_start + X_y_len] y[309 : 370]\n",
      "_len + y_len 60 1\n",
      "X.shape[0] >= X_y_len 672 61\n",
      "X.shape[0] 672\n",
      "X[random_start : random_start + X_len] X[387 : 447]\n",
      "y[random_start : random_start + X_y_len] y[387 : 448]\n",
      "_len + y_len 60 1\n",
      "X.shape[0] >= X_y_len 672 61\n",
      "X.shape[0] 672\n",
      "X[random_start : random_start + X_len] X[606 : 666]\n",
      "y[random_start : random_start + X_y_len] y[606 : 667]\n",
      "_len + y_len 60 1\n",
      "X.shape[0] >= X_y_len 672 61\n",
      "X.shape[0] 672\n",
      "X[random_start : random_start + X_len] X[554 : 614]\n",
      "y[random_start : random_start + X_y_len] y[554 : 615]\n",
      "_len + y_len 60 1\n",
      "X.shape[0] >= X_y_len 672 61\n",
      "X.shape[0] 672\n",
      "X[random_start : random_start + X_len] X[173 : 233]\n",
      "y[random_start : random_start + X_y_len] y[173 : 234]\n",
      "_len + y_len 60 1\n",
      "X.shape[0] >= X_y_len 672 61\n",
      "X.shape[0] 672\n",
      "X[random_start : random_start + X_len] X[3 : 63]\n",
      "y[random_start : random_start + X_y_len] y[3 : 64]\n",
      "_len + y_len 60 1\n",
      "X.shape[0] >= X_y_len 672 61\n",
      "X.shape[0] 672\n",
      "X[random_start : random_start + X_len] X[497 : 557]\n",
      "y[random_start : random_start + X_y_len] y[497 : 558]\n",
      "_len + y_len 60 1\n",
      "X.shape[0] >= X_y_len 672 61\n",
      "X.shape[0] 672\n",
      "X[random_start : random_start + X_len] X[193 : 253]\n",
      "y[random_start : random_start + X_y_len] y[193 : 254]\n",
      "_len + y_len 60 1\n",
      "X.shape[0] >= X_y_len 672 61\n",
      "X.shape[0] 672\n",
      "X[random_start : random_start + X_len] X[163 : 223]\n",
      "y[random_start : random_start + X_y_len] y[163 : 224]\n",
      "_len + y_len 60 1\n",
      "X.shape[0] >= X_y_len 672 61\n",
      "X.shape[0] 672\n",
      "X[random_start : random_start + X_len] X[560 : 620]\n",
      "y[random_start : random_start + X_y_len] y[560 : 621]\n",
      "_len + y_len 60 1\n",
      "X.shape[0] >= X_y_len 672 61\n",
      "X.shape[0] 672\n",
      "X[random_start : random_start + X_len] X[328 : 388]\n",
      "y[random_start : random_start + X_y_len] y[328 : 389]\n",
      "_len + y_len 60 1\n",
      "X.shape[0] >= X_y_len 672 61\n",
      "X.shape[0] 672\n",
      "X[random_start : random_start + X_len] X[255 : 315]\n",
      "y[random_start : random_start + X_y_len] y[255 : 316]\n",
      "_len + y_len 60 1\n",
      "X.shape[0] >= X_y_len 672 61\n",
      "X.shape[0] 672\n",
      "X[random_start : random_start + X_len] X[336 : 396]\n",
      "y[random_start : random_start + X_y_len] y[336 : 397]\n",
      "_len + y_len 60 1\n",
      "X.shape[0] >= X_y_len 672 61\n",
      "X.shape[0] 672\n",
      "X[random_start : random_start + X_len] X[182 : 242]\n",
      "y[random_start : random_start + X_y_len] y[182 : 243]\n",
      "_len + y_len 60 1\n",
      "X.shape[0] >= X_y_len 672 61\n",
      "X.shape[0] 672\n",
      "X[random_start : random_start + X_len] X[429 : 489]\n",
      "y[random_start : random_start + X_y_len] y[429 : 490]\n",
      "_len + y_len 60 1\n",
      "X.shape[0] >= X_y_len 672 61\n",
      "X.shape[0] 672\n",
      "X[random_start : random_start + X_len] X[322 : 382]\n",
      "y[random_start : random_start + X_y_len] y[322 : 383]\n",
      "_len + y_len 60 1\n",
      "X.shape[0] >= X_y_len 672 61\n",
      "X.shape[0] 672\n",
      "X[random_start : random_start + X_len] X[307 : 367]\n",
      "y[random_start : random_start + X_y_len] y[307 : 368]\n",
      "_len + y_len 60 1\n",
      "X.shape[0] >= X_y_len 672 61\n",
      "X.shape[0] 672\n",
      "X[random_start : random_start + X_len] X[559 : 619]\n",
      "y[random_start : random_start + X_y_len] y[559 : 620]\n",
      "_len + y_len 60 1\n",
      "X.shape[0] >= X_y_len 672 61\n",
      "X.shape[0] 672\n",
      "X[random_start : random_start + X_len] X[443 : 503]\n",
      "y[random_start : random_start + X_y_len] y[443 : 504]\n",
      "_len + y_len 60 1\n",
      "X.shape[0] >= X_y_len 672 61\n",
      "X.shape[0] 672\n",
      "X[random_start : random_start + X_len] X[257 : 317]\n",
      "y[random_start : random_start + X_y_len] y[257 : 318]\n",
      "_len + y_len 60 1\n",
      "X.shape[0] >= X_y_len 672 61\n",
      "X.shape[0] 672\n",
      "X[random_start : random_start + X_len] X[28 : 88]\n",
      "y[random_start : random_start + X_y_len] y[28 : 89]\n",
      "_len + y_len 60 1\n",
      "X.shape[0] >= X_y_len 672 61\n",
      "X.shape[0] 672\n",
      "X[random_start : random_start + X_len] X[51 : 111]\n",
      "y[random_start : random_start + X_y_len] y[51 : 112]\n",
      "_len + y_len 60 1\n",
      "X.shape[0] >= X_y_len 672 61\n",
      "X.shape[0] 672\n",
      "X[random_start : random_start + X_len] X[468 : 528]\n",
      "y[random_start : random_start + X_y_len] y[468 : 529]\n",
      "_len + y_len 60 1\n",
      "X.shape[0] >= X_y_len 672 61\n",
      "X.shape[0] 672\n",
      "X[random_start : random_start + X_len] X[478 : 538]\n",
      "y[random_start : random_start + X_y_len] y[478 : 539]\n",
      "_len + y_len 60 1\n",
      "X.shape[0] >= X_y_len 672 61\n",
      "X.shape[0] 672\n",
      "X[random_start : random_start + X_len] X[295 : 355]\n",
      "y[random_start : random_start + X_y_len] y[295 : 356]\n",
      "_len + y_len 60 1\n",
      "X.shape[0] >= X_y_len 672 61\n",
      "X.shape[0] 672\n",
      "X[random_start : random_start + X_len] X[314 : 374]\n",
      "y[random_start : random_start + X_y_len] y[314 : 375]\n",
      "_len + y_len 60 1\n",
      "X.shape[0] >= X_y_len 672 61\n",
      "X.shape[0] 672\n",
      "X[random_start : random_start + X_len] X[396 : 456]\n",
      "y[random_start : random_start + X_y_len] y[396 : 457]\n",
      "_len + y_len 60 1\n",
      "X.shape[0] >= X_y_len 672 61\n",
      "X.shape[0] 672\n",
      "X[random_start : random_start + X_len] X[571 : 631]\n",
      "y[random_start : random_start + X_y_len] y[571 : 632]\n",
      "_len + y_len 60 1\n",
      "X.shape[0] >= X_y_len 672 61\n",
      "X.shape[0] 672\n",
      "X[random_start : random_start + X_len] X[19 : 79]\n",
      "y[random_start : random_start + X_y_len] y[19 : 80]\n",
      "_len + y_len 60 1\n",
      "X.shape[0] >= X_y_len 672 61\n",
      "X.shape[0] 672\n",
      "X[random_start : random_start + X_len] X[127 : 187]\n",
      "y[random_start : random_start + X_y_len] y[127 : 188]\n",
      "_len + y_len 60 1\n",
      "X.shape[0] >= X_y_len 672 61\n",
      "X.shape[0] 672\n",
      "X[random_start : random_start + X_len] X[415 : 475]\n",
      "y[random_start : random_start + X_y_len] y[415 : 476]\n",
      "_len + y_len 60 1\n",
      "X.shape[0] >= X_y_len 672 61\n",
      "X.shape[0] 672\n",
      "X[random_start : random_start + X_len] X[258 : 318]\n",
      "y[random_start : random_start + X_y_len] y[258 : 319]\n",
      "_len + y_len 60 1\n",
      "X.shape[0] >= X_y_len 672 61\n",
      "X.shape[0] 672\n",
      "X[random_start : random_start + X_len] X[29 : 89]\n",
      "y[random_start : random_start + X_y_len] y[29 : 90]\n",
      "_len + y_len 60 1\n",
      "X.shape[0] >= X_y_len 672 61\n",
      "X.shape[0] 672\n",
      "X[random_start : random_start + X_len] X[224 : 284]\n",
      "y[random_start : random_start + X_y_len] y[224 : 285]\n",
      "_len + y_len 60 1\n",
      "X.shape[0] >= X_y_len 672 61\n",
      "X.shape[0] 672\n",
      "X[random_start : random_start + X_len] X[345 : 405]\n",
      "y[random_start : random_start + X_y_len] y[345 : 406]\n",
      "_len + y_len 60 1\n",
      "X.shape[0] >= X_y_len 672 61\n",
      "X.shape[0] 672\n",
      "X[random_start : random_start + X_len] X[451 : 511]\n",
      "y[random_start : random_start + X_y_len] y[451 : 512]\n",
      "_len + y_len 60 1\n",
      "X.shape[0] >= X_y_len 672 61\n",
      "X.shape[0] 672\n",
      "X[random_start : random_start + X_len] X[334 : 394]\n",
      "y[random_start : random_start + X_y_len] y[334 : 395]\n",
      "_len + y_len 60 1\n",
      "X.shape[0] >= X_y_len 672 61\n",
      "X.shape[0] 672\n",
      "X[random_start : random_start + X_len] X[445 : 505]\n",
      "y[random_start : random_start + X_y_len] y[445 : 506]\n",
      "_len + y_len 60 1\n",
      "X.shape[0] >= X_y_len 672 61\n",
      "X.shape[0] 672\n",
      "X[random_start : random_start + X_len] X[96 : 156]\n",
      "y[random_start : random_start + X_y_len] y[96 : 157]\n",
      "_len + y_len 60 1\n",
      "X.shape[0] >= X_y_len 672 61\n",
      "X.shape[0] 672\n",
      "X[random_start : random_start + X_len] X[459 : 519]\n",
      "y[random_start : random_start + X_y_len] y[459 : 520]\n",
      "_len + y_len 60 1\n",
      "X.shape[0] >= X_y_len 672 61\n",
      "X.shape[0] 672\n",
      "X[random_start : random_start + X_len] X[414 : 474]\n",
      "y[random_start : random_start + X_y_len] y[414 : 475]\n",
      "_len + y_len 60 1\n",
      "X.shape[0] >= X_y_len 672 61\n",
      "X.shape[0] 672\n",
      "X[random_start : random_start + X_len] X[469 : 529]\n",
      "y[random_start : random_start + X_y_len] y[469 : 530]\n",
      "_len + y_len 60 1\n",
      "X.shape[0] >= X_y_len 672 61\n",
      "X.shape[0] 672\n",
      "X[random_start : random_start + X_len] X[423 : 483]\n",
      "y[random_start : random_start + X_y_len] y[423 : 484]\n",
      "_len + y_len 60 1\n",
      "X.shape[0] >= X_y_len 672 61\n",
      "X.shape[0] 672\n",
      "X[random_start : random_start + X_len] X[61 : 121]\n",
      "y[random_start : random_start + X_y_len] y[61 : 122]\n",
      "_len + y_len 60 1\n",
      "X.shape[0] >= X_y_len 672 61\n",
      "X.shape[0] 672\n",
      "X[random_start : random_start + X_len] X[154 : 214]\n",
      "y[random_start : random_start + X_y_len] y[154 : 215]\n",
      "_len + y_len 60 1\n",
      "X.shape[0] >= X_y_len 672 61\n",
      "X.shape[0] 672\n",
      "X[random_start : random_start + X_len] X[328 : 388]\n",
      "y[random_start : random_start + X_y_len] y[328 : 389]\n",
      "_len + y_len 60 1\n",
      "X.shape[0] >= X_y_len 672 61\n",
      "X.shape[0] 672\n",
      "X[random_start : random_start + X_len] X[55 : 115]\n",
      "y[random_start : random_start + X_y_len] y[55 : 116]\n",
      "_len + y_len 60 1\n",
      "X.shape[0] >= X_y_len 672 61\n",
      "X.shape[0] 672\n",
      "X[random_start : random_start + X_len] X[332 : 392]\n",
      "y[random_start : random_start + X_y_len] y[332 : 393]\n",
      "_len + y_len 60 1\n",
      "X.shape[0] >= X_y_len 672 61\n",
      "X.shape[0] 672\n",
      "X[random_start : random_start + X_len] X[124 : 184]\n",
      "y[random_start : random_start + X_y_len] y[124 : 185]\n",
      "_len + y_len 60 1\n",
      "X.shape[0] >= X_y_len 672 61\n",
      "X.shape[0] 672\n",
      "X[random_start : random_start + X_len] X[311 : 371]\n",
      "y[random_start : random_start + X_y_len] y[311 : 372]\n",
      "_len + y_len 60 1\n",
      "X.shape[0] >= X_y_len 672 61\n",
      "X.shape[0] 672\n",
      "X[random_start : random_start + X_len] X[332 : 392]\n",
      "y[random_start : random_start + X_y_len] y[332 : 393]\n",
      "_len + y_len 60 1\n",
      "X.shape[0] >= X_y_len 672 61\n",
      "X.shape[0] 672\n",
      "X[random_start : random_start + X_len] X[389 : 449]\n",
      "y[random_start : random_start + X_y_len] y[389 : 450]\n",
      "_len + y_len 60 1\n",
      "X.shape[0] >= X_y_len 672 61\n",
      "X.shape[0] 672\n",
      "X[random_start : random_start + X_len] X[75 : 135]\n",
      "y[random_start : random_start + X_y_len] y[75 : 136]\n",
      "_len + y_len 60 1\n",
      "X.shape[0] >= X_y_len 672 61\n",
      "X.shape[0] 672\n",
      "X[random_start : random_start + X_len] X[130 : 190]\n",
      "y[random_start : random_start + X_y_len] y[130 : 191]\n",
      "_len + y_len 60 1\n",
      "X.shape[0] >= X_y_len 672 61\n",
      "X.shape[0] 672\n",
      "X[random_start : random_start + X_len] X[389 : 449]\n",
      "y[random_start : random_start + X_y_len] y[389 : 450]\n",
      "_len + y_len 60 1\n",
      "X.shape[0] >= X_y_len 672 61\n",
      "X.shape[0] 672\n",
      "X[random_start : random_start + X_len] X[78 : 138]\n",
      "y[random_start : random_start + X_y_len] y[78 : 139]\n",
      "_len + y_len 60 1\n",
      "X.shape[0] >= X_y_len 672 61\n",
      "X.shape[0] 672\n",
      "X[random_start : random_start + X_len] X[590 : 650]\n",
      "y[random_start : random_start + X_y_len] y[590 : 651]\n",
      "_len + y_len 60 1\n",
      "X.shape[0] >= X_y_len 672 61\n",
      "X.shape[0] 672\n",
      "X[random_start : random_start + X_len] X[252 : 312]\n",
      "y[random_start : random_start + X_y_len] y[252 : 313]\n",
      "_len + y_len 60 1\n",
      "X.shape[0] >= X_y_len 672 61\n",
      "X.shape[0] 672\n",
      "X[random_start : random_start + X_len] X[202 : 262]\n",
      "y[random_start : random_start + X_y_len] y[202 : 263]\n",
      "_len + y_len 60 1\n",
      "X.shape[0] >= X_y_len 672 61\n",
      "X.shape[0] 672\n",
      "X[random_start : random_start + X_len] X[59 : 119]\n",
      "y[random_start : random_start + X_y_len] y[59 : 120]\n",
      "_len + y_len 60 1\n",
      "X.shape[0] >= X_y_len 672 61\n",
      "X.shape[0] 672\n",
      "X[random_start : random_start + X_len] X[86 : 146]\n",
      "y[random_start : random_start + X_y_len] y[86 : 147]\n",
      "_len + y_len 60 1\n",
      "X.shape[0] >= X_y_len 672 61\n",
      "X.shape[0] 672\n",
      "X[random_start : random_start + X_len] X[511 : 571]\n",
      "y[random_start : random_start + X_y_len] y[511 : 572]\n",
      "_len + y_len 60 1\n",
      "X.shape[0] >= X_y_len 672 61\n",
      "X.shape[0] 672\n",
      "X[random_start : random_start + X_len] X[231 : 291]\n",
      "y[random_start : random_start + X_y_len] y[231 : 292]\n",
      "_len + y_len 60 1\n",
      "X.shape[0] >= X_y_len 672 61\n",
      "X.shape[0] 672\n",
      "X[random_start : random_start + X_len] X[97 : 157]\n",
      "y[random_start : random_start + X_y_len] y[97 : 158]\n",
      "_len + y_len 60 1\n",
      "X.shape[0] >= X_y_len 672 61\n",
      "X.shape[0] 672\n",
      "X[random_start : random_start + X_len] X[373 : 433]\n",
      "y[random_start : random_start + X_y_len] y[373 : 434]\n",
      "_len + y_len 60 1\n",
      "X.shape[0] >= X_y_len 672 61\n",
      "X.shape[0] 672\n",
      "X[random_start : random_start + X_len] X[28 : 88]\n",
      "y[random_start : random_start + X_y_len] y[28 : 89]\n",
      "_len + y_len 60 1\n",
      "X.shape[0] >= X_y_len 672 61\n",
      "X.shape[0] 672\n",
      "X[random_start : random_start + X_len] X[325 : 385]\n",
      "y[random_start : random_start + X_y_len] y[325 : 386]\n",
      "_len + y_len 60 1\n",
      "X.shape[0] >= X_y_len 672 61\n",
      "X.shape[0] 672\n",
      "X[random_start : random_start + X_len] X[42 : 102]\n",
      "y[random_start : random_start + X_y_len] y[42 : 103]\n",
      "_len + y_len 60 1\n",
      "X.shape[0] >= X_y_len 672 61\n",
      "X.shape[0] 672\n",
      "X[random_start : random_start + X_len] X[289 : 349]\n",
      "y[random_start : random_start + X_y_len] y[289 : 350]\n",
      "_len + y_len 60 1\n",
      "X.shape[0] >= X_y_len 672 61\n",
      "X.shape[0] 672\n",
      "X[random_start : random_start + X_len] X[290 : 350]\n",
      "y[random_start : random_start + X_y_len] y[290 : 351]\n",
      "_len + y_len 60 1\n",
      "X.shape[0] >= X_y_len 672 61\n",
      "X.shape[0] 672\n",
      "X[random_start : random_start + X_len] X[375 : 435]\n",
      "y[random_start : random_start + X_y_len] y[375 : 436]\n",
      "_len + y_len 60 1\n",
      "X.shape[0] >= X_y_len 672 61\n",
      "X.shape[0] 672\n",
      "X[random_start : random_start + X_len] X[205 : 265]\n",
      "y[random_start : random_start + X_y_len] y[205 : 266]\n",
      "_len + y_len 60 1\n",
      "X.shape[0] >= X_y_len 672 61\n",
      "X.shape[0] 672\n",
      "X[random_start : random_start + X_len] X[382 : 442]\n",
      "y[random_start : random_start + X_y_len] y[382 : 443]\n",
      "_len + y_len 60 1\n",
      "X.shape[0] >= X_y_len 672 61\n",
      "X.shape[0] 672\n",
      "X[random_start : random_start + X_len] X[474 : 534]\n",
      "y[random_start : random_start + X_y_len] y[474 : 535]\n",
      "_len + y_len 60 1\n",
      "X.shape[0] >= X_y_len 672 61\n",
      "X.shape[0] 672\n",
      "X[random_start : random_start + X_len] X[114 : 174]\n",
      "y[random_start : random_start + X_y_len] y[114 : 175]\n",
      "_len + y_len 60 1\n",
      "X.shape[0] >= X_y_len 672 61\n",
      "X.shape[0] 672\n",
      "X[random_start : random_start + X_len] X[599 : 659]\n",
      "y[random_start : random_start + X_y_len] y[599 : 660]\n",
      "_len + y_len 60 1\n",
      "X.shape[0] >= X_y_len 672 61\n",
      "X.shape[0] 672\n",
      "X[random_start : random_start + X_len] X[419 : 479]\n",
      "y[random_start : random_start + X_y_len] y[419 : 480]\n",
      "_len + y_len 60 1\n",
      "X.shape[0] >= X_y_len 672 61\n",
      "X.shape[0] 672\n",
      "X[random_start : random_start + X_len] X[154 : 214]\n",
      "y[random_start : random_start + X_y_len] y[154 : 215]\n",
      "_len + y_len 60 1\n",
      "X.shape[0] >= X_y_len 672 61\n",
      "X.shape[0] 672\n",
      "X[random_start : random_start + X_len] X[398 : 458]\n",
      "y[random_start : random_start + X_y_len] y[398 : 459]\n",
      "_len + y_len 60 1\n",
      "X.shape[0] >= X_y_len 672 61\n",
      "X.shape[0] 672\n",
      "X[random_start : random_start + X_len] X[313 : 373]\n",
      "y[random_start : random_start + X_y_len] y[313 : 374]\n",
      "_len + y_len 60 1\n",
      "X.shape[0] >= X_y_len 672 61\n",
      "X.shape[0] 672\n",
      "X[random_start : random_start + X_len] X[340 : 400]\n",
      "y[random_start : random_start + X_y_len] y[340 : 401]\n",
      "_len + y_len 60 1\n",
      "X.shape[0] >= X_y_len 672 61\n",
      "X.shape[0] 672\n",
      "X[random_start : random_start + X_len] X[449 : 509]\n",
      "y[random_start : random_start + X_y_len] y[449 : 510]\n",
      "_len + y_len 60 1\n",
      "X.shape[0] >= X_y_len 672 61\n",
      "X.shape[0] 672\n",
      "X[random_start : random_start + X_len] X[225 : 285]\n",
      "y[random_start : random_start + X_y_len] y[225 : 286]\n",
      "_len + y_len 60 1\n",
      "X.shape[0] >= X_y_len 672 61\n",
      "X.shape[0] 672\n",
      "X[random_start : random_start + X_len] X[532 : 592]\n",
      "y[random_start : random_start + X_y_len] y[532 : 593]\n",
      "_len + y_len 60 1\n",
      "X.shape[0] >= X_y_len 672 61\n",
      "X.shape[0] 672\n",
      "X[random_start : random_start + X_len] X[361 : 421]\n",
      "y[random_start : random_start + X_y_len] y[361 : 422]\n",
      "_len + y_len 60 1\n",
      "X.shape[0] >= X_y_len 672 61\n",
      "X.shape[0] 672\n",
      "X[random_start : random_start + X_len] X[294 : 354]\n",
      "y[random_start : random_start + X_y_len] y[294 : 355]\n",
      "_len + y_len 60 1\n",
      "X.shape[0] >= X_y_len 672 61\n",
      "X.shape[0] 672\n",
      "X[random_start : random_start + X_len] X[96 : 156]\n",
      "y[random_start : random_start + X_y_len] y[96 : 157]\n",
      "_len + y_len 60 1\n",
      "X.shape[0] >= X_y_len 672 61\n",
      "X.shape[0] 672\n",
      "X[random_start : random_start + X_len] X[547 : 607]\n",
      "y[random_start : random_start + X_y_len] y[547 : 608]\n",
      "_len + y_len 60 1\n",
      "X.shape[0] >= X_y_len 672 61\n",
      "X.shape[0] 672\n",
      "X[random_start : random_start + X_len] X[207 : 267]\n",
      "y[random_start : random_start + X_y_len] y[207 : 268]\n",
      "_len + y_len 60 1\n",
      "X.shape[0] >= X_y_len 672 61\n",
      "X.shape[0] 672\n",
      "X[random_start : random_start + X_len] X[363 : 423]\n",
      "y[random_start : random_start + X_y_len] y[363 : 424]\n",
      "_len + y_len 60 1\n",
      "X.shape[0] >= X_y_len 672 61\n",
      "X.shape[0] 672\n",
      "X[random_start : random_start + X_len] X[275 : 335]\n",
      "y[random_start : random_start + X_y_len] y[275 : 336]\n",
      "_len + y_len 60 1\n",
      "X.shape[0] >= X_y_len 672 61\n",
      "X.shape[0] 672\n",
      "X[random_start : random_start + X_len] X[19 : 79]\n",
      "y[random_start : random_start + X_y_len] y[19 : 80]\n",
      "_len + y_len 60 1\n",
      "X.shape[0] >= X_y_len 672 61\n",
      "X.shape[0] 672\n",
      "X[random_start : random_start + X_len] X[247 : 307]\n",
      "y[random_start : random_start + X_y_len] y[247 : 308]\n",
      "_len + y_len 60 1\n",
      "X.shape[0] >= X_y_len 672 61\n",
      "X.shape[0] 672\n",
      "X[random_start : random_start + X_len] X[248 : 308]\n",
      "y[random_start : random_start + X_y_len] y[248 : 309]\n",
      "_len + y_len 60 1\n",
      "X.shape[0] >= X_y_len 672 61\n",
      "X.shape[0] 672\n",
      "X[random_start : random_start + X_len] X[25 : 85]\n",
      "y[random_start : random_start + X_y_len] y[25 : 86]\n",
      "_len + y_len 60 1\n",
      "X.shape[0] >= X_y_len 672 61\n",
      "X.shape[0] 672\n",
      "X[random_start : random_start + X_len] X[250 : 310]\n",
      "y[random_start : random_start + X_y_len] y[250 : 311]\n",
      "_len + y_len 60 1\n",
      "X.shape[0] >= X_y_len 672 61\n",
      "X.shape[0] 672\n",
      "X[random_start : random_start + X_len] X[576 : 636]\n",
      "y[random_start : random_start + X_y_len] y[576 : 637]\n",
      "_len + y_len 60 1\n",
      "X.shape[0] >= X_y_len 672 61\n",
      "X.shape[0] 672\n",
      "X[random_start : random_start + X_len] X[86 : 146]\n",
      "y[random_start : random_start + X_y_len] y[86 : 147]\n",
      "_len + y_len 60 1\n",
      "X.shape[0] >= X_y_len 672 61\n",
      "X.shape[0] 672\n",
      "X[random_start : random_start + X_len] X[75 : 135]\n",
      "y[random_start : random_start + X_y_len] y[75 : 136]\n",
      "_len + y_len 60 1\n",
      "X.shape[0] >= X_y_len 672 61\n",
      "X.shape[0] 672\n",
      "X[random_start : random_start + X_len] X[45 : 105]\n",
      "y[random_start : random_start + X_y_len] y[45 : 106]\n",
      "_len + y_len 60 1\n",
      "X.shape[0] >= X_y_len 672 61\n",
      "X.shape[0] 672\n",
      "X[random_start : random_start + X_len] X[164 : 224]\n",
      "y[random_start : random_start + X_y_len] y[164 : 225]\n",
      "_len + y_len 60 1\n",
      "X.shape[0] >= X_y_len 672 61\n",
      "X.shape[0] 672\n",
      "X[random_start : random_start + X_len] X[409 : 469]\n",
      "y[random_start : random_start + X_y_len] y[409 : 470]\n",
      "_len + y_len 60 1\n",
      "X.shape[0] >= X_y_len 672 61\n",
      "X.shape[0] 672\n",
      "X[random_start : random_start + X_len] X[187 : 247]\n",
      "y[random_start : random_start + X_y_len] y[187 : 248]\n",
      "_len + y_len 60 1\n",
      "X.shape[0] >= X_y_len 672 61\n",
      "X.shape[0] 672\n",
      "X[random_start : random_start + X_len] X[239 : 299]\n",
      "y[random_start : random_start + X_y_len] y[239 : 300]\n",
      "_len + y_len 60 1\n",
      "X.shape[0] >= X_y_len 672 61\n",
      "X.shape[0] 672\n",
      "X[random_start : random_start + X_len] X[251 : 311]\n",
      "y[random_start : random_start + X_y_len] y[251 : 312]\n",
      "_len + y_len 60 1\n",
      "X.shape[0] >= X_y_len 672 61\n",
      "X.shape[0] 672\n",
      "X[random_start : random_start + X_len] X[444 : 504]\n",
      "y[random_start : random_start + X_y_len] y[444 : 505]\n",
      "_len + y_len 60 1\n",
      "X.shape[0] >= X_y_len 672 61\n",
      "X.shape[0] 672\n",
      "X[random_start : random_start + X_len] X[419 : 479]\n",
      "y[random_start : random_start + X_y_len] y[419 : 480]\n",
      "_len + y_len 60 1\n",
      "X.shape[0] >= X_y_len 672 61\n",
      "X.shape[0] 672\n",
      "X[random_start : random_start + X_len] X[105 : 165]\n",
      "y[random_start : random_start + X_y_len] y[105 : 166]\n",
      "_len + y_len 60 1\n",
      "X.shape[0] >= X_y_len 672 61\n",
      "X.shape[0] 672\n",
      "X[random_start : random_start + X_len] X[344 : 404]\n",
      "y[random_start : random_start + X_y_len] y[344 : 405]\n",
      "_len + y_len 60 1\n",
      "X.shape[0] >= X_y_len 672 61\n",
      "X.shape[0] 672\n",
      "X[random_start : random_start + X_len] X[284 : 344]\n",
      "y[random_start : random_start + X_y_len] y[284 : 345]\n",
      "_len + y_len 60 1\n",
      "X.shape[0] >= X_y_len 672 61\n",
      "X.shape[0] 672\n",
      "X[random_start : random_start + X_len] X[109 : 169]\n",
      "y[random_start : random_start + X_y_len] y[109 : 170]\n",
      "_len + y_len 60 1\n",
      "X.shape[0] >= X_y_len 672 61\n",
      "X.shape[0] 672\n",
      "X[random_start : random_start + X_len] X[491 : 551]\n",
      "y[random_start : random_start + X_y_len] y[491 : 552]\n",
      "_len + y_len 60 1\n",
      "X.shape[0] >= X_y_len 672 61\n",
      "X.shape[0] 672\n",
      "X[random_start : random_start + X_len] X[33 : 93]\n",
      "y[random_start : random_start + X_y_len] y[33 : 94]\n",
      "_len + y_len 60 1\n",
      "X.shape[0] >= X_y_len 672 61\n",
      "X.shape[0] 672\n",
      "X[random_start : random_start + X_len] X[202 : 262]\n",
      "y[random_start : random_start + X_y_len] y[202 : 263]\n",
      "_len + y_len 60 1\n",
      "X.shape[0] >= X_y_len 672 61\n",
      "X.shape[0] 672\n",
      "X[random_start : random_start + X_len] X[102 : 162]\n",
      "y[random_start : random_start + X_y_len] y[102 : 163]\n",
      "_len + y_len 60 1\n",
      "X.shape[0] >= X_y_len 672 61\n",
      "X.shape[0] 672\n",
      "X[random_start : random_start + X_len] X[235 : 295]\n",
      "y[random_start : random_start + X_y_len] y[235 : 296]\n",
      "_len + y_len 60 1\n",
      "X.shape[0] >= X_y_len 672 61\n",
      "X.shape[0] 672\n",
      "X[random_start : random_start + X_len] X[526 : 586]\n",
      "y[random_start : random_start + X_y_len] y[526 : 587]\n",
      "_len + y_len 60 1\n",
      "X.shape[0] >= X_y_len 672 61\n",
      "X.shape[0] 672\n",
      "X[random_start : random_start + X_len] X[177 : 237]\n",
      "y[random_start : random_start + X_y_len] y[177 : 238]\n",
      "_len + y_len 60 1\n",
      "X.shape[0] >= X_y_len 672 61\n",
      "X.shape[0] 672\n",
      "X[random_start : random_start + X_len] X[85 : 145]\n",
      "y[random_start : random_start + X_y_len] y[85 : 146]\n",
      "_len + y_len 60 1\n",
      "X.shape[0] >= X_y_len 672 61\n",
      "X.shape[0] 672\n",
      "X[random_start : random_start + X_len] X[433 : 493]\n",
      "y[random_start : random_start + X_y_len] y[433 : 494]\n",
      "_len + y_len 60 1\n",
      "X.shape[0] >= X_y_len 672 61\n",
      "X.shape[0] 672\n",
      "X[random_start : random_start + X_len] X[146 : 206]\n",
      "y[random_start : random_start + X_y_len] y[146 : 207]\n",
      "_len + y_len 60 1\n",
      "X.shape[0] >= X_y_len 672 61\n",
      "X.shape[0] 672\n",
      "X[random_start : random_start + X_len] X[356 : 416]\n",
      "y[random_start : random_start + X_y_len] y[356 : 417]\n",
      "_len + y_len 60 1\n",
      "X.shape[0] >= X_y_len 672 61\n",
      "X.shape[0] 672\n",
      "X[random_start : random_start + X_len] X[80 : 140]\n",
      "y[random_start : random_start + X_y_len] y[80 : 141]\n",
      "_len + y_len 60 1\n",
      "X.shape[0] >= X_y_len 672 61\n",
      "X.shape[0] 672\n",
      "X[random_start : random_start + X_len] X[128 : 188]\n",
      "y[random_start : random_start + X_y_len] y[128 : 189]\n",
      "_len + y_len 60 1\n",
      "X.shape[0] >= X_y_len 672 61\n",
      "X.shape[0] 672\n",
      "X[random_start : random_start + X_len] X[282 : 342]\n",
      "y[random_start : random_start + X_y_len] y[282 : 343]\n",
      "_len + y_len 60 1\n",
      "X.shape[0] >= X_y_len 672 61\n",
      "X.shape[0] 672\n",
      "X[random_start : random_start + X_len] X[88 : 148]\n",
      "y[random_start : random_start + X_y_len] y[88 : 149]\n",
      "_len + y_len 60 1\n",
      "X.shape[0] >= X_y_len 672 61\n",
      "X.shape[0] 672\n",
      "X[random_start : random_start + X_len] X[472 : 532]\n",
      "y[random_start : random_start + X_y_len] y[472 : 533]\n",
      "_len + y_len 60 1\n",
      "X.shape[0] >= X_y_len 672 61\n",
      "X.shape[0] 672\n",
      "X[random_start : random_start + X_len] X[440 : 500]\n",
      "y[random_start : random_start + X_y_len] y[440 : 501]\n",
      "_len + y_len 60 1\n",
      "X.shape[0] >= X_y_len 672 61\n",
      "X.shape[0] 672\n",
      "X[random_start : random_start + X_len] X[51 : 111]\n",
      "y[random_start : random_start + X_y_len] y[51 : 112]\n",
      "_len + y_len 60 1\n",
      "X.shape[0] >= X_y_len 672 61\n",
      "X.shape[0] 672\n",
      "X[random_start : random_start + X_len] X[247 : 307]\n",
      "y[random_start : random_start + X_y_len] y[247 : 308]\n",
      "_len + y_len 60 1\n",
      "X.shape[0] >= X_y_len 672 61\n",
      "X.shape[0] 672\n",
      "X[random_start : random_start + X_len] X[72 : 132]\n",
      "y[random_start : random_start + X_y_len] y[72 : 133]\n",
      "_len + y_len 60 1\n",
      "X.shape[0] >= X_y_len 672 61\n",
      "X.shape[0] 672\n",
      "X[random_start : random_start + X_len] X[567 : 627]\n",
      "y[random_start : random_start + X_y_len] y[567 : 628]\n",
      "_len + y_len 60 1\n",
      "X.shape[0] >= X_y_len 672 61\n",
      "X.shape[0] 672\n",
      "X[random_start : random_start + X_len] X[355 : 415]\n",
      "y[random_start : random_start + X_y_len] y[355 : 416]\n"
     ]
    },
    {
     "data": {
      "text/plain": [
       "((200, 60, 20), (200, 1), 200, 60, 20)"
      ]
     },
     "execution_count": 77,
     "metadata": {},
     "output_type": "execute_result"
    }
   ],
   "source": [
    "X_train, y_train = get_X_y_2(X_train, y_train, X_len=n_obs, y_len=n_pred, n_sequences=n_seq)\n",
    "X_train.shape, y_train.shape, n_seq, n_obs, n_feat"
   ]
  },
  {
   "cell_type": "markdown",
   "id": "39f2a397-4b64-4358-8355-2a243e990afa",
   "metadata": {
    "tags": []
   },
   "source": [
    "X_val, y_val = get_X_y_2(X_val, y_val, X_len=n_obs, y_len=n_pred, n_sequences=n_seq_val)\n",
    "X_val.shape, y_val.shape, n_seq_val, n_obs, n_feat"
   ]
  },
  {
   "cell_type": "code",
   "execution_count": 78,
   "id": "ec27cfac",
   "metadata": {},
   "outputs": [],
   "source": [
    "# np.ndim(X_train), np.ndim(y_train), np.ndim(X_val), np.ndim(y_val), np.ndim(X_test), np.ndim(y_test)"
   ]
  },
  {
   "cell_type": "code",
   "execution_count": 79,
   "id": "661159e6-4eb3-48cc-b11d-fff40fb81a26",
   "metadata": {
    "tags": []
   },
   "outputs": [],
   "source": [
    "# Alberto train set\n",
    "# 3. Training\n",
    "def train_rnn_model(model, patience=2, epochs=200):\n",
    "    es = EarlyStopping(monitor = 'val_loss',\n",
    "                    patience = patience,\n",
    "                    verbose = 1,\n",
    "                    restore_best_weights = True)\n",
    "    # The fit\n",
    "    history =  model.fit(X_train, y_train, \n",
    "            validation_split=0.1, # Auto split for validation data\n",
    "                ## validation_data = (X_val, y_val), # To be created manually if needed\n",
    "            batch_size = 16,\n",
    "            epochs = epochs,\n",
    "            callbacks = [es],\n",
    "            verbose=1)\n",
    "    return history\n",
    "\n",
    "\n",
    "# print(type(overfit_es), overfit_es)\n",
    "# if overfit_es:\n",
    "#     print(\"early stopping\")\n",
    "#     history = train_rnn_model(patience=overfit_es)\n",
    "# else:\n",
    "# print(\"No early stopping\")\n",
    "# history = train_rnn_model()"
   ]
  },
  {
   "cell_type": "markdown",
   "id": "efe229ed-38be-485e-9314-5a3c04da8847",
   "metadata": {
    "tags": []
   },
   "source": [
    "##### How to split sequences?"
   ]
  },
  {
   "cell_type": "markdown",
   "id": "c49128bf-f5e8-4319-8635-fa1f63c29ceb",
   "metadata": {},
   "source": [
    "\n",
    "\n",
    "- randomly or\n",
    "\n",
    "- manually"
   ]
  },
  {
   "cell_type": "markdown",
   "id": "ad867c99-9dd9-4dc5-9cda-de741bf57ca2",
   "metadata": {
    "tags": []
   },
   "source": [
    "##### **train_rnn_model(model, patience=2, epochs=200):**\n",
    "\n",
    "function to generates an entire dataset of multiple subsamples suitable for RNN, that is, $(X, y)$ of shape:\n",
    "\n",
    "```python\n",
    "X.shape = (n_sequences, length, n_features)\n",
    "y.shape = (n_sequences, )\n",
    "```"
   ]
  },
  {
   "cell_type": "markdown",
   "id": "61ece011-197d-439e-b405-ee2370c9773d",
   "metadata": {
    "tags": []
   },
   "source": [
    "### Model #4 Training"
   ]
  },
  {
   "cell_type": "code",
   "execution_count": 80,
   "id": "3dc24c32-f615-4696-b4e0-01e7d7281ab7",
   "metadata": {
    "tags": []
   },
   "outputs": [],
   "source": [
    "# 3. Training\n",
    "def train_rnn_model(model, patience=20, epochs=200):\n",
    "    \"\"\" function that train a RNN model with hyperparameters:\n",
    "    - patience by default 2 to early stop\n",
    "    - epochs by default 200 to train over several epochs\n",
    "    - valisation data by default (X_val, y_val)=(0, 0) in case of auto split\n",
    "    \"\"\"\n",
    "    es = EarlyStopping(monitor = 'val_loss',\n",
    "                    patience = patience,\n",
    "                    verbose = 0,\n",
    "                    restore_best_weights = True)\n",
    "    # The fit\n",
    "    history =  model.fit(X_train,\n",
    "            y_train, \n",
    "             # Auto split for validation data\n",
    "            # [print(f'validation_data=(X_val, y_val),') if (X_val!=0 or y_val!=0) else print(f'validation_split=0.1,')],\n",
    "            validation_data=(X_val, y_val),\n",
    "            batch_size = 16,\n",
    "            epochs = epochs,\n",
    "            callbacks = [es],\n",
    "            verbose=1)\n",
    "    return history\n",
    "\n",
    "\n",
    "# print(type(overfit_es), overfit_es)\n",
    "# if overfit_es:\n",
    "#     print(\"early stopping\")\n",
    "#     history = train_rnn_model(patience=overfit_es)\n",
    "# else:\n",
    "# print(\"No early stopping\")\n",
    "# history = train_rnn_model()"
   ]
  },
  {
   "cell_type": "code",
   "execution_count": 81,
   "id": "f844bf09",
   "metadata": {},
   "outputs": [
    {
     "data": {
      "text/plain": [
       "(40, 60, 20)"
      ]
     },
     "execution_count": 81,
     "metadata": {},
     "output_type": "execute_result"
    }
   ],
   "source": [
    "X_val.shape"
   ]
  },
  {
   "cell_type": "code",
   "execution_count": 82,
   "id": "3a7bd6eb",
   "metadata": {},
   "outputs": [
    {
     "name": "stdout",
     "output_type": "stream",
     "text": [
      "Model: \"sequential_8\"\n",
      "_________________________________________________________________\n",
      " Layer (type)                Output Shape              Param #   \n",
      "=================================================================\n",
      " lstm_8 (LSTM)               (None, 20)                3280      \n",
      "                                                                 \n",
      " dense_14 (Dense)            (None, 10)                210       \n",
      "                                                                 \n",
      " dense_15 (Dense)            (None, 1)                 11        \n",
      "                                                                 \n",
      "=================================================================\n",
      "Total params: 3,501\n",
      "Trainable params: 3,501\n",
      "Non-trainable params: 0\n",
      "_________________________________________________________________\n"
     ]
    }
   ],
   "source": [
    "# Alberto model #4 test \n",
    "# Normalization layer not necessary as X_train already train\n",
    "normalizer = Normalization()  # Instantiate a \"normalizer\" layer\n",
    "normalizer.adapt(X_train) # \"Fit\" it on the train set\n",
    "# 1. The Architecture\n",
    "\"\"\"   - 3rd model layers architecture (simple -> complex) (less data -> more data) (print(loss) function check lecture)\n",
    "> LSTM\n",
    "\"\"\"\n",
    "rnn_model_4 = Sequential()\n",
    "# rnn_model_4.add(normalizer) # Using the Normalization layer to standardize the datapoints during the forward pass\n",
    "# Input len(train) (input_shape=(?,?))\n",
    "rnn_model_4.add(LSTM(units=20, activation='relu', input_shape=(X_train.shape[1], X_train.shape[2])))  ## , input_shape=(?,?))) without a Normalizer layer\n",
    "# output return sequences = True\n",
    "rnn_model_4.add(Dense(10, activation = 'relu')) ## add 1 or more 'relu' layers\n",
    "# Output 10 only, no more RNN just dropout()\n",
    "# rnn_model_3.add(layers.Dropout(0.3)) ## if RNN model over-fit\n",
    "rnn_model_4.add(Dense(n_pred, activation = 'linear'))\n",
    "#ValueError: Input 0 of layer \"lstm_1\" is incompatible with the layer:\n",
    "#     >>> expected ndim=3, found ndim=2. Full shape received: (None, 20)#\n",
    "# 2. Compiling with 'rmsprop' rather than 'adam' (recommended)\n",
    "optimizer = RMSprop(\n",
    "                learning_rate=0.001,\n",
    "                rho=0.9,\n",
    "                momentum=0.0,\n",
    "                epsilon=1e-07,\n",
    "                centered=False\n",
    "            )\n",
    "rnn_model_4.compile(loss='mse',\n",
    "              optimizer= optimizer, # optimizer='rmsprop'    <- adapt learning rate\n",
    "                 metrics='mape')  # Recommended optimizer for RNNs\n",
    "rnn_model_4.summary()\n",
    "\n"
   ]
  },
  {
   "cell_type": "code",
   "execution_count": 83,
   "id": "e8cd997f",
   "metadata": {},
   "outputs": [
    {
     "name": "stdout",
     "output_type": "stream",
     "text": [
      "Epoch 1/200\n",
      "13/13 [==============================] - 6s 159ms/step - loss: 5716969472.0000 - mape: 99.5064 - val_loss: 18147563520.0000 - val_mape: 98.7144\n",
      "Epoch 2/200\n",
      "13/13 [==============================] - 1s 90ms/step - loss: 4142856960.0000 - mape: 77.4232 - val_loss: 13954816000.0000 - val_mape: 86.3879\n",
      "Epoch 3/200\n",
      "13/13 [==============================] - 1s 85ms/step - loss: 2946388736.0000 - mape: 60.4023 - val_loss: 14262009856.0000 - val_mape: 87.3235\n",
      "Epoch 4/200\n",
      "13/13 [==============================] - 1s 97ms/step - loss: 2742668288.0000 - mape: 59.5244 - val_loss: 12339607552.0000 - val_mape: 81.0917\n",
      "Epoch 5/200\n",
      "13/13 [==============================] - 1s 101ms/step - loss: 1689369600.0000 - mape: 60.0391 - val_loss: 9149872128.0000 - val_mape: 69.1997\n",
      "Epoch 6/200\n",
      "13/13 [==============================] - 1s 89ms/step - loss: 1538672768.0000 - mape: 59.7552 - val_loss: 10018846720.0000 - val_mape: 72.7777\n",
      "Epoch 7/200\n",
      "13/13 [==============================] - 1s 87ms/step - loss: 2550003200.0000 - mape: 92.4066 - val_loss: 2815456768.0000 - val_mape: 35.0564\n",
      "Epoch 8/200\n",
      "13/13 [==============================] - 1s 87ms/step - loss: 5978347520.0000 - mape: 155.1450 - val_loss: 4009866752.0000 - val_mape: 43.4089\n",
      "Epoch 9/200\n",
      "13/13 [==============================] - 1s 101ms/step - loss: 3546260480.0000 - mape: 90.2332 - val_loss: 12742950912.0000 - val_mape: 82.4225\n",
      "Epoch 10/200\n",
      "13/13 [==============================] - 1s 83ms/step - loss: 1838069888.0000 - mape: 54.3139 - val_loss: 9075938304.0000 - val_mape: 69.1584\n"
     ]
    },
    {
     "data": {
      "image/png": "[encoded data removed]",
      "text/plain": [
       "<Figure size 432x288 with 1 Axes>"
      ]
     },
     "metadata": {
      "needs_background": "light"
     },
     "output_type": "display_data"
    }
   ],
   "source": [
    "# 3. Training\n",
    "history = train_rnn_model(model=rnn_model_4, epochs=200, patience=3)\n",
    "plt.plot(history.history['mape'])\n",
    "plt.plot(history.history['val_mape'])\n",
    "plt.show();\n",
    "\n",
    "# 4. Evaluating\n",
    "# The prediction (one per sequence/city)\n",
    "# y_pred = rnn_model.predict(X_test) \n",
    "# print(y_pred.shape)\n",
    "# Distribution of the predictions\n",
    "# pd.DataFrame(y_pred).mean().sort_values(ascending=False)"
   ]
  },
  {
   "cell_type": "markdown",
   "id": "0d5f87f4-a522-43df-9486-ac6e4930ae60",
   "metadata": {},
   "source": [
    "# Alberto model #4 End Of the Road..."
   ]
  },
  {
   "cell_type": "code",
   "execution_count": 84,
   "id": "8884eb78",
   "metadata": {
    "tags": []
   },
   "outputs": [],
   "source": [
    "# 3. Training\n",
    "def train_rnn_model(model, patience=20, epochs=200):\n",
    "    es = EarlyStopping(monitor = 'val_loss',\n",
    "                    patience = patience,\n",
    "                    verbose = 0,\n",
    "                    restore_best_weights = True)\n",
    "    # The fit\n",
    "    history =  model.fit(X_train,\n",
    "            y_train, \n",
    "            validation_split=0.1, # Auto split for validation data\n",
    "                ## validation_data = (X_val, y_val), # To be created manually if needed\n",
    "            batch_size = 16,\n",
    "            epochs = epochs,\n",
    "            callbacks = [es],\n",
    "            verbose=1)\n",
    "    return history\n",
    "\n",
    "\n",
    "# print(type(overfit_es), overfit_es)\n",
    "# if overfit_es:\n",
    "#     print(\"early stopping\")\n",
    "#     history = train_rnn_model(patience=overfit_es)\n",
    "# else:\n",
    "# print(\"No early stopping\")\n",
    "# history = train_rnn_model()"
   ]
  },
  {
   "cell_type": "code",
   "execution_count": 85,
   "id": "ce50f5c4-faa0-4355-a1fd-a28b28062623",
   "metadata": {},
   "outputs": [],
   "source": [
    "# 0. The Normalization Layer\n",
    "# normalizer = Normalization()  # Instantiate a \"normalizer\" layer\n",
    "# normalizer.adapt(X_train) # \"Fit\" it on the train set"
   ]
  },
  {
   "cell_type": "markdown",
   "id": "cd1a652e-f059-4adf-bf05-62b7120a24d2",
   "metadata": {
    "tags": []
   },
   "source": [
    "### RNN model #3 architecture "
   ]
  },
  {
   "cell_type": "code",
   "execution_count": 86,
   "id": "50d57380-7866-4ec5-8e40-b86653234646",
   "metadata": {},
   "outputs": [],
   "source": [
    "# 1. The Architecture\n",
    "\"\"\"   - 3rd model layers architecture (simple -> complex) (less data -> more data) (print(loss) function check lecture)\n",
    "> LSTM\n",
    "\"\"\"\n",
    "rnn_model_3 = Sequential()\n",
    "rnn_model_3.add(normalizer) # Using the Normalization layer to standardize the datapoints during the forward pass\n",
    "# Input len(train) (input_shape=(?,?))\n",
    "rnn_model_3.add(LSTM(units=30, activation='tanh'))  ## , input_shape=(?,?))) without a Normalizer layer\n",
    "# output return sequences = True\n",
    "rnn_model_3.add(Dense(10, activation = 'relu')) ## add 1 or more 'relu' layers\n",
    "# Output 10 only, no more RNN just dropout()\n",
    "# rnn_model_3.add(layers.Dropout(0.3)) ## if RNN model over-fit\n",
    "rnn_model_3.add(Dense(n_pred, activation = 'linear'))"
   ]
  },
  {
   "cell_type": "markdown",
   "id": "1e901218-eb1c-4d85-b40e-9beda6c3c548",
   "metadata": {
    "jp-MarkdownHeadingCollapsed": true,
    "tags": []
   },
   "source": [
    "### Model #1 evaluating"
   ]
  },
  {
   "cell_type": "code",
   "execution_count": 87,
   "id": "db1267f1-8a86-4f8b-82f5-01478bc0d350",
   "metadata": {
    "tags": []
   },
   "outputs": [
    {
     "name": "stdout",
     "output_type": "stream",
     "text": [
      "(20, 1)\n"
     ]
    },
    {
     "data": {
      "text/plain": [
       "0    55163.554688\n",
       "dtype: float32"
      ]
     },
     "execution_count": 87,
     "metadata": {},
     "output_type": "execute_result"
    }
   ],
   "source": [
    "# 4. Evaluating\n",
    "# The prediction (one per sequence/city)\n",
    "y_pred = rnn_model_4.predict(X_test) \n",
    "print(y_pred.shape)\n",
    "# Distribution of the predictions\n",
    "pd.DataFrame(y_pred).mean().sort_values(ascending=False)"
   ]
  },
  {
   "cell_type": "markdown",
   "id": "06c615d0-d83c-4b7d-b076-b914179fb0ac",
   "metadata": {
    "tags": []
   },
   "source": [
    "### Time Series Forecasting with model #1"
   ]
  },
  {
   "cell_type": "markdown",
   "id": "e8cbe63f-114d-4717-a404-0aa7b96de1b9",
   "metadata": {
    "tags": []
   },
   "source": [
    "### Compile model #3 with 'rmsprop'"
   ]
  },
  {
   "cell_type": "code",
   "execution_count": 88,
   "id": "9524eb0a-0117-4006-af85-9f8235e96cd1",
   "metadata": {},
   "outputs": [
    {
     "name": "stdout",
     "output_type": "stream",
     "text": [
      "Model: \"sequential_9\"\n",
      "_________________________________________________________________\n",
      " Layer (type)                Output Shape              Param #   \n",
      "=================================================================\n",
      " normalization_5 (Normalizat  (None, None, 20)         41        \n",
      " ion)                                                            \n",
      "                                                                 \n",
      " lstm_9 (LSTM)               (None, 30)                6120      \n",
      "                                                                 \n",
      " dense_16 (Dense)            (None, 10)                310       \n",
      "                                                                 \n",
      " dense_17 (Dense)            (None, 1)                 11        \n",
      "                                                                 \n",
      "=================================================================\n",
      "Total params: 6,482\n",
      "Trainable params: 6,441\n",
      "Non-trainable params: 41\n",
      "_________________________________________________________________\n"
     ]
    }
   ],
   "source": [
    "# 2. Compiling with 'rmsprop' rather than 'adam' (recommended)\n",
    "optimizer = RMSprop(\n",
    "                learning_rate=0.001,\n",
    "                rho=0.9,\n",
    "                momentum=0.0,\n",
    "                epsilon=1e-07,\n",
    "                centered=False\n",
    "            )\n",
    "rnn_model_3.compile(loss='mse',\n",
    "              optimizer= optimizer, # optimizer='rmsprop'    <- adapt learning rate\n",
    "                 metrics='mape')  # Recommended optimizer for RNNs\n",
    "rnn_model_3.summary()"
   ]
  },
  {
   "cell_type": "code",
   "execution_count": 89,
   "id": "8a685f57-01a6-4405-8b38-0cc3c7fa5489",
   "metadata": {},
   "outputs": [
    {
     "name": "stdout",
     "output_type": "stream",
     "text": [
      "Model: \"sequential_8\"\n",
      "_________________________________________________________________\n",
      " Layer (type)                Output Shape              Param #   \n",
      "=================================================================\n",
      " lstm_8 (LSTM)               (None, 20)                3280      \n",
      "                                                                 \n",
      " dense_14 (Dense)            (None, 10)                210       \n",
      "                                                                 \n",
      " dense_15 (Dense)            (None, 1)                 11        \n",
      "                                                                 \n",
      "=================================================================\n",
      "Total params: 3,501\n",
      "Trainable params: 3,501\n",
      "Non-trainable params: 0\n",
      "_________________________________________________________________\n"
     ]
    }
   ],
   "source": [
    "rnn_model_4.summary()"
   ]
  },
  {
   "cell_type": "markdown",
   "id": "739df8e1-5a54-4634-a074-e644a6a796a4",
   "metadata": {
    "tags": []
   },
   "source": [
    "### Train model #2"
   ]
  },
  {
   "cell_type": "code",
   "execution_count": 90,
   "id": "571254c8",
   "metadata": {},
   "outputs": [
    {
     "name": "stdout",
     "output_type": "stream",
     "text": [
      "Epoch 1/200\n",
      "12/12 [==============================] - 9s 225ms/step - loss: 5849038848.0000 - mape: 99.9996 - val_loss: 4782161920.0000 - val_mape: 99.9993\n",
      "Epoch 2/200\n",
      "12/12 [==============================] - 1s 90ms/step - loss: 5848934912.0000 - mape: 99.9987 - val_loss: 4782081536.0000 - val_mape: 99.9985\n",
      "Epoch 3/200\n",
      "12/12 [==============================] - 1s 88ms/step - loss: 5848840704.0000 - mape: 99.9978 - val_loss: 4782003712.0000 - val_mape: 99.9977\n",
      "Epoch 4/200\n",
      "12/12 [==============================] - 1s 77ms/step - loss: 5848742912.0000 - mape: 99.9969 - val_loss: 4781923328.0000 - val_mape: 99.9969\n",
      "Epoch 5/200\n",
      "12/12 [==============================] - 1s 95ms/step - loss: 5848645632.0000 - mape: 99.9960 - val_loss: 4781848064.0000 - val_mape: 99.9958\n",
      "Epoch 6/200\n",
      "12/12 [==============================] - 1s 81ms/step - loss: 5848547840.0000 - mape: 99.9947 - val_loss: 4781759488.0000 - val_mape: 99.9943\n",
      "Epoch 7/200\n",
      "12/12 [==============================] - 1s 87ms/step - loss: 5848437248.0000 - mape: 99.9931 - val_loss: 4781659648.0000 - val_mape: 99.9924\n",
      "Epoch 8/200\n",
      "12/12 [==============================] - 1s 88ms/step - loss: 5848318976.0000 - mape: 99.9913 - val_loss: 4781552640.0000 - val_mape: 99.9905\n",
      "Epoch 9/200\n",
      "12/12 [==============================] - 1s 95ms/step - loss: 5848194048.0000 - mape: 99.9896 - val_loss: 4781449216.0000 - val_mape: 99.9886\n",
      "Epoch 10/200\n",
      "12/12 [==============================] - 1s 87ms/step - loss: 5848062976.0000 - mape: 99.9878 - val_loss: 4781307392.0000 - val_mape: 99.9864\n",
      "Epoch 11/200\n",
      "12/12 [==============================] - 1s 93ms/step - loss: 5847880192.0000 - mape: 99.9855 - val_loss: 4781154304.0000 - val_mape: 99.9838\n",
      "Epoch 12/200\n",
      "12/12 [==============================] - 1s 84ms/step - loss: 5847694848.0000 - mape: 99.9829 - val_loss: 4780967936.0000 - val_mape: 99.9797\n",
      "Epoch 13/200\n",
      "12/12 [==============================] - 1s 92ms/step - loss: 5847491584.0000 - mape: 99.9794 - val_loss: 4780731392.0000 - val_mape: 99.9728\n",
      "Epoch 14/200\n",
      "12/12 [==============================] - 1s 79ms/step - loss: 5847290368.0000 - mape: 99.9755 - val_loss: 4780551168.0000 - val_mape: 99.9685\n",
      "Epoch 15/200\n",
      "12/12 [==============================] - 1s 70ms/step - loss: 5847084032.0000 - mape: 99.9685 - val_loss: 4780368384.0000 - val_mape: 99.9639\n",
      "Epoch 16/200\n",
      "12/12 [==============================] - 1s 101ms/step - loss: 5846872576.0000 - mape: 99.9633 - val_loss: 4780186624.0000 - val_mape: 99.9602\n",
      "Epoch 17/200\n",
      "12/12 [==============================] - 1s 78ms/step - loss: 5846658560.0000 - mape: 99.9586 - val_loss: 4779989504.0000 - val_mape: 99.9565\n",
      "Epoch 18/200\n",
      "12/12 [==============================] - 1s 83ms/step - loss: 5846437888.0000 - mape: 99.9541 - val_loss: 4779797504.0000 - val_mape: 99.9527\n",
      "Epoch 19/200\n",
      "12/12 [==============================] - 1s 87ms/step - loss: 5846217728.0000 - mape: 99.9500 - val_loss: 4779603456.0000 - val_mape: 99.9489\n",
      "Epoch 20/200\n",
      "12/12 [==============================] - 1s 77ms/step - loss: 5845984768.0000 - mape: 99.9457 - val_loss: 4779403264.0000 - val_mape: 99.9452\n",
      "Epoch 21/200\n",
      "12/12 [==============================] - 1s 77ms/step - loss: 5845764096.0000 - mape: 99.9418 - val_loss: 4779207680.0000 - val_mape: 99.9413\n",
      "Epoch 22/200\n",
      "12/12 [==============================] - 1s 72ms/step - loss: 5845538816.0000 - mape: 99.9373 - val_loss: 4779013120.0000 - val_mape: 99.9375\n",
      "Epoch 23/200\n",
      "12/12 [==============================] - 1s 86ms/step - loss: 5845313024.0000 - mape: 99.9335 - val_loss: 4778802688.0000 - val_mape: 99.9335\n",
      "Epoch 24/200\n",
      "12/12 [==============================] - 1s 85ms/step - loss: 5845074944.0000 - mape: 99.9290 - val_loss: 4778593792.0000 - val_mape: 99.9294\n",
      "Epoch 25/200\n",
      "12/12 [==============================] - 1s 77ms/step - loss: 5844834304.0000 - mape: 99.9247 - val_loss: 4778379264.0000 - val_mape: 99.9252\n",
      "Epoch 26/200\n",
      "12/12 [==============================] - 1s 92ms/step - loss: 5844587008.0000 - mape: 99.9206 - val_loss: 4778162176.0000 - val_mape: 99.9210\n",
      "Epoch 27/200\n",
      "12/12 [==============================] - 1s 78ms/step - loss: 5844335616.0000 - mape: 99.9162 - val_loss: 4777931776.0000 - val_mape: 99.9166\n",
      "Epoch 28/200\n",
      "12/12 [==============================] - 1s 76ms/step - loss: 5844070912.0000 - mape: 99.9116 - val_loss: 4777702400.0000 - val_mape: 99.9122\n",
      "Epoch 29/200\n",
      "12/12 [==============================] - 1s 81ms/step - loss: 5843811328.0000 - mape: 99.9069 - val_loss: 4777470976.0000 - val_mape: 99.9077\n",
      "Epoch 30/200\n",
      "12/12 [==============================] - 1s 74ms/step - loss: 5843545088.0000 - mape: 99.9021 - val_loss: 4777225728.0000 - val_mape: 99.9029\n",
      "Epoch 31/200\n",
      "12/12 [==============================] - 1s 82ms/step - loss: 5843262976.0000 - mape: 99.8975 - val_loss: 4776974336.0000 - val_mape: 99.8981\n",
      "Epoch 32/200\n",
      "12/12 [==============================] - 1s 78ms/step - loss: 5842978304.0000 - mape: 99.8923 - val_loss: 4776729600.0000 - val_mape: 99.8933\n",
      "Epoch 33/200\n",
      "12/12 [==============================] - 1s 82ms/step - loss: 5842695168.0000 - mape: 99.8873 - val_loss: 4776465408.0000 - val_mape: 99.8882\n",
      "Epoch 34/200\n",
      "12/12 [==============================] - 1s 81ms/step - loss: 5842397696.0000 - mape: 99.8820 - val_loss: 4776210432.0000 - val_mape: 99.8833\n",
      "Epoch 35/200\n",
      "12/12 [==============================] - 1s 79ms/step - loss: 5842101248.0000 - mape: 99.8770 - val_loss: 4775947264.0000 - val_mape: 99.8782\n",
      "Epoch 36/200\n",
      "12/12 [==============================] - 1s 81ms/step - loss: 5841800192.0000 - mape: 99.8710 - val_loss: 4775678464.0000 - val_mape: 99.8730\n",
      "Epoch 37/200\n",
      "12/12 [==============================] - 1s 78ms/step - loss: 5841492480.0000 - mape: 99.8657 - val_loss: 4775404544.0000 - val_mape: 99.8677\n",
      "Epoch 38/200\n",
      "12/12 [==============================] - 1s 85ms/step - loss: 5841174016.0000 - mape: 99.8607 - val_loss: 4775115776.0000 - val_mape: 99.8621\n",
      "Epoch 39/200\n",
      "12/12 [==============================] - 1s 82ms/step - loss: 5840846336.0000 - mape: 99.8543 - val_loss: 4774825984.0000 - val_mape: 99.8566\n",
      "Epoch 40/200\n",
      "12/12 [==============================] - 1s 85ms/step - loss: 5840511488.0000 - mape: 99.8489 - val_loss: 4774521344.0000 - val_mape: 99.8507\n",
      "Epoch 41/200\n",
      "12/12 [==============================] - 1s 83ms/step - loss: 5840170496.0000 - mape: 99.8424 - val_loss: 4774236160.0000 - val_mape: 99.8451\n",
      "Epoch 42/200\n",
      "12/12 [==============================] - 1s 88ms/step - loss: 5839838720.0000 - mape: 99.8370 - val_loss: 4773933056.0000 - val_mape: 99.8393\n",
      "Epoch 43/200\n",
      "12/12 [==============================] - 1s 89ms/step - loss: 5839492608.0000 - mape: 99.8309 - val_loss: 4773626368.0000 - val_mape: 99.8334\n",
      "Epoch 44/200\n",
      "12/12 [==============================] - 1s 106ms/step - loss: 5839137280.0000 - mape: 99.8248 - val_loss: 4773300224.0000 - val_mape: 99.8270\n",
      "Epoch 45/200\n",
      "12/12 [==============================] - 1s 85ms/step - loss: 5838772224.0000 - mape: 99.8178 - val_loss: 4772986880.0000 - val_mape: 99.8210\n",
      "Epoch 46/200\n",
      "12/12 [==============================] - 1s 108ms/step - loss: 5838409216.0000 - mape: 99.8117 - val_loss: 4772660224.0000 - val_mape: 99.8147\n",
      "Epoch 47/200\n",
      "12/12 [==============================] - 1s 87ms/step - loss: 5838036480.0000 - mape: 99.8052 - val_loss: 4772331520.0000 - val_mape: 99.8083\n",
      "Epoch 48/200\n",
      "12/12 [==============================] - 1s 83ms/step - loss: 5837662208.0000 - mape: 99.7981 - val_loss: 4771992064.0000 - val_mape: 99.8018\n",
      "Epoch 49/200\n",
      "12/12 [==============================] - 1s 104ms/step - loss: 5837271552.0000 - mape: 99.7915 - val_loss: 4771642880.0000 - val_mape: 99.7950\n",
      "Epoch 50/200\n",
      "12/12 [==============================] - 1s 96ms/step - loss: 5836876800.0000 - mape: 99.7848 - val_loss: 4771304960.0000 - val_mape: 99.7885\n",
      "Epoch 51/200\n",
      "12/12 [==============================] - 1s 83ms/step - loss: 5836485120.0000 - mape: 99.7778 - val_loss: 4770952192.0000 - val_mape: 99.7817\n",
      "Epoch 52/200\n",
      "12/12 [==============================] - 1s 78ms/step - loss: 5836081152.0000 - mape: 99.7703 - val_loss: 4770593792.0000 - val_mape: 99.7747\n",
      "Epoch 53/200\n",
      "12/12 [==============================] - 1s 86ms/step - loss: 5835675136.0000 - mape: 99.7629 - val_loss: 4770239488.0000 - val_mape: 99.7679\n",
      "Epoch 54/200\n",
      "12/12 [==============================] - 1s 99ms/step - loss: 5835262976.0000 - mape: 99.7560 - val_loss: 4769873920.0000 - val_mape: 99.7608\n",
      "Epoch 55/200\n",
      "12/12 [==============================] - 1s 90ms/step - loss: 5834849280.0000 - mape: 99.7489 - val_loss: 4769503744.0000 - val_mape: 99.7536\n",
      "Epoch 56/200\n",
      "12/12 [==============================] - 1s 75ms/step - loss: 5834423808.0000 - mape: 99.7412 - val_loss: 4769120256.0000 - val_mape: 99.7462\n",
      "Epoch 57/200\n",
      "12/12 [==============================] - 1s 91ms/step - loss: 5833986560.0000 - mape: 99.7334 - val_loss: 4768735744.0000 - val_mape: 99.7388\n",
      "Epoch 58/200\n",
      "12/12 [==============================] - 2s 166ms/step - loss: 5833546240.0000 - mape: 99.7259 - val_loss: 4768342528.0000 - val_mape: 99.7312\n",
      "Epoch 59/200\n",
      "12/12 [==============================] - 2s 123ms/step - loss: 5833102848.0000 - mape: 99.7178 - val_loss: 4767955968.0000 - val_mape: 99.7237\n",
      "Epoch 60/200\n",
      "12/12 [==============================] - 1s 80ms/step - loss: 5832659456.0000 - mape: 99.7102 - val_loss: 4767564800.0000 - val_mape: 99.7162\n",
      "Epoch 61/200\n",
      "12/12 [==============================] - 1s 77ms/step - loss: 5832209920.0000 - mape: 99.7024 - val_loss: 4767167488.0000 - val_mape: 99.7085\n",
      "Epoch 62/200\n",
      "12/12 [==============================] - 1s 90ms/step - loss: 5831752704.0000 - mape: 99.6937 - val_loss: 4766749184.0000 - val_mape: 99.7004\n",
      "Epoch 63/200\n",
      "12/12 [==============================] - 1s 96ms/step - loss: 5831272448.0000 - mape: 99.6862 - val_loss: 4766330880.0000 - val_mape: 99.6923\n",
      "Epoch 64/200\n",
      "12/12 [==============================] - 2s 166ms/step - loss: 5830797824.0000 - mape: 99.6771 - val_loss: 4765917696.0000 - val_mape: 99.6843\n",
      "Epoch 65/200\n",
      "12/12 [==============================] - 2s 138ms/step - loss: 5830321664.0000 - mape: 99.6694 - val_loss: 4765485568.0000 - val_mape: 99.6759\n",
      "Epoch 66/200\n",
      "12/12 [==============================] - 1s 99ms/step - loss: 5829833728.0000 - mape: 99.6605 - val_loss: 4765058048.0000 - val_mape: 99.6676\n",
      "Epoch 67/200\n",
      "12/12 [==============================] - 2s 155ms/step - loss: 5829347328.0000 - mape: 99.6510 - val_loss: 4764630016.0000 - val_mape: 99.6594\n",
      "Epoch 68/200\n",
      "12/12 [==============================] - 2s 131ms/step - loss: 5828850688.0000 - mape: 99.6430 - val_loss: 4764191232.0000 - val_mape: 99.6509\n",
      "Epoch 69/200\n",
      "12/12 [==============================] - 1s 124ms/step - loss: 5828349952.0000 - mape: 99.6346 - val_loss: 4763745792.0000 - val_mape: 99.6423\n",
      "Epoch 70/200\n",
      "12/12 [==============================] - 1s 118ms/step - loss: 5827837440.0000 - mape: 99.6258 - val_loss: 4763293184.0000 - val_mape: 99.6335\n",
      "Epoch 71/200\n",
      "12/12 [==============================] - 1s 110ms/step - loss: 5827322368.0000 - mape: 99.6165 - val_loss: 4762835968.0000 - val_mape: 99.6246\n",
      "Epoch 72/200\n",
      "12/12 [==============================] - 2s 127ms/step - loss: 5826806272.0000 - mape: 99.6062 - val_loss: 4762387456.0000 - val_mape: 99.6160\n",
      "Epoch 73/200\n",
      "12/12 [==============================] - 1s 103ms/step - loss: 5826287104.0000 - mape: 99.5973 - val_loss: 4761903104.0000 - val_mape: 99.6066\n",
      "Epoch 74/200\n",
      "12/12 [==============================] - 1s 95ms/step - loss: 5825745408.0000 - mape: 99.5876 - val_loss: 4761446400.0000 - val_mape: 99.5977\n",
      "Epoch 75/200\n",
      "12/12 [==============================] - 1s 87ms/step - loss: 5825211904.0000 - mape: 99.5791 - val_loss: 4760954368.0000 - val_mape: 99.5882\n",
      "Epoch 76/200\n",
      "12/12 [==============================] - 1s 81ms/step - loss: 5824665088.0000 - mape: 99.5685 - val_loss: 4760488960.0000 - val_mape: 99.5792\n",
      "Epoch 77/200\n",
      "12/12 [==============================] - 1s 87ms/step - loss: 5824119296.0000 - mape: 99.5596 - val_loss: 4759991296.0000 - val_mape: 99.5696\n",
      "Epoch 78/200\n",
      "12/12 [==============================] - 1s 87ms/step - loss: 5823559168.0000 - mape: 99.5497 - val_loss: 4759493120.0000 - val_mape: 99.5599\n",
      "Epoch 79/200\n",
      "12/12 [==============================] - 1s 82ms/step - loss: 5822989824.0000 - mape: 99.5397 - val_loss: 4759006720.0000 - val_mape: 99.5505\n",
      "Epoch 80/200\n",
      "12/12 [==============================] - 1s 82ms/step - loss: 5822432768.0000 - mape: 99.5297 - val_loss: 4758499328.0000 - val_mape: 99.5407\n",
      "Epoch 81/200\n",
      "12/12 [==============================] - 1s 85ms/step - loss: 5821850624.0000 - mape: 99.5197 - val_loss: 4757986304.0000 - val_mape: 99.5307\n",
      "Epoch 82/200\n",
      "12/12 [==============================] - 1s 73ms/step - loss: 5821270016.0000 - mape: 99.5088 - val_loss: 4757483520.0000 - val_mape: 99.5210\n",
      "Epoch 83/200\n",
      "12/12 [==============================] - 1s 80ms/step - loss: 5820692480.0000 - mape: 99.4989 - val_loss: 4756972544.0000 - val_mape: 99.5111\n",
      "Epoch 84/200\n",
      "12/12 [==============================] - 1s 78ms/step - loss: 5820100096.0000 - mape: 99.4886 - val_loss: 4756426752.0000 - val_mape: 99.5005\n",
      "Epoch 85/200\n",
      "12/12 [==============================] - 1s 82ms/step - loss: 5819487232.0000 - mape: 99.4781 - val_loss: 4755901440.0000 - val_mape: 99.4904\n",
      "Epoch 86/200\n",
      "12/12 [==============================] - 1s 81ms/step - loss: 5818889728.0000 - mape: 99.4668 - val_loss: 4755375104.0000 - val_mape: 99.4801\n",
      "Epoch 87/200\n",
      "12/12 [==============================] - 1s 107ms/step - loss: 5818286080.0000 - mape: 99.4556 - val_loss: 4754833408.0000 - val_mape: 99.4697\n",
      "Epoch 88/200\n",
      "12/12 [==============================] - 1s 86ms/step - loss: 5817664512.0000 - mape: 99.4454 - val_loss: 4754297856.0000 - val_mape: 99.4593\n",
      "Epoch 89/200\n",
      "12/12 [==============================] - 1s 81ms/step - loss: 5817053696.0000 - mape: 99.4338 - val_loss: 4753742848.0000 - val_mape: 99.4485\n",
      "Epoch 90/200\n",
      "12/12 [==============================] - 1s 81ms/step - loss: 5816422912.0000 - mape: 99.4230 - val_loss: 4753173504.0000 - val_mape: 99.4375\n",
      "Epoch 91/200\n",
      "12/12 [==============================] - 1s 82ms/step - loss: 5815778816.0000 - mape: 99.4114 - val_loss: 4752613376.0000 - val_mape: 99.4266\n",
      "Epoch 92/200\n",
      "12/12 [==============================] - 1s 72ms/step - loss: 5815137280.0000 - mape: 99.4005 - val_loss: 4752045056.0000 - val_mape: 99.4156\n",
      "Epoch 93/200\n",
      "12/12 [==============================] - 1s 78ms/step - loss: 5814490624.0000 - mape: 99.3885 - val_loss: 4751489024.0000 - val_mape: 99.4048\n",
      "Epoch 94/200\n",
      "12/12 [==============================] - 1s 74ms/step - loss: 5813853184.0000 - mape: 99.3777 - val_loss: 4750913536.0000 - val_mape: 99.3937\n",
      "Epoch 95/200\n",
      "12/12 [==============================] - 1s 77ms/step - loss: 5813192704.0000 - mape: 99.3657 - val_loss: 4750329344.0000 - val_mape: 99.3823\n",
      "Epoch 96/200\n",
      "12/12 [==============================] - 1s 74ms/step - loss: 5812527104.0000 - mape: 99.3548 - val_loss: 4749751296.0000 - val_mape: 99.3711\n",
      "Epoch 97/200\n",
      "12/12 [==============================] - 1s 85ms/step - loss: 5811868160.0000 - mape: 99.3419 - val_loss: 4749166592.0000 - val_mape: 99.3598\n",
      "Epoch 98/200\n",
      "12/12 [==============================] - 1s 77ms/step - loss: 5811195392.0000 - mape: 99.3312 - val_loss: 4748583936.0000 - val_mape: 99.3485\n",
      "Epoch 99/200\n",
      "12/12 [==============================] - 1s 83ms/step - loss: 5810524672.0000 - mape: 99.3195 - val_loss: 4747974144.0000 - val_mape: 99.3367\n",
      "Epoch 100/200\n",
      "12/12 [==============================] - 1s 73ms/step - loss: 5809836544.0000 - mape: 99.3070 - val_loss: 4747363840.0000 - val_mape: 99.3248\n",
      "Epoch 101/200\n",
      "12/12 [==============================] - 1s 75ms/step - loss: 5809140736.0000 - mape: 99.2946 - val_loss: 4746742784.0000 - val_mape: 99.3128\n",
      "Epoch 102/200\n",
      "12/12 [==============================] - 1s 91ms/step - loss: 5808427520.0000 - mape: 99.2821 - val_loss: 4746112512.0000 - val_mape: 99.3006\n",
      "Epoch 103/200\n",
      "12/12 [==============================] - 1s 82ms/step - loss: 5807724544.0000 - mape: 99.2687 - val_loss: 4745500160.0000 - val_mape: 99.2887\n",
      "Epoch 104/200\n",
      "12/12 [==============================] - 1s 74ms/step - loss: 5807023104.0000 - mape: 99.2570 - val_loss: 4744901632.0000 - val_mape: 99.2770\n",
      "Epoch 105/200\n",
      "12/12 [==============================] - 1s 75ms/step - loss: 5806320128.0000 - mape: 99.2456 - val_loss: 4744250880.0000 - val_mape: 99.2644\n",
      "Epoch 106/200\n",
      "12/12 [==============================] - 1s 82ms/step - loss: 5805596160.0000 - mape: 99.2311 - val_loss: 4743626240.0000 - val_mape: 99.2523\n",
      "Epoch 107/200\n",
      "12/12 [==============================] - 1s 88ms/step - loss: 5804872704.0000 - mape: 99.2197 - val_loss: 4742964736.0000 - val_mape: 99.2395\n",
      "Epoch 108/200\n",
      "12/12 [==============================] - 1s 100ms/step - loss: 5804126208.0000 - mape: 99.2060 - val_loss: 4742310912.0000 - val_mape: 99.2268\n",
      "Epoch 109/200\n",
      "12/12 [==============================] - 1s 100ms/step - loss: 5803379712.0000 - mape: 99.1934 - val_loss: 4741664256.0000 - val_mape: 99.2142\n",
      "Epoch 110/200\n",
      "12/12 [==============================] - 1s 90ms/step - loss: 5802644992.0000 - mape: 99.1794 - val_loss: 4741024768.0000 - val_mape: 99.2018\n",
      "Epoch 111/200\n",
      "12/12 [==============================] - 1s 84ms/step - loss: 5801906688.0000 - mape: 99.1658 - val_loss: 4740340736.0000 - val_mape: 99.1885\n",
      "Epoch 112/200\n",
      "12/12 [==============================] - 1s 91ms/step - loss: 5801141248.0000 - mape: 99.1520 - val_loss: 4739697664.0000 - val_mape: 99.1760\n",
      "Epoch 113/200\n",
      "12/12 [==============================] - 1s 106ms/step - loss: 5800398848.0000 - mape: 99.1395 - val_loss: 4739036160.0000 - val_mape: 99.1632\n",
      "Epoch 114/200\n",
      "12/12 [==============================] - 1s 101ms/step - loss: 5799629312.0000 - mape: 99.1265 - val_loss: 4738337792.0000 - val_mape: 99.1496\n",
      "Epoch 115/200\n",
      "12/12 [==============================] - 1s 91ms/step - loss: 5798845952.0000 - mape: 99.1122 - val_loss: 4737645568.0000 - val_mape: 99.1362\n",
      "Epoch 116/200\n",
      "12/12 [==============================] - 1s 90ms/step - loss: 5798056448.0000 - mape: 99.0985 - val_loss: 4736969216.0000 - val_mape: 99.1230\n",
      "Epoch 117/200\n",
      "12/12 [==============================] - 1s 86ms/step - loss: 5797276160.0000 - mape: 99.0856 - val_loss: 4736252928.0000 - val_mape: 99.1091\n",
      "Epoch 118/200\n",
      "12/12 [==============================] - 1s 82ms/step - loss: 5796469760.0000 - mape: 99.0706 - val_loss: 4735538176.0000 - val_mape: 99.0952\n",
      "Epoch 119/200\n",
      "12/12 [==============================] - 1s 79ms/step - loss: 5795671552.0000 - mape: 99.0559 - val_loss: 4734860800.0000 - val_mape: 99.0821\n",
      "Epoch 120/200\n",
      "12/12 [==============================] - 1s 92ms/step - loss: 5794884096.0000 - mape: 99.0423 - val_loss: 4734153728.0000 - val_mape: 99.0683\n",
      "Epoch 121/200\n",
      "12/12 [==============================] - 1s 97ms/step - loss: 5794081792.0000 - mape: 99.0271 - val_loss: 4733445120.0000 - val_mape: 99.0545\n",
      "Epoch 122/200\n",
      "12/12 [==============================] - 1s 88ms/step - loss: 5793269760.0000 - mape: 99.0127 - val_loss: 4732731904.0000 - val_mape: 99.0407\n",
      "Epoch 123/200\n",
      "12/12 [==============================] - 1s 80ms/step - loss: 5792455680.0000 - mape: 98.9981 - val_loss: 4732020736.0000 - val_mape: 99.0269\n",
      "Epoch 124/200\n",
      "12/12 [==============================] - 1s 79ms/step - loss: 5791624192.0000 - mape: 98.9853 - val_loss: 4731266048.0000 - val_mape: 99.0122\n",
      "Epoch 125/200\n",
      "12/12 [==============================] - 1s 80ms/step - loss: 5790775296.0000 - mape: 98.9701 - val_loss: 4730525184.0000 - val_mape: 98.9978\n",
      "Epoch 126/200\n",
      "12/12 [==============================] - 1s 90ms/step - loss: 5789938688.0000 - mape: 98.9536 - val_loss: 4729814016.0000 - val_mape: 98.9840\n",
      "Epoch 127/200\n",
      "12/12 [==============================] - 1s 83ms/step - loss: 5789115904.0000 - mape: 98.9397 - val_loss: 4729047040.0000 - val_mape: 98.9690\n",
      "Epoch 128/200\n",
      "12/12 [==============================] - 1s 87ms/step - loss: 5788250112.0000 - mape: 98.9250 - val_loss: 4728324096.0000 - val_mape: 98.9550\n",
      "Epoch 129/200\n",
      "12/12 [==============================] - 1s 86ms/step - loss: 5787409920.0000 - mape: 98.9095 - val_loss: 4727539712.0000 - val_mape: 98.9397\n",
      "Epoch 130/200\n",
      "12/12 [==============================] - 1s 79ms/step - loss: 5786531328.0000 - mape: 98.8949 - val_loss: 4726770688.0000 - val_mape: 98.9248\n",
      "Epoch 131/200\n",
      "12/12 [==============================] - 1s 78ms/step - loss: 5785659392.0000 - mape: 98.8790 - val_loss: 4726037504.0000 - val_mape: 98.9105\n",
      "Epoch 132/200\n",
      "12/12 [==============================] - 1s 81ms/step - loss: 5784814080.0000 - mape: 98.8639 - val_loss: 4725282304.0000 - val_mape: 98.8958\n",
      "Epoch 133/200\n",
      "12/12 [==============================] - 1s 82ms/step - loss: 5783939584.0000 - mape: 98.8478 - val_loss: 4724465664.0000 - val_mape: 98.8799\n",
      "Epoch 134/200\n",
      "12/12 [==============================] - 1s 82ms/step - loss: 5783035904.0000 - mape: 98.8320 - val_loss: 4723703296.0000 - val_mape: 98.8651\n",
      "Epoch 135/200\n",
      "12/12 [==============================] - 1s 80ms/step - loss: 5782163968.0000 - mape: 98.8154 - val_loss: 4722943488.0000 - val_mape: 98.8503\n",
      "Epoch 136/200\n",
      "12/12 [==============================] - 1s 88ms/step - loss: 5781280256.0000 - mape: 98.8008 - val_loss: 4722135552.0000 - val_mape: 98.8345\n",
      "Epoch 137/200\n",
      "12/12 [==============================] - 1s 84ms/step - loss: 5780372992.0000 - mape: 98.7846 - val_loss: 4721370112.0000 - val_mape: 98.8197\n",
      "Epoch 138/200\n",
      "12/12 [==============================] - 1s 88ms/step - loss: 5779476992.0000 - mape: 98.7689 - val_loss: 4720534528.0000 - val_mape: 98.8034\n",
      "Epoch 139/200\n",
      "12/12 [==============================] - 1s 81ms/step - loss: 5778541568.0000 - mape: 98.7524 - val_loss: 4719732736.0000 - val_mape: 98.7878\n",
      "Epoch 140/200\n",
      "12/12 [==============================] - 1s 83ms/step - loss: 5777623552.0000 - mape: 98.7362 - val_loss: 4718944768.0000 - val_mape: 98.7724\n",
      "Epoch 141/200\n",
      "12/12 [==============================] - 1s 97ms/step - loss: 5776716800.0000 - mape: 98.7187 - val_loss: 4718119936.0000 - val_mape: 98.7563\n",
      "Epoch 142/200\n",
      "12/12 [==============================] - 1s 87ms/step - loss: 5775770624.0000 - mape: 98.7031 - val_loss: 4717294592.0000 - val_mape: 98.7403\n",
      "Epoch 143/200\n",
      "12/12 [==============================] - 1s 82ms/step - loss: 5774833664.0000 - mape: 98.6857 - val_loss: 4716464640.0000 - val_mape: 98.7241\n",
      "Epoch 144/200\n",
      "12/12 [==============================] - 1s 82ms/step - loss: 5773891072.0000 - mape: 98.6685 - val_loss: 4715622912.0000 - val_mape: 98.7077\n",
      "Epoch 145/200\n",
      "12/12 [==============================] - 1s 84ms/step - loss: 5772938240.0000 - mape: 98.6519 - val_loss: 4714793472.0000 - val_mape: 98.6915\n",
      "Epoch 146/200\n",
      "12/12 [==============================] - 1s 85ms/step - loss: 5771991552.0000 - mape: 98.6355 - val_loss: 4713960448.0000 - val_mape: 98.6753\n",
      "Epoch 147/200\n",
      "12/12 [==============================] - 1s 92ms/step - loss: 5771025408.0000 - mape: 98.6192 - val_loss: 4713084928.0000 - val_mape: 98.6582\n",
      "Epoch 148/200\n",
      "12/12 [==============================] - 1s 82ms/step - loss: 5770050048.0000 - mape: 98.6009 - val_loss: 4712252416.0000 - val_mape: 98.6420\n",
      "Epoch 149/200\n",
      "12/12 [==============================] - 1s 96ms/step - loss: 5769080832.0000 - mape: 98.5851 - val_loss: 4711396352.0000 - val_mape: 98.6253\n",
      "Epoch 150/200\n",
      "12/12 [==============================] - 1s 103ms/step - loss: 5768114176.0000 - mape: 98.5657 - val_loss: 4710548992.0000 - val_mape: 98.6088\n",
      "Epoch 151/200\n",
      "12/12 [==============================] - 1s 88ms/step - loss: 5767132672.0000 - mape: 98.5488 - val_loss: 4709652992.0000 - val_mape: 98.5913\n",
      "Epoch 152/200\n",
      "12/12 [==============================] - 1s 81ms/step - loss: 5766123008.0000 - mape: 98.5311 - val_loss: 4708776960.0000 - val_mape: 98.5742\n",
      "Epoch 153/200\n",
      "12/12 [==============================] - 1s 81ms/step - loss: 5765135872.0000 - mape: 98.5128 - val_loss: 4707898368.0000 - val_mape: 98.5571\n",
      "Epoch 154/200\n",
      "12/12 [==============================] - 1s 86ms/step - loss: 5764123648.0000 - mape: 98.4955 - val_loss: 4707003392.0000 - val_mape: 98.5396\n",
      "Epoch 155/200\n",
      "12/12 [==============================] - 1s 87ms/step - loss: 5763112960.0000 - mape: 98.4773 - val_loss: 4706114560.0000 - val_mape: 98.5223\n",
      "Epoch 156/200\n",
      "12/12 [==============================] - 1s 89ms/step - loss: 5762091008.0000 - mape: 98.4610 - val_loss: 4705230336.0000 - val_mape: 98.5050\n",
      "Epoch 157/200\n",
      "12/12 [==============================] - 1s 83ms/step - loss: 5761084416.0000 - mape: 98.4427 - val_loss: 4704340480.0000 - val_mape: 98.4876\n",
      "Epoch 158/200\n",
      "12/12 [==============================] - 1s 84ms/step - loss: 5760060416.0000 - mape: 98.4246 - val_loss: 4703432192.0000 - val_mape: 98.4699\n",
      "Epoch 159/200\n",
      "12/12 [==============================] - 1s 99ms/step - loss: 5759029248.0000 - mape: 98.4045 - val_loss: 4702556160.0000 - val_mape: 98.4528\n",
      "Epoch 160/200\n",
      "12/12 [==============================] - 1s 94ms/step - loss: 5758018048.0000 - mape: 98.3884 - val_loss: 4701630976.0000 - val_mape: 98.4348\n",
      "Epoch 161/200\n",
      "12/12 [==============================] - 1s 89ms/step - loss: 5756966400.0000 - mape: 98.3692 - val_loss: 4700675072.0000 - val_mape: 98.4161\n",
      "Epoch 162/200\n",
      "12/12 [==============================] - 1s 79ms/step - loss: 5755893760.0000 - mape: 98.3506 - val_loss: 4699749888.0000 - val_mape: 98.3980\n",
      "Epoch 163/200\n",
      "12/12 [==============================] - 1s 84ms/step - loss: 5754854912.0000 - mape: 98.3307 - val_loss: 4698867200.0000 - val_mape: 98.3808\n",
      "Epoch 164/200\n",
      "12/12 [==============================] - 1s 73ms/step - loss: 5753822208.0000 - mape: 98.3128 - val_loss: 4697922560.0000 - val_mape: 98.3623\n",
      "Epoch 165/200\n",
      "12/12 [==============================] - 1s 90ms/step - loss: 5752750592.0000 - mape: 98.2934 - val_loss: 4697003008.0000 - val_mape: 98.3443\n",
      "Epoch 166/200\n",
      "12/12 [==============================] - 1s 85ms/step - loss: 5751692800.0000 - mape: 98.2744 - val_loss: 4696046592.0000 - val_mape: 98.3257\n",
      "Epoch 167/200\n",
      "12/12 [==============================] - 1s 86ms/step - loss: 5750606848.0000 - mape: 98.2559 - val_loss: 4695122432.0000 - val_mape: 98.3076\n",
      "Epoch 168/200\n",
      "12/12 [==============================] - 1s 88ms/step - loss: 5749547008.0000 - mape: 98.2361 - val_loss: 4694148608.0000 - val_mape: 98.2886\n",
      "Epoch 169/200\n",
      "12/12 [==============================] - 1s 86ms/step - loss: 5748438016.0000 - mape: 98.2158 - val_loss: 4693175808.0000 - val_mape: 98.2696\n",
      "Epoch 170/200\n",
      "12/12 [==============================] - 1s 70ms/step - loss: 5747339264.0000 - mape: 98.1975 - val_loss: 4692224512.0000 - val_mape: 98.2510\n",
      "Epoch 171/200\n",
      "12/12 [==============================] - 1s 82ms/step - loss: 5746251264.0000 - mape: 98.1774 - val_loss: 4691249664.0000 - val_mape: 98.2319\n",
      "Epoch 172/200\n",
      "12/12 [==============================] - 1s 85ms/step - loss: 5745138176.0000 - mape: 98.1574 - val_loss: 4690276352.0000 - val_mape: 98.2129\n",
      "Epoch 173/200\n",
      "12/12 [==============================] - 1s 81ms/step - loss: 5744014336.0000 - mape: 98.1379 - val_loss: 4689277952.0000 - val_mape: 98.1933\n",
      "Epoch 174/200\n",
      "12/12 [==============================] - 1s 91ms/step - loss: 5742886400.0000 - mape: 98.1171 - val_loss: 4688309248.0000 - val_mape: 98.1744\n",
      "Epoch 175/200\n",
      "12/12 [==============================] - 1s 105ms/step - loss: 5741777408.0000 - mape: 98.0984 - val_loss: 4687311360.0000 - val_mape: 98.1549\n",
      "Epoch 176/200\n",
      "12/12 [==============================] - 1s 106ms/step - loss: 5740654080.0000 - mape: 98.0769 - val_loss: 4686345216.0000 - val_mape: 98.1360\n",
      "Epoch 177/200\n",
      "12/12 [==============================] - 1s 96ms/step - loss: 5739535360.0000 - mape: 98.0575 - val_loss: 4685319680.0000 - val_mape: 98.1159\n",
      "Epoch 178/200\n",
      "12/12 [==============================] - 1s 88ms/step - loss: 5738373120.0000 - mape: 98.0368 - val_loss: 4684358144.0000 - val_mape: 98.0971\n",
      "Epoch 179/200\n",
      "12/12 [==============================] - 1s 101ms/step - loss: 5737270272.0000 - mape: 98.0181 - val_loss: 4683342848.0000 - val_mape: 98.0772\n",
      "Epoch 180/200\n",
      "12/12 [==============================] - 1s 103ms/step - loss: 5736109568.0000 - mape: 97.9965 - val_loss: 4682336768.0000 - val_mape: 98.0575\n",
      "Epoch 181/200\n",
      "12/12 [==============================] - 1s 96ms/step - loss: 5734961664.0000 - mape: 97.9764 - val_loss: 4681339904.0000 - val_mape: 98.0379\n",
      "Epoch 182/200\n",
      "12/12 [==============================] - 1s 88ms/step - loss: 5733808640.0000 - mape: 97.9573 - val_loss: 4680282112.0000 - val_mape: 98.0173\n",
      "Epoch 183/200\n",
      "12/12 [==============================] - 1s 84ms/step - loss: 5732613632.0000 - mape: 97.9359 - val_loss: 4679233536.0000 - val_mape: 97.9967\n",
      "Epoch 184/200\n",
      "12/12 [==============================] - 1s 87ms/step - loss: 5731437568.0000 - mape: 97.9125 - val_loss: 4678202880.0000 - val_mape: 97.9765\n",
      "Epoch 185/200\n",
      "12/12 [==============================] - 1s 89ms/step - loss: 5730255360.0000 - mape: 97.8933 - val_loss: 4677178368.0000 - val_mape: 97.9564\n",
      "Epoch 186/200\n",
      "12/12 [==============================] - 1s 108ms/step - loss: 5729086464.0000 - mape: 97.8710 - val_loss: 4676146688.0000 - val_mape: 97.9362\n",
      "Epoch 187/200\n",
      "12/12 [==============================] - 1s 103ms/step - loss: 5727899648.0000 - mape: 97.8506 - val_loss: 4675076608.0000 - val_mape: 97.9153\n",
      "Epoch 188/200\n",
      "12/12 [==============================] - 1s 110ms/step - loss: 5726686720.0000 - mape: 97.8286 - val_loss: 4674025984.0000 - val_mape: 97.8947\n",
      "Epoch 189/200\n",
      "12/12 [==============================] - 1s 92ms/step - loss: 5725489152.0000 - mape: 97.8059 - val_loss: 4672967680.0000 - val_mape: 97.8739\n",
      "Epoch 190/200\n",
      "12/12 [==============================] - 1s 89ms/step - loss: 5724262912.0000 - mape: 97.7872 - val_loss: 4671849984.0000 - val_mape: 97.8520\n",
      "Epoch 191/200\n",
      "12/12 [==============================] - 1s 88ms/step - loss: 5723023360.0000 - mape: 97.7623 - val_loss: 4670804992.0000 - val_mape: 97.8315\n",
      "Epoch 192/200\n",
      "12/12 [==============================] - 1s 85ms/step - loss: 5721821696.0000 - mape: 97.7423 - val_loss: 4669723648.0000 - val_mape: 97.8103\n",
      "Epoch 193/200\n",
      "12/12 [==============================] - 1s 111ms/step - loss: 5720589312.0000 - mape: 97.7209 - val_loss: 4668679168.0000 - val_mape: 97.7898\n",
      "Epoch 194/200\n",
      "12/12 [==============================] - 1s 95ms/step - loss: 5719389184.0000 - mape: 97.6984 - val_loss: 4667601920.0000 - val_mape: 97.7687\n",
      "Epoch 195/200\n",
      "12/12 [==============================] - 1s 87ms/step - loss: 5718152704.0000 - mape: 97.6768 - val_loss: 4666517504.0000 - val_mape: 97.7474\n",
      "Epoch 196/200\n",
      "12/12 [==============================] - 1s 87ms/step - loss: 5716916224.0000 - mape: 97.6530 - val_loss: 4665435136.0000 - val_mape: 97.7261\n",
      "Epoch 197/200\n",
      "12/12 [==============================] - 1s 80ms/step - loss: 5715672576.0000 - mape: 97.6330 - val_loss: 4664320000.0000 - val_mape: 97.7043\n",
      "Epoch 198/200\n",
      "12/12 [==============================] - 1s 84ms/step - loss: 5714404352.0000 - mape: 97.6100 - val_loss: 4663232512.0000 - val_mape: 97.6829\n",
      "Epoch 199/200\n",
      "12/12 [==============================] - 1s 86ms/step - loss: 5713160704.0000 - mape: 97.5861 - val_loss: 4662108160.0000 - val_mape: 97.6608\n",
      "Epoch 200/200\n",
      "12/12 [==============================] - 1s 83ms/step - loss: 5711886336.0000 - mape: 97.5644 - val_loss: 4661007872.0000 - val_mape: 97.6392\n"
     ]
    },
    {
     "data": {
      "image/png": "[encoded data removed]",
      "text/plain": [
       "<Figure size 432x288 with 1 Axes>"
      ]
     },
     "metadata": {
      "needs_background": "light"
     },
     "output_type": "display_data"
    },
    {
     "data": {
      "text/plain": [
       "keras.callbacks.History"
      ]
     },
     "execution_count": 90,
     "metadata": {},
     "output_type": "execute_result"
    }
   ],
   "source": [
    "history = train_rnn_model(rnn_model_3, patience=5, epochs=200)\n",
    "plt.plot(history.history['mape'])\n",
    "plt.plot(history.history['val_mape'])\n",
    "plt.show();\n",
    "type(history)"
   ]
  },
  {
   "cell_type": "code",
   "execution_count": 91,
   "id": "d5d3333e",
   "metadata": {},
   "outputs": [
    {
     "name": "stdout",
     "output_type": "stream",
     "text": [
      "type(overfit_es), overfit_es <class 'list'> [2, 6, 6, 5, 6]\n"
     ]
    },
    {
     "ename": "NameError",
     "evalue": "name 'train_series' is not defined",
     "output_type": "error",
     "traceback": [
      "\u001b[0;31m---------------------------------------------------------------------------\u001b[0m",
      "\u001b[0;31mNameError\u001b[0m                                 Traceback (most recent call last)",
      "\u001b[0;32m/tmp/ipykernel_10039/195786074.py\u001b[0m in \u001b[0;36m<module>\u001b[0;34m\u001b[0m\n\u001b[1;32m      7\u001b[0m \u001b[0;31m# else:\u001b[0m\u001b[0;34m\u001b[0m\u001b[0;34m\u001b[0m\u001b[0;34m\u001b[0m\u001b[0m\n\u001b[1;32m      8\u001b[0m \u001b[0;31m# print(\"No early stopping\")\u001b[0m\u001b[0;34m\u001b[0m\u001b[0;34m\u001b[0m\u001b[0;34m\u001b[0m\u001b[0m\n\u001b[0;32m----> 9\u001b[0;31m \u001b[0;32mfor\u001b[0m \u001b[0mi\u001b[0m \u001b[0;32min\u001b[0m \u001b[0mrange\u001b[0m\u001b[0;34m(\u001b[0m\u001b[0mlen\u001b[0m\u001b[0;34m(\u001b[0m\u001b[0mtrain_series\u001b[0m\u001b[0;34m)\u001b[0m\u001b[0;34m)\u001b[0m\u001b[0;34m:\u001b[0m\u001b[0;34m\u001b[0m\u001b[0;34m\u001b[0m\u001b[0m\n\u001b[0m\u001b[1;32m     10\u001b[0m     \u001b[0mhistory\u001b[0m \u001b[0;34m=\u001b[0m \u001b[0mtrain_rnn_model\u001b[0m\u001b[0;34m(\u001b[0m\u001b[0mmodel\u001b[0m\u001b[0;34m=\u001b[0m\u001b[0mrnn_model_3\u001b[0m\u001b[0;34m,\u001b[0m \u001b[0mepochs\u001b[0m\u001b[0;34m=\u001b[0m\u001b[0mtrain_series\u001b[0m\u001b[0;34m[\u001b[0m\u001b[0mi\u001b[0m\u001b[0;34m]\u001b[0m\u001b[0;34m,\u001b[0m \u001b[0mpatience\u001b[0m\u001b[0;34m=\u001b[0m\u001b[0moverfit_es\u001b[0m\u001b[0;34m[\u001b[0m\u001b[0mi\u001b[0m\u001b[0;34m]\u001b[0m\u001b[0;34m)\u001b[0m\u001b[0;34m\u001b[0m\u001b[0;34m\u001b[0m\u001b[0m\n\u001b[1;32m     11\u001b[0m     \u001b[0mplt\u001b[0m\u001b[0;34m.\u001b[0m\u001b[0mplot\u001b[0m\u001b[0;34m(\u001b[0m\u001b[0mhistory\u001b[0m\u001b[0;34m.\u001b[0m\u001b[0mhistory\u001b[0m\u001b[0;34m[\u001b[0m\u001b[0;34m'mape'\u001b[0m\u001b[0;34m]\u001b[0m\u001b[0;34m)\u001b[0m\u001b[0;34m\u001b[0m\u001b[0;34m\u001b[0m\u001b[0m\n",
      "\u001b[0;31mNameError\u001b[0m: name 'train_series' is not defined"
     ]
    }
   ],
   "source": [
    "### Train model #1n_series = [50, 150, 200, 300, 400]\n",
    "overfit_es =   [2, 6, 6, 5, 6 ]\n",
    "print('type(overfit_es), overfit_es', type(overfit_es), overfit_es)\n",
    "# if overfit_es:\n",
    "#     print(\"early stopping\")\n",
    "#     history = train_rnn_model(patience=overfit_es)\n",
    "# else:\n",
    "# print(\"No early stopping\")\n",
    "for i in range(len(train_series)):\n",
    "    history = train_rnn_model(model=rnn_model_3, epochs=train_series[i], patience=overfit_es[i])\n",
    "    plt.plot(history.history['mape'])\n",
    "    plt.plot(history.history['val_mape'])\n",
    "    plt.show();"
   ]
  },
  {
   "cell_type": "markdown",
   "id": "a1950356",
   "metadata": {
    "tags": []
   },
   "source": [
    "### RNN model #3 architecture "
   ]
  },
  {
   "cell_type": "markdown",
   "id": "2b325a69",
   "metadata": {},
   "source": [
    "#### 🚀 The **LSTM (= Long Short Term Memory)** with their ability to *avoid the vanishing gradient problem*, should be preferred over a SimpleRNN."
   ]
  },
  {
   "cell_type": "code",
   "execution_count": null,
   "id": "a2ad1973",
   "metadata": {},
   "outputs": [],
   "source": [
    "# 1. The Architecture\n",
    "\"\"\"   - 3rd model layers architecture (simple -> complex) (less data -> more data) (print(loss) function check lecture)\n",
    "> LSTM\n",
    "\"\"\"\n",
    "rnn_model_3 = Sequential()\n",
    "rnn_model_3.add(normalizer) # Using the Normalization layer to standardize the datapoints during the forward pass\n",
    "# Input len(train) (input_shape=(?,?))\n",
    "rnn_model_3.add(LSTM(units=30, activation='tanh'))  ## , input_shape=(?,?))) without a Normalizer layer\n",
    "# output return sequences = True\n",
    "rnn_model_3.add(Dense(10, activation = 'relu')) ## add 1 or more 'relu' layers\n",
    "# Output 10 only, no more RNN just dropout()\n",
    "# rnn_model_3.add(layers.Dropout(0.3)) ## if RNN model over-fit\n",
    "rnn_model_3.add(Dense(n_pred, activation = 'linear'))"
   ]
  },
  {
   "cell_type": "markdown",
   "id": "83ae1226",
   "metadata": {
    "tags": []
   },
   "source": [
    "### Compile model #3 with 'rmsprop'"
   ]
  },
  {
   "cell_type": "code",
   "execution_count": null,
   "id": "47f878a5",
   "metadata": {},
   "outputs": [],
   "source": [
    "# 2. Compiling with 'rmsprop' rather than 'adam' (recommended)\n",
    "optimizer = RMSprop(\n",
    "                learning_rate=0.001,\n",
    "                rho=0.9,\n",
    "                momentum=0.0,\n",
    "                epsilon=1e-07,\n",
    "                centered=False\n",
    "            )\n",
    "rnn_model_3.compile(loss='mse',\n",
    "              optimizer= optimizer, # optimizer='rmsprop'    <- adapt learning rate\n",
    "                 metrics='mape')  # Recommended optimizer for RNNs\n",
    "rnn_model_3.summary()"
   ]
  },
  {
   "cell_type": "markdown",
   "id": "0f1470a9",
   "metadata": {
    "tags": []
   },
   "source": [
    "### Train model #2"
   ]
  },
  {
   "cell_type": "markdown",
   "id": "cd1a652e-f059-4adf-bf05-62b7120a24d2",
   "metadata": {
    "tags": []
   },
   "source": [
    "### RNN model #3 architecture "
   ]
  },
  {
   "cell_type": "code",
   "execution_count": null,
   "id": "50d57380-7866-4ec5-8e40-b86653234646",
   "metadata": {},
   "outputs": [],
   "source": [
    "# 1. The Architecture\n",
    "\"\"\"   - 3rd model layers architecture (simple -> complex) (less data -> more data) (print(loss) function check lecture)\n",
    "> LSTM\n",
    "\"\"\"\n",
    "rnn_model_3 = Sequential()\n",
    "rnn_model_3.add(normalizer) # Using the Normalization layer to standardize the datapoints during the forward pass\n",
    "# Input len(train) (input_shape=(?,?))\n",
    "rnn_model_3.add(LSTM(units=30, activation='tanh'))  ## , input_shape=(?,?))) without a Normalizer layer\n",
    "# output return sequences = True\n",
    "rnn_model_3.add(Dense(10, activation = 'relu')) ## add 1 or more 'relu' layers\n",
    "# Output 10 only, no more RNN just dropout()\n",
    "# rnn_model_3.add(layers.Dropout(0.3)) ## if RNN model over-fit\n",
    "rnn_model_3.add(Dense(n_pred, activation = 'linear'))"
   ]
  },
  {
   "cell_type": "markdown",
   "id": "e8cbe63f-114d-4717-a404-0aa7b96de1b9",
   "metadata": {
    "tags": []
   },
   "source": [
    "### Compile model #3 with 'rmsprop'"
   ]
  },
  {
   "cell_type": "code",
   "execution_count": null,
   "id": "9524eb0a-0117-4006-af85-9f8235e96cd1",
   "metadata": {},
   "outputs": [],
   "source": [
    "# 2. Compiling with 'rmsprop' rather than 'adam' (recommended)\n",
    "optimizer = RMSprop(\n",
    "                learning_rate=0.001,\n",
    "                rho=0.9,\n",
    "                momentum=0.0,\n",
    "                epsilon=1e-07,\n",
    "                centered=False\n",
    "            )\n",
    "rnn_model_3.compile(loss='mse',\n",
    "              optimizer= optimizer, # optimizer='rmsprop'    <- adapt learning rate\n",
    "                 metrics='mape')  # Recommended optimizer for RNNs\n",
    "rnn_model_3.summary()"
   ]
  },
  {
   "cell_type": "markdown",
   "id": "fe8cc51a-a8a3-4a61-9c9e-96317f159d50",
   "metadata": {
    "tags": []
   },
   "source": [
    "### Train model #3"
   ]
  },
  {
   "cell_type": "code",
   "execution_count": null,
   "id": "8ecee49a",
   "metadata": {
    "tags": []
   },
   "outputs": [],
   "source": [
    "# 3. Training\n",
    "from typing import overload\n",
    "\n",
    "def train_rnn_model(rnn_model_3, patience=2, epochs=200, (X_val, y_val)=(0, 0)):\n",
    "    es = EarlyStopping(monitor = 'val_loss',\n",
    "                    patience = patience,\n",
    "                    verbose = 0,\n",
    "                    restore_best_weights = True)\n",
    "    # The fit\n",
    "    history =  rnn_model_3.fit(X_train, y_train, \n",
    "            validation_split=0.1, # Auto split for validation data\n",
    "                ## validation_data = (X_val, y_val), # To be created manually if needed\n",
    "            batch_size = 16,\n",
    "            epochs = epochs,\n",
    "            callbacks = [es],\n",
    "            verbose=1)\n",
    "    return history\n",
    "\n",
    "\n",
    "print(type(overfit_es), overfit_es)\n",
    "# if overfit_es:\n",
    "#     print(\"early stopping\")\n",
    "#     history = train_rnn_model(patience=overfit_es)\n",
    "# else:\n",
    "# print(\"No early stopping\")\n",
    "# history = train_rnn_model()"
   ]
  },
  {
   "cell_type": "markdown",
   "id": "739df8e1-5a54-4634-a074-e644a6a796a4",
   "metadata": {
    "tags": []
   },
   "source": [
    "### Train model #2"
   ]
  },
  {
   "cell_type": "code",
   "execution_count": null,
   "id": "5ae6e92e",
   "metadata": {},
   "outputs": [],
   "source": [
    "# min(history.history['mape'])\n",
    "\n",
    "# print(\"adjust early stopping\")\n",
    "# overfit_es = [d[0]+1 for d in enumerate(history.history['mape']) if d[1] == min(history.history['mape'])][0]\n",
    "# overfit_es"
   ]
  },
  {
   "cell_type": "code",
   "execution_count": null,
   "id": "2c43e359-c428-43f9-9369-f0804a5acdac",
   "metadata": {
    "tags": []
   },
   "outputs": [],
   "source": [
    "min(history.history['mape']), max(history.history['mape']), history.history['mape'] # blue line"
   ]
  },
  {
   "cell_type": "code",
   "execution_count": null,
   "id": "b13f6eb0-e734-48c4-a455-49949ea62a75",
   "metadata": {
    "tags": []
   },
   "outputs": [],
   "source": [
    "max(history.history['val_mape']), history.history['val_mape'] # orange line"
   ]
  },
  {
   "cell_type": "markdown",
   "id": "daba3da5-6613-418e-9919-2f7d50e0078e",
   "metadata": {
    "jp-MarkdownHeadingCollapsed": true,
    "tags": []
   },
   "source": [
    "### Model #1 evaluating"
   ]
  },
  {
   "cell_type": "code",
   "execution_count": null,
   "id": "c6ed1ac5-3b8a-4049-abe8-9431de2121c7",
   "metadata": {
    "tags": []
   },
   "outputs": [],
   "source": [
    "# 4. Evaluating\n",
    "# The prediction (one per sequence/city)\n",
    "y_pred = rnn_model.predict(X_test) \n",
    "print(y_pred.shape)\n",
    "# Distribution of the predictions\n",
    "pd.DataFrame(y_pred).mean().sort_values(ascending=False)"
   ]
  },
  {
   "cell_type": "markdown",
   "id": "32232f29-fc87-49fc-9f6f-11dcb25a9f92",
   "metadata": {
    "tags": []
   },
   "source": [
    "### Time Series Forecasting with model #1"
   ]
  },
  {
   "cell_type": "code",
   "execution_count": null,
   "id": "13a68310-d512-4825-a2c4-21cb68e5f687",
   "metadata": {},
   "outputs": [],
   "source": [
    "# Check your code below\n",
    "assert y_pred.shape == (n_seq_test, n_pred)\n",
    "# Distribution of the real values y_train\n",
    "pd.DataFrame(y_train).mean().sort_values(ascending=False)"
   ]
  },
  {
   "cell_type": "code",
   "execution_count": null,
   "id": "2c8cad73-73e8-4211-908a-3789b7a03497",
   "metadata": {},
   "outputs": [],
   "source": [
    "# Distribution of the real values y_train\n",
    "pd.DataFrame(y_train).mean().sort_values(ascending=False)"
   ]
  },
  {
   "cell_type": "code",
   "execution_count": null,
   "id": "d5d3333e",
   "metadata": {},
   "outputs": [],
   "source": [
    "### Train model #1n_series = [50, 150, 200, 300, 400]\n",
    "overfit_es =   [2, 6, 6, 5, 6 ]\n",
    "print('type(overfit_es), overfit_es', type(overfit_es), overfit_es)\n",
    "# if overfit_es:\n",
    "#     print(\"early stopping\")\n",
    "#     history = train_rnn_model(patience=overfit_es)\n",
    "# else:\n",
    "# print(\"No early stopping\")\n",
    "for i in range(len(train_series)):\n",
    "    history = train_rnn_model(model=rnn_model_2, epochs=train_series[i], patience=overfit_es[i])\n",
    "    plt.plot(history.history['mape'])\n",
    "    plt.plot(history.history['val_mape'])\n",
    "    plt.show();"
   ]
  },
  {
   "cell_type": "code",
   "execution_count": null,
   "id": "8f576952-8105-43b3-9d97-39d19277c207",
   "metadata": {
    "tags": []
   },
   "outputs": [],
   "source": []
  },
  {
   "cell_type": "code",
   "execution_count": null,
   "id": "39c6cdfe",
   "metadata": {},
   "outputs": [],
   "source": []
  },
  {
   "cell_type": "code",
   "execution_count": null,
   "id": "7d3557ab-55e0-4ae2-a289-212d608dc237",
   "metadata": {},
   "outputs": [],
   "source": [
    "def train_rnn(X_val=0, y_val=0):\n",
    "    [print(f'validation_data=(X_val, y_val),') if (X_val!=0 or y_val!=0) else print(f'validation_split=0.1,')]\n",
    "    return True\n",
    "\n",
    "train_rnn(),train_rnn((1),(0))\n",
    "    "
   ]
  }
 ],
 "metadata": {
  "kernelspec": {
   "display_name": "Python 3.8.12 64-bit ('shims')",
   "language": "python",
   "name": "python3"
  },
  "language_info": {
   "codemirror_mode": {
    "name": "ipython",
    "version": 3
   },
   "file_extension": ".py",
   "mimetype": "text/x-python",
   "name": "python",
   "nbconvert_exporter": "python",
   "pygments_lexer": "ipython3",
   "version": "3.8.12"
  },
  "toc": {
   "base_numbering": 1,
   "nav_menu": {},
   "number_sections": true,
   "sideBar": true,
   "skip_h1_title": false,
   "title_cell": "Table of Contents",
   "title_sidebar": "Contents",
   "toc_cell": false,
   "toc_position": {},
   "toc_section_display": true,
   "toc_window_display": false
  },
  "vscode": {
   "interpreter": {
    "hash": "e588d92b224e11b16adbbadd39936dea13a6488171770263a646fc57f44563d8"
   }
  }
 },
 "nbformat": 4,
 "nbformat_minor": 5
}
