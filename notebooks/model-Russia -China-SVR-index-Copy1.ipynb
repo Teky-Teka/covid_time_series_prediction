{
 "cells": [
  {
   "cell_type": "code",
   "execution_count": 1,
   "metadata": {},
   "outputs": [],
   "source": [
    "import pandas as pd\n",
    "import numpy as np\n",
    "import itertools\n",
    "import matplotlib.pyplot as plt\n",
    "%matplotlib inline\n",
    "import plotly.express as px\n",
    "import seaborn as sns \n",
    "from statsmodels.graphics.tsaplots import plot_acf, plot_pacf\n",
    "import plotly.graph_objects as go\n",
    "from plotly.subplots import make_subplots"
   ]
  },
  {
   "cell_type": "code",
   "execution_count": 2,
   "metadata": {},
   "outputs": [],
   "source": [
    " #sklearn preproc\n",
    "\n",
    "from sklearn.preprocessing import MinMaxScaler, StandardScaler\n",
    "from sklearn.pipeline import Pipeline, make_pipeline\n",
    "from sklearn.compose import ColumnTransformer, make_column_transformer, make_column_selector\n",
    "from sklearn.impute import SimpleImputer, KNNImputer\n",
    "from sklearn.preprocessing import RobustScaler, OneHotEncoder, OrdinalEncoder\n",
    "from sklearn.metrics import make_scorer\n",
    "from sklearn.model_selection import RandomizedSearchCV\n",
    "from sklearn.svm import SVR\n",
    "from sklearn.model_selection import GridSearchCV, RandomizedSearchCV\n",
    "from sklearn.metrics import mean_absolute_percentage_error\n",
    "\n",
    "import pickle"
   ]
  },
  {
   "cell_type": "code",
   "execution_count": 3,
   "metadata": {},
   "outputs": [],
   "source": [
    "cpountry_list=['Russia','China']\n",
    "countries=[]"
   ]
  },
  {
   "cell_type": "code",
   "execution_count": 4,
   "metadata": {},
   "outputs": [
    {
     "ename": "NameError",
     "evalue": "name 'country_list' is not defined",
     "output_type": "error",
     "traceback": [
      "\u001b[0;31m---------------------------------------------------------------------------\u001b[0m",
      "\u001b[0;31mNameError\u001b[0m                                 Traceback (most recent call last)",
      "\u001b[0;32m/var/folders/hz/t9cq46wj2zl48zr3_0lc0rw80000gn/T/ipykernel_31628/3504527385.py\u001b[0m in \u001b[0;36m<module>\u001b[0;34m\u001b[0m\n\u001b[0;32m----> 1\u001b[0;31m \u001b[0;32mfor\u001b[0m \u001b[0mcountry\u001b[0m \u001b[0;32min\u001b[0m \u001b[0mcountry_list\u001b[0m\u001b[0;34m:\u001b[0m\u001b[0;34m\u001b[0m\u001b[0;34m\u001b[0m\u001b[0m\n\u001b[0m\u001b[1;32m      2\u001b[0m     \u001b[0mpath\u001b[0m\u001b[0;34m=\u001b[0m\u001b[0;34mf'../data/out_csv/index_{country}.csv'\u001b[0m\u001b[0;34m\u001b[0m\u001b[0;34m\u001b[0m\u001b[0m\n\u001b[1;32m      3\u001b[0m     \u001b[0mdf\u001b[0m\u001b[0;34m=\u001b[0m\u001b[0mpd\u001b[0m\u001b[0;34m.\u001b[0m\u001b[0mread_csv\u001b[0m\u001b[0;34m(\u001b[0m\u001b[0mpath\u001b[0m\u001b[0;34m)\u001b[0m\u001b[0;34m\u001b[0m\u001b[0;34m\u001b[0m\u001b[0m\n\u001b[1;32m      4\u001b[0m     \u001b[0mcountries\u001b[0m\u001b[0;34m=\u001b[0m\u001b[0;34m[\u001b[0m\u001b[0;34m{\u001b[0m\u001b[0;34m'name'\u001b[0m\u001b[0;34m:\u001b[0m\u001b[0mcountry\u001b[0m\u001b[0;34m,\u001b[0m\u001b[0;34m'df'\u001b[0m\u001b[0;34m:\u001b[0m\u001b[0mdf\u001b[0m\u001b[0;34m}\u001b[0m\u001b[0;34m]\u001b[0m\u001b[0;34m\u001b[0m\u001b[0;34m\u001b[0m\u001b[0m\n\u001b[1;32m      5\u001b[0m \u001b[0mcountries\u001b[0m\u001b[0;34m[\u001b[0m\u001b[0;36m0\u001b[0m\u001b[0;34m]\u001b[0m\u001b[0;34m[\u001b[0m\u001b[0;34m'name'\u001b[0m\u001b[0;34m]\u001b[0m\u001b[0;34m\u001b[0m\u001b[0;34m\u001b[0m\u001b[0m\n",
      "\u001b[0;31mNameError\u001b[0m: name 'country_list' is not defined"
     ]
    }
   ],
   "source": [
    "for country in country_list:\n",
    "    path=f'../data/out_csv/index_{country}.csv'\n",
    "    df=pd.read_csv(path)\n",
    "    countries=[{'name':country,'df':df}]\n",
    "countries[0]['name']"
   ]
  },
  {
   "cell_type": "code",
   "execution_count": null,
   "metadata": {},
   "outputs": [],
   "source": [
    "path1='/home/sumedha/code/covid_time_series_prediction/covid_time_series_prediction/data/models'"
   ]
  },
  {
   "cell_type": "code",
   "execution_count": null,
   "metadata": {},
   "outputs": [],
   "source": [
    "best_params=[]\n",
    "best_score=[]\n",
    "best_df:{}\n",
    "for country in countries:\n",
    "    df=country['name']\n",
    "    df=country['df']\n",
    "    df=df.set_index('date')\n",
    "    df['day-1']=df['total_deaths'].shift(periods=1)\n",
    "    df['day-2']=df['total_deaths'].shift(periods=2)\n",
    "    df['day-3']=df['total_deaths'].shift(periods=3)\n",
    "    df['day-4']=df['total_deaths'].shift(periods=4)\n",
    "    df['day-5']=df['total_deaths'].shift(periods=5)\n",
    "    df['day-6']=df['total_deaths'].shift(periods=6)\n",
    "    df['day-7']=df['total_deaths'].shift(periods=7)\n",
    "    df['day-8']=df['total_deaths'].shift(periods=8)\n",
    "    df['day-9']=df['total_deaths'].shift(periods=9)\n",
    "    df['day-10']=df['total_deaths'].shift(periods=10)\n",
    "    df = df.iloc[10: , :]\n",
    "    df=df.fillna(0)\n",
    "    X=df.drop(columns=['total_deaths','new_deaths','new_cases'])\n",
    "    y=df['total_deaths']\n",
    "    scaler = MinMaxScaler()\n",
    "    scaler.fit(X)\n",
    "    X=scaler.transform(X)\n",
    "    n = len(X)\n",
    "    X_train = X[0:int(n-50)]\n",
    "    X_test=X[int(n-50):]\n",
    "    y_train=y[0:int(n-50)]\n",
    "    y_test=y[int(n-50):]\n",
    "    \n",
    "    model=SVR()\n",
    "    param={'kernel' : ('poly', 'rbf'),'C' : [5,6],'degree' : [3,8],'coef0' : [0.01,0.5,10]}\n",
    "    grid_search = GridSearchCV(model, param_grid = param, cv = 2, n_jobs = -1, verbose = 2)\n",
    "    grid_search.fit(X_train,y_train)\n",
    "    best=grid_search.best_estimator_\n",
    "    model=best\n",
    "    best_model=model.fit(X_train,y_train)\n",
    "    name=country['name']\n",
    "    with open(f'{path1}/model_{name}.pkl','wb') as f:pickle.dump(best_model, f)\n",
    "    \n",
    "    y_pred=best_model.predict(X_test)\n",
    "    score=mean_absolute_percentage_error(y_test, y_pred)\n",
    "    best_params.append(grid_search.best_params_)\n",
    "    best_score.append(score)\n",
    "    best_df = pd.DataFrame({\n",
    "    'country': f'data_{name}',\n",
    "    'best_params': best_params,\n",
    "    'best_score': best_score\n",
    "})\n",
    "    \n",
    "    "
   ]
  },
  {
   "cell_type": "markdown",
   "metadata": {},
   "source": [
    "## prediction function"
   ]
  },
  {
   "cell_type": "code",
   "execution_count": null,
   "metadata": {},
   "outputs": [],
   "source": []
  }
 ],
 "metadata": {
  "kernelspec": {
   "display_name": "Python 3 (ipykernel)",
   "language": "python",
   "name": "python3"
  },
  "language_info": {
   "codemirror_mode": {
    "name": "ipython",
    "version": 3
   },
   "file_extension": ".py",
   "mimetype": "text/x-python",
   "name": "python",
   "nbconvert_exporter": "python",
   "pygments_lexer": "ipython3",
   "version": "3.8.12"
  },
  "toc": {
   "base_numbering": 1,
   "nav_menu": {},
   "number_sections": true,
   "sideBar": true,
   "skip_h1_title": false,
   "title_cell": "Table of Contents",
   "title_sidebar": "Contents",
   "toc_cell": false,
   "toc_position": {},
   "toc_section_display": true,
   "toc_window_display": false
  }
 },
 "nbformat": 4,
 "nbformat_minor": 4
}
