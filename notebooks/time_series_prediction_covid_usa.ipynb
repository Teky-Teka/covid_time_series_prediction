{
 "cells": [
  {
   "cell_type": "markdown",
   "id": "d6018e32",
   "metadata": {},
   "source": [
    "# Canonical importation"
   ]
  },
  {
   "cell_type": "code",
   "execution_count": null,
   "id": "7d7b35bb",
   "metadata": {},
   "outputs": [],
   "source": [
    "import pandas as pd\n",
    "import tensorflow as tf\n",
    "from tensorflow.keras import models\n",
    "from tensorflow.keras import layers\n",
    "from tensorflow.keras.optimizers import RMSprop\n",
    "from tensorflow.keras import optimizers, metrics\n",
    "from tensorflow.keras.layers.experimental.preprocessing import Normalization\n",
    "from sklearn.preprocessing import MinMaxScaler\n",
    "from tensorflow.keras.layers import SimpleRNN, LSTM, GRU\n",
    "from tensorflow.keras.layers import Masking\n",
    "from tensorflow.keras.models import Sequential"
   ]
  },
  {
   "cell_type": "code",
   "execution_count": null,
   "id": "708b31b5",
   "metadata": {},
   "outputs": [],
   "source": []
  },
  {
   "cell_type": "markdown",
   "id": "a5bdeb59",
   "metadata": {},
   "source": [
    "# Dataset"
   ]
  },
  {
   "cell_type": "code",
   "execution_count": null,
   "id": "fec0057c",
   "metadata": {},
   "outputs": [],
   "source": [
    "!curl -L 'https://raw.githubusercontent.com/OxCGRT/covid-policy-tracker/master/data/timeseries/confirmed_cases.csv' > ../raw_data/confirmed_cases.csv\n"
   ]
  },
  {
   "cell_type": "code",
   "execution_count": null,
   "id": "e4099ec1",
   "metadata": {},
   "outputs": [],
   "source": [
    "df = pd.read_csv('../raw_data/confirmed_cases.csv')\n",
    "df.loc[df['country_code'] == 'usa']\n",
    "df.head"
   ]
  },
  {
   "cell_type": "code",
   "execution_count": null,
   "id": "74bffe50",
   "metadata": {},
   "outputs": [],
   "source": [
    "df.describe()"
   ]
  },
  {
   "cell_type": "code",
   "execution_count": null,
   "id": "10f1b67e",
   "metadata": {},
   "outputs": [],
   "source": [
    "import matplotlib.pyplot as plt\n",
    "%matplotlib inline\n",
    "\n",
    "for col in df.columns:\n",
    "    color=\"orange\" if col == \"pm2.5\" else \"blue\"\n",
    "    df[col].plot(figsize=(17, 2), color=color)\n",
    "    plt.title(col)\n",
    "    plt.show()"
   ]
  },
  {
   "cell_type": "markdown",
   "id": "1f882edd",
   "metadata": {},
   "source": [
    "# Preprocessing"
   ]
  },
  {
   "cell_type": "code",
   "execution_count": null,
   "id": "952f2e6c",
   "metadata": {},
   "outputs": [],
   "source": [
    "# Time Series split\n",
    "len_ = int(0.8*df.shape[0])\n",
    "df_train = df[:len_]\n",
    "df_test = df[len_:]"
   ]
  },
  {
   "cell_type": "code",
   "execution_count": null,
   "id": "b359ddf7",
   "metadata": {},
   "outputs": [],
   "source": [
    "X_train, y_train = get_X_y(df_train, , )\n",
    "X_test, y_test = get_X_y(df_test, , )"
   ]
  },
  {
   "cell_type": "code",
   "execution_count": null,
   "id": "7429949c",
   "metadata": {},
   "outputs": [],
   "source": [
    "assert X_train.shape == (, , )"
   ]
  },
  {
   "cell_type": "code",
   "execution_count": null,
   "id": "bc1179fd",
   "metadata": {},
   "outputs": [],
   "source": [
    "# Scale with MinMaxScaler\n",
    "columns = df.columns\n",
    "\n",
    "scaler = MinMaxScaler()\n",
    "df_train = pd.DataFrame(scaler.fit_transform(df_train), columns=columns)\n",
    "df_test = pd.DataFrame(scaler.transform(df_test), columns=columns)\n",
    "df_train.head()"
   ]
  },
  {
   "cell_type": "code",
   "execution_count": null,
   "id": "a1cbec2a",
   "metadata": {},
   "outputs": [],
   "source": []
  },
  {
   "cell_type": "code",
   "execution_count": null,
   "id": "a6822505",
   "metadata": {},
   "outputs": [],
   "source": [
    "from tensorflow.keras.preprocessing.sequence import pad_sequences\n",
    "\n",
    "X_train_pad = pad_sequences(X_train, value=-1000., dtype=float, padding='post', maxlen=30)\n",
    "y_train_pad = pad_sequences(y_train, value=-1000., dtype=float, padding='post', maxlen=30)\n",
    "\n",
    "X_test_pad = pad_sequences(X_test, value=-1000., dtype=float, padding='post', maxlen=30)\n",
    "y_test_pad = pad_sequences(y_test, value=-1000., dtype=float, padding='post', maxlen=30)\n",
    "\n",
    "X_train_pad.shape"
   ]
  },
  {
   "cell_type": "code",
   "execution_count": null,
   "id": "67fb6e7e",
   "metadata": {},
   "outputs": [],
   "source": [
    "\n",
    "\n"
   ]
  },
  {
   "cell_type": "code",
   "execution_count": null,
   "id": "e7018341",
   "metadata": {},
   "outputs": [],
   "source": [
    "# Give validation set explicitly\n",
    "history = model.fit(X_train_pad, y_train_pad,\n",
    "          validation_data=(X_val, y_val), \n",
    "          batch_size=16,\n",
    "          epochs=100)"
   ]
  },
  {
   "cell_type": "markdown",
   "id": "db1ae9e2",
   "metadata": {},
   "source": [
    "# Initial model"
   ]
  },
  {
   "cell_type": "code",
   "execution_count": null,
   "id": "9946029d",
   "metadata": {},
   "outputs": [],
   "source": [
    "def init_model():\n",
    "    \n",
    "    model = models.Sequential()\n",
    "    model.add(layers.Masking(mask_value=-1000., input_shape=(30,6)))\n",
    "    model.add(layers.LSTM(20, return_sequences=True, activation='tanh'))\n",
    "    model.add(layers.LSTM(10, return_sequences=True, activation='tanh'))\n",
    "    model.add(layers.Dense(5, activation='relu'))\n",
    "    model.add(layers.Dense(1, activation='sigmoid'))\n",
    "    \n",
    "    model.compile(loss='binary_crossentropy', \n",
    "                  optimizer='rmsprop', \n",
    "                  metrics=['accuracy'])\n",
    "    model.compile(loss='binary_crossentropy', \n",
    "                  optimizer=RMSprop(learning_rate=0.0003), \n",
    "                  metrics=['accuracy'])\n",
    "    \n",
    "    \n",
    "    return model\n",
    "\n",
    "init_model().summary()"
   ]
  },
  {
   "cell_type": "code",
   "execution_count": null,
   "id": "00aa27d1",
   "metadata": {},
   "outputs": [],
   "source": [
    "# Evaluate performance returns [loss, metrics]\n",
    "model.evaluate(scaler.transform(X_test), y_test)"
   ]
  },
  {
   "cell_type": "code",
   "execution_count": null,
   "id": "a635e7ac",
   "metadata": {},
   "outputs": [],
   "source": [
    "# First prediction\n",
    "init_model.predict(scaler.transform(X_test))"
   ]
  },
  {
   "cell_type": "code",
   "execution_count": null,
   "id": "6c5c2712",
   "metadata": {},
   "outputs": [],
   "source": []
  },
  {
   "cell_type": "code",
   "execution_count": null,
   "id": "1f651f82",
   "metadata": {},
   "outputs": [],
   "source": [
    "from tensorflow.keras.callbacks import EarlyStopping\n",
    "\n",
    "model = init_model()\n",
    "\n",
    "es = EarlyStopping(monitor='val_loss', mode='min', verbose=1, patience=5, restore_best_weights=True)\n",
    "\n",
    "history = model.fit(X_train_pad, y_train_pad,\n",
    "            validation_split=0.2,\n",
    "            epochs=1000, \n",
    "            batch_size=64,\n",
    "            callbacks=[es], verbose=0)"
   ]
  },
  {
   "cell_type": "code",
   "execution_count": null,
   "id": "cc61fa7f",
   "metadata": {},
   "outputs": [],
   "source": []
  },
  {
   "cell_type": "code",
   "execution_count": null,
   "id": "4229d458",
   "metadata": {},
   "outputs": [],
   "source": [
    "import matplotlib.pyplot as plt\n",
    "plt.plot(history.history['accuracy'])\n",
    "plt.plot(history.history['val_acuracy'])"
   ]
  },
  {
   "cell_type": "code",
   "execution_count": null,
   "id": "e1eee8c4",
   "metadata": {},
   "outputs": [],
   "source": []
  },
  {
   "cell_type": "code",
   "execution_count": null,
   "id": "3c51829e",
   "metadata": {},
   "outputs": [],
   "source": [
    "res = model.evaluate(X_test_pad, y_test_pad, verbose=0)\n",
    "\n",
    "print(f'MAE on the test set : {res[1]:.4f}, or {res[1]/bench_res:.2f} times the benchmark')"
   ]
  },
  {
   "cell_type": "code",
   "execution_count": null,
   "id": "e7867ed1",
   "metadata": {},
   "outputs": [],
   "source": []
  },
  {
   "cell_type": "code",
   "execution_count": null,
   "id": "ec7612e7",
   "metadata": {},
   "outputs": [],
   "source": [
    "plt.figure(figsize=(17,3))\n",
    "for id_plot, id_seq in enumerate(np.random.randint(low=0,high=len(X_test),size=5)):\n",
    "    plt.subplot(1, 5, id_plot+1)\n",
    "    plt.plot(y_test[id_seq], label='truth')\n",
    "    plt.plot(model.predict(X_test_pad)[id_seq], label='pred')\n",
    "    plt.ylim(ymin=0)\n",
    "plt.legend();"
   ]
  },
  {
   "cell_type": "markdown",
   "id": "9b7b7b5c",
   "metadata": {},
   "source": [
    "# Simple LSTM"
   ]
  },
  {
   "cell_type": "code",
   "execution_count": null,
   "id": "05cb2fa8",
   "metadata": {},
   "outputs": [],
   "source": [
    "def init_model():\n",
    "    metric = metrics.MAPE\n",
    "    opt = optimizers.RMSprop(learning_rate=0.01)\n",
    "    \n",
    "    normalizer = Normalization()\n",
    "    normalizer.adapt(X_train)\n",
    "\n",
    "    model = models.Sequential()\n",
    "    model.add(normalizer)\n",
    "    model.add(layers.LSTM(20, activation='tanh'))\n",
    "    model.add(layers.Dense(5, activation='relu'))\n",
    "    model.add(layers.Dense(1, activation='linear'))\n",
    "    \n",
    "    model.compile(loss='mse', \n",
    "                  optimizer=opt, \n",
    "                  metrics=[metric])\n",
    "    \n",
    "    return model"
   ]
  },
  {
   "cell_type": "markdown",
   "id": "c68876f0",
   "metadata": {},
   "source": [
    "# Stack layers"
   ]
  },
  {
   "cell_type": "code",
   "execution_count": null,
   "id": "172af9e9",
   "metadata": {},
   "outputs": [],
   "source": [
    "def init_model_2():\n",
    "    metric = metrics.MAPE\n",
    "    opt = optimizers.RMSprop(learning_rate=0.005)\n",
    "    normalizer = Normalization()\n",
    "    normalizer.adapt(X_train)\n",
    "    \n",
    "    model = models.Sequential()\n",
    "    model.add(normalizer)\n",
    "    model.add(layers.LSTM(20, return_sequences=True, activation='tanh'))\n",
    "    model.add(layers.LSTM(10, activation='tanh'))\n",
    "    model.add(layers.Dense(5, activation='relu'))\n",
    "    model.add(layers.Dense(1, activation='linear'))\n",
    "    \n",
    "    model.compile(loss='mse', \n",
    "                  optimizer=opt, \n",
    "                  metrics=[metric])\n",
    "    \n",
    "    return model\n",
    "\n",
    "model_2 = init_model_2()\n",
    "\n",
    "es = EarlyStopping(monitor='val_loss', verbose=1, patience=5, restore_best_weights=True)\n",
    "\n",
    "history_2 = model_2.fit(X_train, y_train,\n",
    "            validation_split=0.3,\n",
    "            epochs=1000, \n",
    "            batch_size=32,\n",
    "            callbacks=[es], verbose=0)"
   ]
  }
 ],
 "metadata": {
  "kernelspec": {
   "display_name": "Python 3 (ipykernel)",
   "language": "python",
   "name": "python3"
  },
  "language_info": {
   "codemirror_mode": {
    "name": "ipython",
    "version": 3
   },
   "file_extension": ".py",
   "mimetype": "text/x-python",
   "name": "python",
   "nbconvert_exporter": "python",
   "pygments_lexer": "ipython3",
   "version": "3.8.12"
  }
 },
 "nbformat": 4,
 "nbformat_minor": 5
}
